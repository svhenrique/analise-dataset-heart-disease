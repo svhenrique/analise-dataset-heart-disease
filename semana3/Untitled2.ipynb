{
  "nbformat": 4,
  "nbformat_minor": 0,
  "metadata": {
    "colab": {
      "name": "Untitled2.ipynb",
      "provenance": [],
      "collapsed_sections": [
        "thY7PzE6TbHr",
        "Z560uvqaTrTR",
        "N9L1MPHni0_c",
        "L-2Xj7tR0s3U",
        "aRi1MT0ywPom",
        "fK6wZ-MC1Bv1",
        "ssElcbQy1iX0",
        "aVw0pPTk2Vl3",
        "vE0X98E1R-u8",
        "EzT9jra_R-vE",
        "jGyCT2FLR-vm"
      ],
      "authorship_tag": "ABX9TyNJKwjmj/AXl8I/i7Oxjs0P",
      "include_colab_link": true
    },
    "kernelspec": {
      "name": "python3",
      "display_name": "Python 3"
    }
  },
  "cells": [
    {
      "cell_type": "markdown",
      "metadata": {
        "id": "view-in-github",
        "colab_type": "text"
      },
      "source": [
        "<a href=\"https://colab.research.google.com/github/svhenrique/analise-dataset-heart-disease/blob/master/semana3/Untitled2.ipynb\" target=\"_parent\"><img src=\"https://colab.research.google.com/assets/colab-badge.svg\" alt=\"Open In Colab\"/></a>"
      ]
    },
    {
      "cell_type": "markdown",
      "metadata": {
        "id": "d77vlcg0Qcyi",
        "colab_type": "text"
      },
      "source": [
        "# **Dados sobre mortalidade da insuficiênia cardíaca**\n",
        "\n",
        "\n",
        "*   O dataset contém 12 recursos que podem ser usados para prever a morte por insuficiência cardíaca.\n",
        "* [Heart Failure Prediction](https://www.kaggle.com/andrewmvd/heart-failure-clinical-data)   \n",
        "* Atributos numéricos descrevem:\n",
        "  * age\n",
        "    * idade\n",
        "  * anaemia\n",
        "    * anemia\n",
        "  * creatinine_phosphokinase\n",
        "    * creatinina fosfoquinase \n",
        "  * diabetes\n",
        "    * diabetes\n",
        "  * ejection_fraction\n",
        "    * fração de ejeção\n",
        "  * high_blood_pressure\n",
        "    * hipertensão arterial\n",
        "  * platelets\n",
        "    * plaquetas\n",
        "  * serum_creatinine\n",
        "    * creatinina sérica\n",
        "  * serum_sodium\n",
        "    * sódio sérico\n",
        "  * sex\n",
        "    * sexo\n",
        "  * smoking\n",
        "    * fumante\n",
        "  * time\n",
        "    * tempo\n",
        "  * DEATH_EVENT\n",
        "    * morte\n",
        "\n",
        "* 298 instâncias\n",
        "* Problema de classificação binária \n",
        "\n",
        "* Mais detalhes sobre a  organização e análise preliminar dos dados desse dataset\n",
        "[estão aqui](https://github.com/svhenrique/analise-dataset-heart-disease/blob/master/Untitled0.ipynb).\n",
        "\n",
        "* Mais detalhes sobre os testes feitos com Arvore de Decisão e Random Forest [estão aqui](https://github.com/svhenrique/analise-dataset-heart-disease/blob/master/semana2/Untitled1.ipynb).\n",
        "\n",
        "\n"
      ]
    },
    {
      "cell_type": "markdown",
      "metadata": {
        "id": "wFrXYvKzTWca",
        "colab_type": "text"
      },
      "source": [
        "##**1. Importando bibliotecas e métodos necessários**"
      ]
    },
    {
      "cell_type": "code",
      "metadata": {
        "id": "FCyfYZCldsY5",
        "colab_type": "code",
        "colab": {}
      },
      "source": [
        "import pandas as pd\n",
        "import matplotlib.pyplot as plt\n",
        "\n",
        "from sklearn.model_selection import train_test_split\n",
        "from sklearn.tree import DecisionTreeClassifier\n",
        "from sklearn.tree import plot_tree\n",
        "from sklearn.ensemble import RandomForestClassifier\n",
        "from sklearn.neural_network import MLPClassifier\n",
        "\n",
        "from sklearn.metrics import accuracy_score\n",
        "from sklearn.metrics import precision_score\n",
        "from sklearn.metrics import recall_score\n",
        "from sklearn.metrics import f1_score\n",
        "from sklearn.metrics import roc_curve\n",
        "from sklearn.metrics import roc_auc_score\n",
        "from sklearn.model_selection import cross_val_score\n",
        "\n",
        "from imblearn.over_sampling import RandomOverSampler "
      ],
      "execution_count": null,
      "outputs": []
    },
    {
      "cell_type": "markdown",
      "metadata": {
        "id": "thY7PzE6TbHr",
        "colab_type": "text"
      },
      "source": [
        "##**2. Lendos os dados do dataset**"
      ]
    },
    {
      "cell_type": "code",
      "metadata": {
        "id": "KllFw9UzTrg4",
        "colab_type": "code",
        "colab": {
          "base_uri": "https://localhost:8080/"
        },
        "outputId": "2b157e69-7e01-4e46-a7e4-09ecdb6d15f0"
      },
      "source": [
        "# lendo csv e armazenando em um dataframe\n",
        "dados = pd.read_csv('https://raw.githubusercontent.com/svhenrique/analise-dataset-heart-disease/master/heart_failure_clinical_records_dataset.csv')\n",
        "dados.head()"
      ],
      "execution_count": null,
      "outputs": [
        {
          "output_type": "execute_result",
          "data": {
            "text/html": [
              "<div>\n",
              "<style scoped>\n",
              "    .dataframe tbody tr th:only-of-type {\n",
              "        vertical-align: middle;\n",
              "    }\n",
              "\n",
              "    .dataframe tbody tr th {\n",
              "        vertical-align: top;\n",
              "    }\n",
              "\n",
              "    .dataframe thead th {\n",
              "        text-align: right;\n",
              "    }\n",
              "</style>\n",
              "<table border=\"1\" class=\"dataframe\">\n",
              "  <thead>\n",
              "    <tr style=\"text-align: right;\">\n",
              "      <th></th>\n",
              "      <th>age</th>\n",
              "      <th>anaemia</th>\n",
              "      <th>creatinine_phosphokinase</th>\n",
              "      <th>diabetes</th>\n",
              "      <th>ejection_fraction</th>\n",
              "      <th>high_blood_pressure</th>\n",
              "      <th>platelets</th>\n",
              "      <th>serum_creatinine</th>\n",
              "      <th>serum_sodium</th>\n",
              "      <th>sex</th>\n",
              "      <th>smoking</th>\n",
              "      <th>time</th>\n",
              "      <th>DEATH_EVENT</th>\n",
              "    </tr>\n",
              "  </thead>\n",
              "  <tbody>\n",
              "    <tr>\n",
              "      <th>0</th>\n",
              "      <td>75.0</td>\n",
              "      <td>0</td>\n",
              "      <td>582</td>\n",
              "      <td>0</td>\n",
              "      <td>20</td>\n",
              "      <td>1</td>\n",
              "      <td>265000.00</td>\n",
              "      <td>1.9</td>\n",
              "      <td>130</td>\n",
              "      <td>1</td>\n",
              "      <td>0</td>\n",
              "      <td>4</td>\n",
              "      <td>1</td>\n",
              "    </tr>\n",
              "    <tr>\n",
              "      <th>1</th>\n",
              "      <td>55.0</td>\n",
              "      <td>0</td>\n",
              "      <td>7861</td>\n",
              "      <td>0</td>\n",
              "      <td>38</td>\n",
              "      <td>0</td>\n",
              "      <td>263358.03</td>\n",
              "      <td>1.1</td>\n",
              "      <td>136</td>\n",
              "      <td>1</td>\n",
              "      <td>0</td>\n",
              "      <td>6</td>\n",
              "      <td>1</td>\n",
              "    </tr>\n",
              "    <tr>\n",
              "      <th>2</th>\n",
              "      <td>65.0</td>\n",
              "      <td>0</td>\n",
              "      <td>146</td>\n",
              "      <td>0</td>\n",
              "      <td>20</td>\n",
              "      <td>0</td>\n",
              "      <td>162000.00</td>\n",
              "      <td>1.3</td>\n",
              "      <td>129</td>\n",
              "      <td>1</td>\n",
              "      <td>1</td>\n",
              "      <td>7</td>\n",
              "      <td>1</td>\n",
              "    </tr>\n",
              "    <tr>\n",
              "      <th>3</th>\n",
              "      <td>50.0</td>\n",
              "      <td>1</td>\n",
              "      <td>111</td>\n",
              "      <td>0</td>\n",
              "      <td>20</td>\n",
              "      <td>0</td>\n",
              "      <td>210000.00</td>\n",
              "      <td>1.9</td>\n",
              "      <td>137</td>\n",
              "      <td>1</td>\n",
              "      <td>0</td>\n",
              "      <td>7</td>\n",
              "      <td>1</td>\n",
              "    </tr>\n",
              "    <tr>\n",
              "      <th>4</th>\n",
              "      <td>65.0</td>\n",
              "      <td>1</td>\n",
              "      <td>160</td>\n",
              "      <td>1</td>\n",
              "      <td>20</td>\n",
              "      <td>0</td>\n",
              "      <td>327000.00</td>\n",
              "      <td>2.7</td>\n",
              "      <td>116</td>\n",
              "      <td>0</td>\n",
              "      <td>0</td>\n",
              "      <td>8</td>\n",
              "      <td>1</td>\n",
              "    </tr>\n",
              "  </tbody>\n",
              "</table>\n",
              "</div>"
            ],
            "text/plain": [
              "    age  anaemia  creatinine_phosphokinase  ...  smoking  time  DEATH_EVENT\n",
              "0  75.0        0                       582  ...        0     4            1\n",
              "1  55.0        0                      7861  ...        0     6            1\n",
              "2  65.0        0                       146  ...        1     7            1\n",
              "3  50.0        1                       111  ...        0     7            1\n",
              "4  65.0        1                       160  ...        0     8            1\n",
              "\n",
              "[5 rows x 13 columns]"
            ]
          },
          "metadata": {
            "tags": []
          },
          "execution_count": 117
        }
      ]
    },
    {
      "cell_type": "markdown",
      "metadata": {
        "id": "Z560uvqaTrTR",
        "colab_type": "text"
      },
      "source": [
        "## **3. Limpeza e organização dos dados para modelagem**\n"
      ]
    },
    {
      "cell_type": "code",
      "metadata": {
        "id": "3l7fTZuEXBmZ",
        "colab_type": "code",
        "colab": {
          "base_uri": "https://localhost:8080/"
        },
        "outputId": "e1e8f6d0-b99e-4aba-fa2c-428e0476a92c"
      },
      "source": [
        "# excluindo colunas irrelevantes\n",
        "\n",
        "dados = dados.drop(columns=['time'])\n",
        "dados.head()"
      ],
      "execution_count": null,
      "outputs": [
        {
          "output_type": "execute_result",
          "data": {
            "text/html": [
              "<div>\n",
              "<style scoped>\n",
              "    .dataframe tbody tr th:only-of-type {\n",
              "        vertical-align: middle;\n",
              "    }\n",
              "\n",
              "    .dataframe tbody tr th {\n",
              "        vertical-align: top;\n",
              "    }\n",
              "\n",
              "    .dataframe thead th {\n",
              "        text-align: right;\n",
              "    }\n",
              "</style>\n",
              "<table border=\"1\" class=\"dataframe\">\n",
              "  <thead>\n",
              "    <tr style=\"text-align: right;\">\n",
              "      <th></th>\n",
              "      <th>age</th>\n",
              "      <th>anaemia</th>\n",
              "      <th>creatinine_phosphokinase</th>\n",
              "      <th>diabetes</th>\n",
              "      <th>ejection_fraction</th>\n",
              "      <th>high_blood_pressure</th>\n",
              "      <th>platelets</th>\n",
              "      <th>serum_creatinine</th>\n",
              "      <th>serum_sodium</th>\n",
              "      <th>sex</th>\n",
              "      <th>smoking</th>\n",
              "      <th>DEATH_EVENT</th>\n",
              "    </tr>\n",
              "  </thead>\n",
              "  <tbody>\n",
              "    <tr>\n",
              "      <th>0</th>\n",
              "      <td>75.0</td>\n",
              "      <td>0</td>\n",
              "      <td>582</td>\n",
              "      <td>0</td>\n",
              "      <td>20</td>\n",
              "      <td>1</td>\n",
              "      <td>265000.00</td>\n",
              "      <td>1.9</td>\n",
              "      <td>130</td>\n",
              "      <td>1</td>\n",
              "      <td>0</td>\n",
              "      <td>1</td>\n",
              "    </tr>\n",
              "    <tr>\n",
              "      <th>1</th>\n",
              "      <td>55.0</td>\n",
              "      <td>0</td>\n",
              "      <td>7861</td>\n",
              "      <td>0</td>\n",
              "      <td>38</td>\n",
              "      <td>0</td>\n",
              "      <td>263358.03</td>\n",
              "      <td>1.1</td>\n",
              "      <td>136</td>\n",
              "      <td>1</td>\n",
              "      <td>0</td>\n",
              "      <td>1</td>\n",
              "    </tr>\n",
              "    <tr>\n",
              "      <th>2</th>\n",
              "      <td>65.0</td>\n",
              "      <td>0</td>\n",
              "      <td>146</td>\n",
              "      <td>0</td>\n",
              "      <td>20</td>\n",
              "      <td>0</td>\n",
              "      <td>162000.00</td>\n",
              "      <td>1.3</td>\n",
              "      <td>129</td>\n",
              "      <td>1</td>\n",
              "      <td>1</td>\n",
              "      <td>1</td>\n",
              "    </tr>\n",
              "    <tr>\n",
              "      <th>3</th>\n",
              "      <td>50.0</td>\n",
              "      <td>1</td>\n",
              "      <td>111</td>\n",
              "      <td>0</td>\n",
              "      <td>20</td>\n",
              "      <td>0</td>\n",
              "      <td>210000.00</td>\n",
              "      <td>1.9</td>\n",
              "      <td>137</td>\n",
              "      <td>1</td>\n",
              "      <td>0</td>\n",
              "      <td>1</td>\n",
              "    </tr>\n",
              "    <tr>\n",
              "      <th>4</th>\n",
              "      <td>65.0</td>\n",
              "      <td>1</td>\n",
              "      <td>160</td>\n",
              "      <td>1</td>\n",
              "      <td>20</td>\n",
              "      <td>0</td>\n",
              "      <td>327000.00</td>\n",
              "      <td>2.7</td>\n",
              "      <td>116</td>\n",
              "      <td>0</td>\n",
              "      <td>0</td>\n",
              "      <td>1</td>\n",
              "    </tr>\n",
              "  </tbody>\n",
              "</table>\n",
              "</div>"
            ],
            "text/plain": [
              "    age  anaemia  creatinine_phosphokinase  ...  sex  smoking  DEATH_EVENT\n",
              "0  75.0        0                       582  ...    1        0            1\n",
              "1  55.0        0                      7861  ...    1        0            1\n",
              "2  65.0        0                       146  ...    1        1            1\n",
              "3  50.0        1                       111  ...    1        0            1\n",
              "4  65.0        1                       160  ...    0        0            1\n",
              "\n",
              "[5 rows x 12 columns]"
            ]
          },
          "metadata": {
            "tags": []
          },
          "execution_count": 118
        }
      ]
    },
    {
      "cell_type": "code",
      "metadata": {
        "id": "DjuIBa3YXLBY",
        "colab_type": "code",
        "colab": {
          "base_uri": "https://localhost:8080/"
        },
        "outputId": "e1dd529a-4080-47ad-fb67-bae0c32351c4"
      },
      "source": [
        "# verificando se existem valores NAN, ? ou dados faltantes\n",
        "dados.isna().any()"
      ],
      "execution_count": null,
      "outputs": [
        {
          "output_type": "execute_result",
          "data": {
            "text/plain": [
              "age                         False\n",
              "anaemia                     False\n",
              "creatinine_phosphokinase    False\n",
              "diabetes                    False\n",
              "ejection_fraction           False\n",
              "high_blood_pressure         False\n",
              "platelets                   False\n",
              "serum_creatinine            False\n",
              "serum_sodium                False\n",
              "sex                         False\n",
              "smoking                     False\n",
              "DEATH_EVENT                 False\n",
              "dtype: bool"
            ]
          },
          "metadata": {
            "tags": []
          },
          "execution_count": 119
        }
      ]
    },
    {
      "cell_type": "markdown",
      "metadata": {
        "id": "nMwr_aJfTnyp",
        "colab_type": "text"
      },
      "source": [
        "## **4. Re-escala dos dados**"
      ]
    },
    {
      "cell_type": "code",
      "metadata": {
        "id": "yZ0nBn5CXYki",
        "colab_type": "code",
        "colab": {
          "base_uri": "https://localhost:8080/",
          "height": 226
        },
        "outputId": "7381d17d-56aa-4e65-f642-372799dc4559"
      },
      "source": [
        "# Reescala usando máximo e mínimo\n",
        "dados = (dados - dados.min())/(dados.max()-dados.min())\n",
        "dados.head()"
      ],
      "execution_count": null,
      "outputs": [
        {
          "output_type": "execute_result",
          "data": {
            "text/html": [
              "<div>\n",
              "<style scoped>\n",
              "    .dataframe tbody tr th:only-of-type {\n",
              "        vertical-align: middle;\n",
              "    }\n",
              "\n",
              "    .dataframe tbody tr th {\n",
              "        vertical-align: top;\n",
              "    }\n",
              "\n",
              "    .dataframe thead th {\n",
              "        text-align: right;\n",
              "    }\n",
              "</style>\n",
              "<table border=\"1\" class=\"dataframe\">\n",
              "  <thead>\n",
              "    <tr style=\"text-align: right;\">\n",
              "      <th></th>\n",
              "      <th>age</th>\n",
              "      <th>anaemia</th>\n",
              "      <th>creatinine_phosphokinase</th>\n",
              "      <th>diabetes</th>\n",
              "      <th>ejection_fraction</th>\n",
              "      <th>high_blood_pressure</th>\n",
              "      <th>platelets</th>\n",
              "      <th>serum_creatinine</th>\n",
              "      <th>serum_sodium</th>\n",
              "      <th>sex</th>\n",
              "      <th>smoking</th>\n",
              "      <th>DEATH_EVENT</th>\n",
              "    </tr>\n",
              "  </thead>\n",
              "  <tbody>\n",
              "    <tr>\n",
              "      <th>0</th>\n",
              "      <td>0.636364</td>\n",
              "      <td>0.0</td>\n",
              "      <td>0.071319</td>\n",
              "      <td>0.0</td>\n",
              "      <td>0.090909</td>\n",
              "      <td>1.0</td>\n",
              "      <td>0.290823</td>\n",
              "      <td>0.157303</td>\n",
              "      <td>0.485714</td>\n",
              "      <td>1.0</td>\n",
              "      <td>0.0</td>\n",
              "      <td>1.0</td>\n",
              "    </tr>\n",
              "    <tr>\n",
              "      <th>1</th>\n",
              "      <td>0.272727</td>\n",
              "      <td>0.0</td>\n",
              "      <td>1.000000</td>\n",
              "      <td>0.0</td>\n",
              "      <td>0.363636</td>\n",
              "      <td>0.0</td>\n",
              "      <td>0.288833</td>\n",
              "      <td>0.067416</td>\n",
              "      <td>0.657143</td>\n",
              "      <td>1.0</td>\n",
              "      <td>0.0</td>\n",
              "      <td>1.0</td>\n",
              "    </tr>\n",
              "    <tr>\n",
              "      <th>2</th>\n",
              "      <td>0.454545</td>\n",
              "      <td>0.0</td>\n",
              "      <td>0.015693</td>\n",
              "      <td>0.0</td>\n",
              "      <td>0.090909</td>\n",
              "      <td>0.0</td>\n",
              "      <td>0.165960</td>\n",
              "      <td>0.089888</td>\n",
              "      <td>0.457143</td>\n",
              "      <td>1.0</td>\n",
              "      <td>1.0</td>\n",
              "      <td>1.0</td>\n",
              "    </tr>\n",
              "    <tr>\n",
              "      <th>3</th>\n",
              "      <td>0.181818</td>\n",
              "      <td>1.0</td>\n",
              "      <td>0.011227</td>\n",
              "      <td>0.0</td>\n",
              "      <td>0.090909</td>\n",
              "      <td>0.0</td>\n",
              "      <td>0.224148</td>\n",
              "      <td>0.157303</td>\n",
              "      <td>0.685714</td>\n",
              "      <td>1.0</td>\n",
              "      <td>0.0</td>\n",
              "      <td>1.0</td>\n",
              "    </tr>\n",
              "    <tr>\n",
              "      <th>4</th>\n",
              "      <td>0.454545</td>\n",
              "      <td>1.0</td>\n",
              "      <td>0.017479</td>\n",
              "      <td>1.0</td>\n",
              "      <td>0.090909</td>\n",
              "      <td>0.0</td>\n",
              "      <td>0.365984</td>\n",
              "      <td>0.247191</td>\n",
              "      <td>0.085714</td>\n",
              "      <td>0.0</td>\n",
              "      <td>0.0</td>\n",
              "      <td>1.0</td>\n",
              "    </tr>\n",
              "  </tbody>\n",
              "</table>\n",
              "</div>"
            ],
            "text/plain": [
              "        age  anaemia  creatinine_phosphokinase  ...  sex  smoking  DEATH_EVENT\n",
              "0  0.636364      0.0                  0.071319  ...  1.0      0.0          1.0\n",
              "1  0.272727      0.0                  1.000000  ...  1.0      0.0          1.0\n",
              "2  0.454545      0.0                  0.015693  ...  1.0      1.0          1.0\n",
              "3  0.181818      1.0                  0.011227  ...  1.0      0.0          1.0\n",
              "4  0.454545      1.0                  0.017479  ...  0.0      0.0          1.0\n",
              "\n",
              "[5 rows x 12 columns]"
            ]
          },
          "metadata": {
            "tags": []
          },
          "execution_count": 120
        }
      ]
    },
    {
      "cell_type": "markdown",
      "metadata": {
        "id": "fVXsC2OSz5H9",
        "colab_type": "text"
      },
      "source": [
        "# **Sem balanceamento**"
      ]
    },
    {
      "cell_type": "markdown",
      "metadata": {
        "id": "hCgwjbrqXjEY",
        "colab_type": "text"
      },
      "source": [
        "\n",
        "## **5a. Organizando dados para modelagem**\n"
      ]
    },
    {
      "cell_type": "markdown",
      "metadata": {
        "id": "MsP8KusSX1SO",
        "colab_type": "text"
      },
      "source": [
        "### **Dividindo os dados em atributos descritores e atributos de classe**"
      ]
    },
    {
      "cell_type": "code",
      "metadata": {
        "id": "P140mNIQXYg5",
        "colab_type": "code",
        "colab": {
          "base_uri": "https://localhost:8080/",
          "height": 244
        },
        "outputId": "07800fd1-40b8-4e4a-9f4d-a124dc1179c9"
      },
      "source": [
        "# X recebe os atributos descritores\n",
        "tam = len(dados.columns)\n",
        "X = dados.iloc[:,0:(tam-1)]\n",
        "print(\"Coluna apagada: \", set(dados.columns) -set(X.columns))\n",
        "X.head()"
      ],
      "execution_count": null,
      "outputs": [
        {
          "output_type": "stream",
          "text": [
            "Coluna apagada:  {'DEATH_EVENT'}\n"
          ],
          "name": "stdout"
        },
        {
          "output_type": "execute_result",
          "data": {
            "text/html": [
              "<div>\n",
              "<style scoped>\n",
              "    .dataframe tbody tr th:only-of-type {\n",
              "        vertical-align: middle;\n",
              "    }\n",
              "\n",
              "    .dataframe tbody tr th {\n",
              "        vertical-align: top;\n",
              "    }\n",
              "\n",
              "    .dataframe thead th {\n",
              "        text-align: right;\n",
              "    }\n",
              "</style>\n",
              "<table border=\"1\" class=\"dataframe\">\n",
              "  <thead>\n",
              "    <tr style=\"text-align: right;\">\n",
              "      <th></th>\n",
              "      <th>age</th>\n",
              "      <th>anaemia</th>\n",
              "      <th>creatinine_phosphokinase</th>\n",
              "      <th>diabetes</th>\n",
              "      <th>ejection_fraction</th>\n",
              "      <th>high_blood_pressure</th>\n",
              "      <th>platelets</th>\n",
              "      <th>serum_creatinine</th>\n",
              "      <th>serum_sodium</th>\n",
              "      <th>sex</th>\n",
              "      <th>smoking</th>\n",
              "    </tr>\n",
              "  </thead>\n",
              "  <tbody>\n",
              "    <tr>\n",
              "      <th>0</th>\n",
              "      <td>0.636364</td>\n",
              "      <td>0.0</td>\n",
              "      <td>0.071319</td>\n",
              "      <td>0.0</td>\n",
              "      <td>0.090909</td>\n",
              "      <td>1.0</td>\n",
              "      <td>0.290823</td>\n",
              "      <td>0.157303</td>\n",
              "      <td>0.485714</td>\n",
              "      <td>1.0</td>\n",
              "      <td>0.0</td>\n",
              "    </tr>\n",
              "    <tr>\n",
              "      <th>1</th>\n",
              "      <td>0.272727</td>\n",
              "      <td>0.0</td>\n",
              "      <td>1.000000</td>\n",
              "      <td>0.0</td>\n",
              "      <td>0.363636</td>\n",
              "      <td>0.0</td>\n",
              "      <td>0.288833</td>\n",
              "      <td>0.067416</td>\n",
              "      <td>0.657143</td>\n",
              "      <td>1.0</td>\n",
              "      <td>0.0</td>\n",
              "    </tr>\n",
              "    <tr>\n",
              "      <th>2</th>\n",
              "      <td>0.454545</td>\n",
              "      <td>0.0</td>\n",
              "      <td>0.015693</td>\n",
              "      <td>0.0</td>\n",
              "      <td>0.090909</td>\n",
              "      <td>0.0</td>\n",
              "      <td>0.165960</td>\n",
              "      <td>0.089888</td>\n",
              "      <td>0.457143</td>\n",
              "      <td>1.0</td>\n",
              "      <td>1.0</td>\n",
              "    </tr>\n",
              "    <tr>\n",
              "      <th>3</th>\n",
              "      <td>0.181818</td>\n",
              "      <td>1.0</td>\n",
              "      <td>0.011227</td>\n",
              "      <td>0.0</td>\n",
              "      <td>0.090909</td>\n",
              "      <td>0.0</td>\n",
              "      <td>0.224148</td>\n",
              "      <td>0.157303</td>\n",
              "      <td>0.685714</td>\n",
              "      <td>1.0</td>\n",
              "      <td>0.0</td>\n",
              "    </tr>\n",
              "    <tr>\n",
              "      <th>4</th>\n",
              "      <td>0.454545</td>\n",
              "      <td>1.0</td>\n",
              "      <td>0.017479</td>\n",
              "      <td>1.0</td>\n",
              "      <td>0.090909</td>\n",
              "      <td>0.0</td>\n",
              "      <td>0.365984</td>\n",
              "      <td>0.247191</td>\n",
              "      <td>0.085714</td>\n",
              "      <td>0.0</td>\n",
              "      <td>0.0</td>\n",
              "    </tr>\n",
              "  </tbody>\n",
              "</table>\n",
              "</div>"
            ],
            "text/plain": [
              "        age  anaemia  creatinine_phosphokinase  ...  serum_sodium  sex  smoking\n",
              "0  0.636364      0.0                  0.071319  ...      0.485714  1.0      0.0\n",
              "1  0.272727      0.0                  1.000000  ...      0.657143  1.0      0.0\n",
              "2  0.454545      0.0                  0.015693  ...      0.457143  1.0      1.0\n",
              "3  0.181818      1.0                  0.011227  ...      0.685714  1.0      0.0\n",
              "4  0.454545      1.0                  0.017479  ...      0.085714  0.0      0.0\n",
              "\n",
              "[5 rows x 11 columns]"
            ]
          },
          "metadata": {
            "tags": []
          },
          "execution_count": 121
        }
      ]
    },
    {
      "cell_type": "code",
      "metadata": {
        "id": "Cmm3gEkCYJz7",
        "colab_type": "code",
        "colab": {
          "base_uri": "https://localhost:8080/",
          "height": 235
        },
        "outputId": "265975e3-78cb-41dc-a367-d4e959c7cb0c"
      },
      "source": [
        "# y recebe o atributo de classe (target)\n",
        "y = dados.DEATH_EVENT\n",
        "y"
      ],
      "execution_count": null,
      "outputs": [
        {
          "output_type": "execute_result",
          "data": {
            "text/plain": [
              "0      1.0\n",
              "1      1.0\n",
              "2      1.0\n",
              "3      1.0\n",
              "4      1.0\n",
              "      ... \n",
              "294    0.0\n",
              "295    0.0\n",
              "296    0.0\n",
              "297    0.0\n",
              "298    0.0\n",
              "Name: DEATH_EVENT, Length: 299, dtype: float64"
            ]
          },
          "metadata": {
            "tags": []
          },
          "execution_count": 122
        }
      ]
    },
    {
      "cell_type": "markdown",
      "metadata": {
        "id": "7_XbOhfDYZMR",
        "colab_type": "text"
      },
      "source": [
        "### **Dividindo os dados em treino e teste**"
      ]
    },
    {
      "cell_type": "code",
      "metadata": {
        "id": "yoGsVAtEYTaY",
        "colab_type": "code",
        "colab": {}
      },
      "source": [
        "# 20% dos dados serão para teste \n",
        "# X_train e y_train serão para treino\n",
        "# X_test e y_test serão para teste\n",
        "\n",
        "X_train, X_test, y_train, y_test = train_test_split(X,y, test_size=0.2)"
      ],
      "execution_count": null,
      "outputs": []
    },
    {
      "cell_type": "markdown",
      "metadata": {
        "id": "Eol6cKBzzFl6",
        "colab_type": "text"
      },
      "source": [
        ""
      ]
    },
    {
      "cell_type": "markdown",
      "metadata": {
        "id": "ppiZGrOyanVl",
        "colab_type": "text"
      },
      "source": [
        "## **6a. Definindo algoritmo de aprendizado**\n"
      ]
    },
    {
      "cell_type": "markdown",
      "metadata": {
        "id": "ysSRwfDbaw9q",
        "colab_type": "text"
      },
      "source": [
        "### **Rede Neural Multi-Layer Perceptron (MLP)**"
      ]
    },
    {
      "cell_type": "code",
      "metadata": {
        "id": "481mszk8dPW6",
        "colab_type": "code",
        "colab": {}
      },
      "source": [
        "# definindo modelo\n",
        "rede = MLPClassifier(hidden_layer_sizes=(150),activation='logistic',max_iter=1000)"
      ],
      "execution_count": null,
      "outputs": []
    },
    {
      "cell_type": "code",
      "metadata": {
        "id": "W-WlV1AUdrGv",
        "colab_type": "code",
        "colab": {
          "base_uri": "https://localhost:8080/",
          "height": 163
        },
        "outputId": "6134c506-ace2-4958-913e-885e56f89eb5"
      },
      "source": [
        "# treinando modelo\n",
        "rede.fit(X_train,y_train)"
      ],
      "execution_count": null,
      "outputs": [
        {
          "output_type": "execute_result",
          "data": {
            "text/plain": [
              "MLPClassifier(activation='logistic', alpha=0.0001, batch_size='auto',\n",
              "              beta_1=0.9, beta_2=0.999, early_stopping=False, epsilon=1e-08,\n",
              "              hidden_layer_sizes=150, learning_rate='constant',\n",
              "              learning_rate_init=0.001, max_fun=15000, max_iter=1000,\n",
              "              momentum=0.9, n_iter_no_change=10, nesterovs_momentum=True,\n",
              "              power_t=0.5, random_state=None, shuffle=True, solver='adam',\n",
              "              tol=0.0001, validation_fraction=0.1, verbose=False,\n",
              "              warm_start=False)"
            ]
          },
          "metadata": {
            "tags": []
          },
          "execution_count": 125
        }
      ]
    },
    {
      "cell_type": "code",
      "metadata": {
        "id": "uJ5Gcw_2d1Bt",
        "colab_type": "code",
        "colab": {
          "base_uri": "https://localhost:8080/",
          "height": 90
        },
        "outputId": "66e5f6ed-159f-41b7-fc21-37b6e83d0e4b"
      },
      "source": [
        "# realizando classificação\n",
        "rede = rede.predict(X_test)\n",
        "rede"
      ],
      "execution_count": null,
      "outputs": [
        {
          "output_type": "execute_result",
          "data": {
            "text/plain": [
              "array([0., 0., 1., 0., 1., 1., 0., 0., 0., 0., 0., 0., 1., 1., 0., 0., 1.,\n",
              "       0., 0., 0., 0., 0., 0., 0., 0., 0., 0., 0., 0., 0., 0., 1., 1., 0.,\n",
              "       1., 0., 0., 0., 0., 0., 1., 0., 0., 0., 0., 1., 0., 0., 0., 0., 0.,\n",
              "       0., 0., 0., 1., 1., 0., 1., 1., 0.])"
            ]
          },
          "metadata": {
            "tags": []
          },
          "execution_count": 126
        }
      ]
    },
    {
      "cell_type": "markdown",
      "metadata": {
        "id": "e-9vyDe2d982",
        "colab_type": "text"
      },
      "source": [
        "## **7a. Avaliando classificador**"
      ]
    },
    {
      "cell_type": "code",
      "metadata": {
        "id": "tdmyq7PteM2H",
        "colab_type": "code",
        "colab": {
          "base_uri": "https://localhost:8080/",
          "height": 35
        },
        "outputId": "a7b163ff-1775-465f-efb4-b58803a4b671"
      },
      "source": [
        "# calculando acurácia\n",
        "acuracia = accuracy_score(y_test,rede)\n",
        "acuracia"
      ],
      "execution_count": null,
      "outputs": [
        {
          "output_type": "execute_result",
          "data": {
            "text/plain": [
              "0.7666666666666667"
            ]
          },
          "metadata": {
            "tags": []
          },
          "execution_count": 127
        }
      ]
    },
    {
      "cell_type": "code",
      "metadata": {
        "id": "A6hA6KmgeeVN",
        "colab_type": "code",
        "colab": {
          "base_uri": "https://localhost:8080/",
          "height": 35
        },
        "outputId": "43b858fb-5fdf-451a-aee9-e697a9f52945"
      },
      "source": [
        "# calculando precisão\n",
        "precisao = precision_score(y_test, rede)\n",
        "precisao"
      ],
      "execution_count": null,
      "outputs": [
        {
          "output_type": "execute_result",
          "data": {
            "text/plain": [
              "0.5333333333333333"
            ]
          },
          "metadata": {
            "tags": []
          },
          "execution_count": 128
        }
      ]
    },
    {
      "cell_type": "code",
      "metadata": {
        "id": "eIND3icVeoi1",
        "colab_type": "code",
        "colab": {
          "base_uri": "https://localhost:8080/",
          "height": 35
        },
        "outputId": "ca855752-7a36-419e-ad54-c47d7770cce6"
      },
      "source": [
        "# calculando recall\n",
        "recall = recall_score(y_test, rede)\n",
        "recall"
      ],
      "execution_count": null,
      "outputs": [
        {
          "output_type": "execute_result",
          "data": {
            "text/plain": [
              "0.5333333333333333"
            ]
          },
          "metadata": {
            "tags": []
          },
          "execution_count": 129
        }
      ]
    },
    {
      "cell_type": "code",
      "metadata": {
        "id": "x6WFLt5Zg9xu",
        "colab_type": "code",
        "colab": {
          "base_uri": "https://localhost:8080/",
          "height": 35
        },
        "outputId": "d72f5049-0167-4346-f068-70053d041677"
      },
      "source": [
        "# calculando f1-score\n",
        "f1 = f1_score(y_test,rede)\n",
        "f1"
      ],
      "execution_count": null,
      "outputs": [
        {
          "output_type": "execute_result",
          "data": {
            "text/plain": [
              "0.5333333333333333"
            ]
          },
          "metadata": {
            "tags": []
          },
          "execution_count": 130
        }
      ]
    },
    {
      "cell_type": "code",
      "metadata": {
        "id": "uarvX2yphdK9",
        "colab_type": "code",
        "colab": {
          "base_uri": "https://localhost:8080/",
          "height": 313
        },
        "outputId": "f658d347-3533-45e6-cb43-8345235070b2"
      },
      "source": [
        "fpr, tpr, _ = roc_curve(y_test,rede)\n",
        "plt.plot(fpr,tpr,marker='.')\n",
        "plt.title('Curva ROC')\n",
        "plt.xlabel('Taxa de Falsos Positivos')\n",
        "plt.ylabel('Taxa de Verdadeiro Positivos')\n",
        "plt.show()\n",
        "print(f\"Área sobre a curva: {roc_auc_score(y_test,rede)}\")"
      ],
      "execution_count": null,
      "outputs": [
        {
          "output_type": "display_data",
          "data": {
            "image/png": "[encoded data removed]",
            "text/plain": [
              "<Figure size 432x288 with 1 Axes>"
            ]
          },
          "metadata": {
            "tags": [],
            "needs_background": "light"
          }
        },
        {
          "output_type": "stream",
          "text": [
            "Área sobre a curva: 0.6888888888888888\n"
          ],
          "name": "stdout"
        }
      ]
    },
    {
      "cell_type": "markdown",
      "metadata": {
        "id": "N9L1MPHni0_c",
        "colab_type": "text"
      },
      "source": [
        "### **Validação cruzada**"
      ]
    },
    {
      "cell_type": "code",
      "metadata": {
        "id": "LVQb66y93oIe",
        "colab_type": "code",
        "colab": {}
      },
      "source": [
        "# definindo modelo\n",
        "rede = MLPClassifier(hidden_layer_sizes=(150),activation='logistic',max_iter=1000)"
      ],
      "execution_count": null,
      "outputs": []
    },
    {
      "cell_type": "code",
      "metadata": {
        "id": "LGNIeY_O3xHM",
        "colab_type": "code",
        "colab": {
          "base_uri": "https://localhost:8080/",
          "height": 53
        },
        "outputId": "1cedcb3a-ed16-4635-8f65-0fc7657114df"
      },
      "source": [
        "# calculando os scores\n",
        "scores = cross_val_score(rede,X,y,cv=10)\n",
        "scores"
      ],
      "execution_count": null,
      "outputs": [
        {
          "output_type": "execute_result",
          "data": {
            "text/plain": [
              "array([0.7       , 0.66666667, 0.76666667, 0.66666667, 0.83333333,\n",
              "       0.63333333, 0.73333333, 0.83333333, 0.83333333, 0.75862069])"
            ]
          },
          "metadata": {
            "tags": []
          },
          "execution_count": 133
        }
      ]
    },
    {
      "cell_type": "code",
      "metadata": {
        "id": "DOP602iK4C7m",
        "colab_type": "code",
        "colab": {
          "base_uri": "https://localhost:8080/",
          "height": 35
        },
        "outputId": "5a64ed44-f4e7-4616-f3d8-44fcf953493e"
      },
      "source": [
        "scores.mean(), scores.std()"
      ],
      "execution_count": null,
      "outputs": [
        {
          "output_type": "execute_result",
          "data": {
            "text/plain": [
              "(0.7425287356321839, 0.07134774507052186)"
            ]
          },
          "metadata": {
            "tags": []
          },
          "execution_count": 134
        }
      ]
    },
    {
      "cell_type": "markdown",
      "metadata": {
        "id": "orlr5Rov4RS-",
        "colab_type": "text"
      },
      "source": [
        "## **8a. Comparando MLP com Árvore de Decisão e Random Forest**"
      ]
    },
    {
      "cell_type": "markdown",
      "metadata": {
        "id": "1VZlQ3f_xWm3",
        "colab_type": "text"
      },
      "source": [
        ""
      ]
    },
    {
      "cell_type": "code",
      "metadata": {
        "id": "2vwm0caZ4HjO",
        "colab_type": "code",
        "colab": {}
      },
      "source": [
        "# criando árvore\n",
        "arvore = DecisionTreeClassifier()\n",
        "\n",
        "# calculando os scores com cross validati\n",
        "scores_arvore = cross_val_score(arvore,X,y,cv=10)"
      ],
      "execution_count": null,
      "outputs": []
    },
    {
      "cell_type": "code",
      "metadata": {
        "id": "dma_8hzSxen_",
        "colab_type": "code",
        "colab": {}
      },
      "source": [
        "#criando random forest\n",
        "floresta = RandomForestClassifier()\n",
        "\n",
        "#calculando os scores com cross validation\n",
        "scores_floresta = cross_val_score(floresta,X,y,cv=10)"
      ],
      "execution_count": null,
      "outputs": []
    },
    {
      "cell_type": "code",
      "metadata": {
        "id": "cfF9tiMaxhy-",
        "colab_type": "code",
        "colab": {}
      },
      "source": [
        "#criando rede neural\n",
        "rede = MLPClassifier(hidden_layer_sizes=(100),activation='logistic',max_iter=1000)\n",
        "\n",
        "#calculando os scores com cross validation\n",
        "scores_rede = cross_val_score(rede,X,y,cv=10)"
      ],
      "execution_count": null,
      "outputs": []
    },
    {
      "cell_type": "code",
      "metadata": {
        "id": "GPkgWBCGxnMm",
        "colab_type": "code",
        "colab": {
          "base_uri": "https://localhost:8080/",
          "height": 72
        },
        "outputId": "70a334f8-4285-4b7f-aa43-3a27ed437d3c"
      },
      "source": [
        "print('Árvore de Decisão: ', round(scores_arvore.mean(),3),round(scores_arvore.std(),3))\n",
        "print('Random Forest: ', round(scores.mean(),3),round(scores.std(),3))\n",
        "print('MLP:', round(scores_rede.mean(),3),round(scores_rede.std(),3))"
      ],
      "execution_count": null,
      "outputs": [
        {
          "output_type": "stream",
          "text": [
            "Árvore de Decisão:  0.692 0.067\n",
            "Random Forest:  0.743 0.071\n",
            "MLP: 0.736 0.07\n"
          ],
          "name": "stdout"
        }
      ]
    },
    {
      "cell_type": "markdown",
      "metadata": {
        "id": "DsrbZpXkzQ5H",
        "colab_type": "text"
      },
      "source": [
        "# **Com balanceamento**"
      ]
    },
    {
      "cell_type": "markdown",
      "metadata": {
        "id": "xXArIVrkz9x3",
        "colab_type": "text"
      },
      "source": [
        "## **5b. Organizando dados para modelagem**"
      ]
    },
    {
      "cell_type": "markdown",
      "metadata": {
        "id": "TQbPVg9FwBGe",
        "colab_type": "text"
      },
      "source": [
        "\n",
        "\n",
        "---\n",
        "\n",
        "\n",
        "Para balancear os meus dados, eu usarei uma estratégia baseada no *Under-Sampling*, que é uma técnica para balancear os dados e consiste em reduzir o número de instâncias da classe majoritária. Seguirei esses passos:\n",
        "\n",
        "\n",
        "1.   Separar as classes em dois dataframes diferentes.\n",
        "\n",
        "2.   Tirar da classe majoritária um valor X, tal que X é igual a diferença entre o número de instâncias das duas classes.\n",
        "\n",
        "3. Guardar as instâncias que foram \"removidas\" em outro dataframe.\n",
        "\n",
        "4. Juntar os dataframes, que antes foram separados, em um.\n",
        "\n",
        "5.   Treinar e testar os classificadores com o dataframe, que agora está balanceado.\n",
        "6.   Testar os classificadores com o dataframe extra formado pelas instâncias removidas.\n",
        "\n",
        "Se os testes feitos tiverem um bom resultado, significa que o desbalanceamento das instâncias era o motivo das métricas de avaliação estarem baixas.\n",
        "\n",
        "\n",
        "\n",
        "\n",
        "\n",
        "\n",
        "\n",
        "\n",
        "---"
      ]
    },
    {
      "cell_type": "markdown",
      "metadata": {
        "id": "BiKaRL612KbF",
        "colab_type": "text"
      },
      "source": [
        "### **Balanceando e organizando dados**"
      ]
    },
    {
      "cell_type": "code",
      "metadata": {
        "id": "IyuSeEMSpSyJ",
        "colab_type": "code",
        "colab": {}
      },
      "source": [
        "# separando dataframe em duas classes baseado na coluna DEATH_EVENT\n",
        "class_0 = dados[dados['DEATH_EVENT'] == 0]\n",
        "class_1 = dados[dados['DEATH_EVENT'] == 1]"
      ],
      "execution_count": null,
      "outputs": []
    },
    {
      "cell_type": "code",
      "metadata": {
        "id": "q45f3XFjp2p7",
        "colab_type": "code",
        "colab": {
          "base_uri": "https://localhost:8080/",
          "height": 281
        },
        "outputId": "02c4a1c7-2c61-4366-e5da-28e3b667c272"
      },
      "source": [
        "# gráfico de barras que mostra as classes desbalanceadas\n",
        "plt.bar(['vivos', 'mortos'], [class_0.DEATH_EVENT.count(), class_1.DEATH_EVENT.count()])\n",
        "plt.ylabel('Pessoas')\n",
        "plt.title('Ocorrências das Classes')\n",
        "plt.grid(True)\n",
        "plt.show()"
      ],
      "execution_count": null,
      "outputs": [
        {
          "output_type": "display_data",
          "data": {
            "image/png": "[encoded data removed]",
            "text/plain": [
              "<Figure size 432x288 with 1 Axes>"
            ]
          },
          "metadata": {
            "tags": [],
            "needs_background": "light"
          }
        }
      ]
    },
    {
      "cell_type": "markdown",
      "metadata": {
        "id": "zlQw365Asizn",
        "colab_type": "text"
      },
      "source": [
        "\n",
        "\n",
        "---\n",
        "\n",
        "Separando dataframe dae class_0, pois tem o maior número de instâncias, em dois dataframes, sendo que, class_0a terá o mesmo número de instâncias que class_1 e será usado para treino e teste. O class_0b será usado apenas para teste, se o teste possuir uma quantidade de acertos \"boa\", significa que não houve grande perca de informações, então, o classificador e o método para balanço das classes foi um sucesso.\n",
        "\n",
        "\n",
        "---\n",
        "\n"
      ]
    },
    {
      "cell_type": "code",
      "metadata": {
        "id": "nXkJGzcNrQe3",
        "colab_type": "code",
        "colab": {}
      },
      "source": [
        "# separando class_0\n",
        "class_0a = class_0[:96]\n",
        "class_0b = class_0[96:]"
      ],
      "execution_count": null,
      "outputs": []
    },
    {
      "cell_type": "code",
      "metadata": {
        "id": "UgqpC8tW0FTG",
        "colab_type": "code",
        "colab": {
          "base_uri": "https://localhost:8080/",
          "height": 282
        },
        "outputId": "1489fcf3-97d4-4e92-aece-0d18562fa676"
      },
      "source": [
        "# gráfico de barras que mostra as classes derivadas de class_0a\n",
        "plt.bar(['class_0a', 'class_0b'], [class_0a.DEATH_EVENT.count(), class_0b.DEATH_EVENT.count()])\n",
        "plt.ylabel('Pessoas')\n",
        "plt.title('Ocorrências das Classes')\n",
        "plt.grid(True)\n",
        "plt.show()"
      ],
      "execution_count": null,
      "outputs": [
        {
          "output_type": "display_data",
          "data": {
            "image/png": "[encoded data removed]",
            "text/plain": [
              "<Figure size 432x288 with 1 Axes>"
            ]
          },
          "metadata": {
            "tags": [],
            "needs_background": "light"
          }
        }
      ]
    },
    {
      "cell_type": "code",
      "metadata": {
        "id": "Y0zH43o3w0J-",
        "colab_type": "code",
        "colab": {
          "base_uri": "https://localhost:8080/",
          "height": 444
        },
        "outputId": "b0a183e7-44c0-4be2-d553-11e88af2dbf3"
      },
      "source": [
        "# juntando os dados \n",
        "dados_balanceados = pd.concat([class_0a, class_1])\n",
        "dados_balanceados"
      ],
      "execution_count": null,
      "outputs": [
        {
          "output_type": "execute_result",
          "data": {
            "text/html": [
              "<div>\n",
              "<style scoped>\n",
              "    .dataframe tbody tr th:only-of-type {\n",
              "        vertical-align: middle;\n",
              "    }\n",
              "\n",
              "    .dataframe tbody tr th {\n",
              "        vertical-align: top;\n",
              "    }\n",
              "\n",
              "    .dataframe thead th {\n",
              "        text-align: right;\n",
              "    }\n",
              "</style>\n",
              "<table border=\"1\" class=\"dataframe\">\n",
              "  <thead>\n",
              "    <tr style=\"text-align: right;\">\n",
              "      <th></th>\n",
              "      <th>age</th>\n",
              "      <th>anaemia</th>\n",
              "      <th>creatinine_phosphokinase</th>\n",
              "      <th>diabetes</th>\n",
              "      <th>ejection_fraction</th>\n",
              "      <th>high_blood_pressure</th>\n",
              "      <th>platelets</th>\n",
              "      <th>serum_creatinine</th>\n",
              "      <th>serum_sodium</th>\n",
              "      <th>sex</th>\n",
              "      <th>smoking</th>\n",
              "      <th>DEATH_EVENT</th>\n",
              "    </tr>\n",
              "  </thead>\n",
              "  <tbody>\n",
              "    <tr>\n",
              "      <th>14</th>\n",
              "      <td>0.163636</td>\n",
              "      <td>1.0</td>\n",
              "      <td>0.007272</td>\n",
              "      <td>0.0</td>\n",
              "      <td>0.242424</td>\n",
              "      <td>1.0</td>\n",
              "      <td>0.487211</td>\n",
              "      <td>0.056180</td>\n",
              "      <td>0.714286</td>\n",
              "      <td>0.0</td>\n",
              "      <td>0.0</td>\n",
              "      <td>0.0</td>\n",
              "    </tr>\n",
              "    <tr>\n",
              "      <th>20</th>\n",
              "      <td>0.454545</td>\n",
              "      <td>1.0</td>\n",
              "      <td>0.003700</td>\n",
              "      <td>0.0</td>\n",
              "      <td>0.166667</td>\n",
              "      <td>1.0</td>\n",
              "      <td>0.304158</td>\n",
              "      <td>0.089888</td>\n",
              "      <td>0.685714</td>\n",
              "      <td>0.0</td>\n",
              "      <td>0.0</td>\n",
              "      <td>0.0</td>\n",
              "    </tr>\n",
              "    <tr>\n",
              "      <th>23</th>\n",
              "      <td>0.236364</td>\n",
              "      <td>0.0</td>\n",
              "      <td>0.005103</td>\n",
              "      <td>1.0</td>\n",
              "      <td>0.696970</td>\n",
              "      <td>0.0</td>\n",
              "      <td>0.415687</td>\n",
              "      <td>0.033708</td>\n",
              "      <td>0.628571</td>\n",
              "      <td>1.0</td>\n",
              "      <td>0.0</td>\n",
              "      <td>0.0</td>\n",
              "    </tr>\n",
              "    <tr>\n",
              "      <th>33</th>\n",
              "      <td>0.181818</td>\n",
              "      <td>1.0</td>\n",
              "      <td>0.017351</td>\n",
              "      <td>1.0</td>\n",
              "      <td>0.242424</td>\n",
              "      <td>0.0</td>\n",
              "      <td>0.335677</td>\n",
              "      <td>0.078652</td>\n",
              "      <td>0.714286</td>\n",
              "      <td>0.0</td>\n",
              "      <td>0.0</td>\n",
              "      <td>0.0</td>\n",
              "    </tr>\n",
              "    <tr>\n",
              "      <th>38</th>\n",
              "      <td>0.363636</td>\n",
              "      <td>0.0</td>\n",
              "      <td>0.335928</td>\n",
              "      <td>1.0</td>\n",
              "      <td>0.242424</td>\n",
              "      <td>0.0</td>\n",
              "      <td>0.339314</td>\n",
              "      <td>0.202247</td>\n",
              "      <td>0.685714</td>\n",
              "      <td>1.0</td>\n",
              "      <td>0.0</td>\n",
              "      <td>0.0</td>\n",
              "    </tr>\n",
              "    <tr>\n",
              "      <th>...</th>\n",
              "      <td>...</td>\n",
              "      <td>...</td>\n",
              "      <td>...</td>\n",
              "      <td>...</td>\n",
              "      <td>...</td>\n",
              "      <td>...</td>\n",
              "      <td>...</td>\n",
              "      <td>...</td>\n",
              "      <td>...</td>\n",
              "      <td>...</td>\n",
              "      <td>...</td>\n",
              "      <td>...</td>\n",
              "    </tr>\n",
              "    <tr>\n",
              "      <th>220</th>\n",
              "      <td>0.600000</td>\n",
              "      <td>0.0</td>\n",
              "      <td>0.071319</td>\n",
              "      <td>0.0</td>\n",
              "      <td>0.090909</td>\n",
              "      <td>0.0</td>\n",
              "      <td>0.288833</td>\n",
              "      <td>0.149438</td>\n",
              "      <td>0.600000</td>\n",
              "      <td>1.0</td>\n",
              "      <td>0.0</td>\n",
              "      <td>1.0</td>\n",
              "    </tr>\n",
              "    <tr>\n",
              "      <th>230</th>\n",
              "      <td>0.363636</td>\n",
              "      <td>0.0</td>\n",
              "      <td>0.018244</td>\n",
              "      <td>0.0</td>\n",
              "      <td>0.242424</td>\n",
              "      <td>0.0</td>\n",
              "      <td>0.044733</td>\n",
              "      <td>0.134831</td>\n",
              "      <td>0.400000</td>\n",
              "      <td>0.0</td>\n",
              "      <td>0.0</td>\n",
              "      <td>1.0</td>\n",
              "    </tr>\n",
              "    <tr>\n",
              "      <th>246</th>\n",
              "      <td>0.272727</td>\n",
              "      <td>0.0</td>\n",
              "      <td>0.254402</td>\n",
              "      <td>0.0</td>\n",
              "      <td>0.166667</td>\n",
              "      <td>0.0</td>\n",
              "      <td>0.350224</td>\n",
              "      <td>0.067416</td>\n",
              "      <td>0.714286</td>\n",
              "      <td>1.0</td>\n",
              "      <td>0.0</td>\n",
              "      <td>1.0</td>\n",
              "    </tr>\n",
              "    <tr>\n",
              "      <th>262</th>\n",
              "      <td>0.454545</td>\n",
              "      <td>1.0</td>\n",
              "      <td>0.029982</td>\n",
              "      <td>1.0</td>\n",
              "      <td>0.166667</td>\n",
              "      <td>0.0</td>\n",
              "      <td>0.209601</td>\n",
              "      <td>0.101124</td>\n",
              "      <td>0.457143</td>\n",
              "      <td>1.0</td>\n",
              "      <td>0.0</td>\n",
              "      <td>1.0</td>\n",
              "    </tr>\n",
              "    <tr>\n",
              "      <th>266</th>\n",
              "      <td>0.272727</td>\n",
              "      <td>0.0</td>\n",
              "      <td>0.150038</td>\n",
              "      <td>0.0</td>\n",
              "      <td>0.090909</td>\n",
              "      <td>0.0</td>\n",
              "      <td>0.288833</td>\n",
              "      <td>0.149438</td>\n",
              "      <td>0.600000</td>\n",
              "      <td>1.0</td>\n",
              "      <td>1.0</td>\n",
              "      <td>1.0</td>\n",
              "    </tr>\n",
              "  </tbody>\n",
              "</table>\n",
              "<p>192 rows × 12 columns</p>\n",
              "</div>"
            ],
            "text/plain": [
              "          age  anaemia  creatinine_phosphokinase  ...  sex  smoking  DEATH_EVENT\n",
              "14   0.163636      1.0                  0.007272  ...  0.0      0.0          0.0\n",
              "20   0.454545      1.0                  0.003700  ...  0.0      0.0          0.0\n",
              "23   0.236364      0.0                  0.005103  ...  1.0      0.0          0.0\n",
              "33   0.181818      1.0                  0.017351  ...  0.0      0.0          0.0\n",
              "38   0.363636      0.0                  0.335928  ...  1.0      0.0          0.0\n",
              "..        ...      ...                       ...  ...  ...      ...          ...\n",
              "220  0.600000      0.0                  0.071319  ...  1.0      0.0          1.0\n",
              "230  0.363636      0.0                  0.018244  ...  0.0      0.0          1.0\n",
              "246  0.272727      0.0                  0.254402  ...  1.0      0.0          1.0\n",
              "262  0.454545      1.0                  0.029982  ...  1.0      0.0          1.0\n",
              "266  0.272727      0.0                  0.150038  ...  1.0      1.0          1.0\n",
              "\n",
              "[192 rows x 12 columns]"
            ]
          },
          "metadata": {
            "tags": []
          },
          "execution_count": 143
        }
      ]
    },
    {
      "cell_type": "code",
      "metadata": {
        "id": "Mq_ZGbGZxxdA",
        "colab_type": "code",
        "colab": {
          "base_uri": "https://localhost:8080/",
          "height": 226
        },
        "outputId": "0a776c78-f93d-44ab-e44b-9ca85adf6238"
      },
      "source": [
        "# X2 recebe os atributos descritores\n",
        "tam2 = len(dados_balanceados.columns)\n",
        "X2 = dados_balanceados.iloc[:,0:(tam2-1)]\n",
        "X2.head()"
      ],
      "execution_count": null,
      "outputs": [
        {
          "output_type": "execute_result",
          "data": {
            "text/html": [
              "<div>\n",
              "<style scoped>\n",
              "    .dataframe tbody tr th:only-of-type {\n",
              "        vertical-align: middle;\n",
              "    }\n",
              "\n",
              "    .dataframe tbody tr th {\n",
              "        vertical-align: top;\n",
              "    }\n",
              "\n",
              "    .dataframe thead th {\n",
              "        text-align: right;\n",
              "    }\n",
              "</style>\n",
              "<table border=\"1\" class=\"dataframe\">\n",
              "  <thead>\n",
              "    <tr style=\"text-align: right;\">\n",
              "      <th></th>\n",
              "      <th>age</th>\n",
              "      <th>anaemia</th>\n",
              "      <th>creatinine_phosphokinase</th>\n",
              "      <th>diabetes</th>\n",
              "      <th>ejection_fraction</th>\n",
              "      <th>high_blood_pressure</th>\n",
              "      <th>platelets</th>\n",
              "      <th>serum_creatinine</th>\n",
              "      <th>serum_sodium</th>\n",
              "      <th>sex</th>\n",
              "      <th>smoking</th>\n",
              "    </tr>\n",
              "  </thead>\n",
              "  <tbody>\n",
              "    <tr>\n",
              "      <th>14</th>\n",
              "      <td>0.163636</td>\n",
              "      <td>1.0</td>\n",
              "      <td>0.007272</td>\n",
              "      <td>0.0</td>\n",
              "      <td>0.242424</td>\n",
              "      <td>1.0</td>\n",
              "      <td>0.487211</td>\n",
              "      <td>0.056180</td>\n",
              "      <td>0.714286</td>\n",
              "      <td>0.0</td>\n",
              "      <td>0.0</td>\n",
              "    </tr>\n",
              "    <tr>\n",
              "      <th>20</th>\n",
              "      <td>0.454545</td>\n",
              "      <td>1.0</td>\n",
              "      <td>0.003700</td>\n",
              "      <td>0.0</td>\n",
              "      <td>0.166667</td>\n",
              "      <td>1.0</td>\n",
              "      <td>0.304158</td>\n",
              "      <td>0.089888</td>\n",
              "      <td>0.685714</td>\n",
              "      <td>0.0</td>\n",
              "      <td>0.0</td>\n",
              "    </tr>\n",
              "    <tr>\n",
              "      <th>23</th>\n",
              "      <td>0.236364</td>\n",
              "      <td>0.0</td>\n",
              "      <td>0.005103</td>\n",
              "      <td>1.0</td>\n",
              "      <td>0.696970</td>\n",
              "      <td>0.0</td>\n",
              "      <td>0.415687</td>\n",
              "      <td>0.033708</td>\n",
              "      <td>0.628571</td>\n",
              "      <td>1.0</td>\n",
              "      <td>0.0</td>\n",
              "    </tr>\n",
              "    <tr>\n",
              "      <th>33</th>\n",
              "      <td>0.181818</td>\n",
              "      <td>1.0</td>\n",
              "      <td>0.017351</td>\n",
              "      <td>1.0</td>\n",
              "      <td>0.242424</td>\n",
              "      <td>0.0</td>\n",
              "      <td>0.335677</td>\n",
              "      <td>0.078652</td>\n",
              "      <td>0.714286</td>\n",
              "      <td>0.0</td>\n",
              "      <td>0.0</td>\n",
              "    </tr>\n",
              "    <tr>\n",
              "      <th>38</th>\n",
              "      <td>0.363636</td>\n",
              "      <td>0.0</td>\n",
              "      <td>0.335928</td>\n",
              "      <td>1.0</td>\n",
              "      <td>0.242424</td>\n",
              "      <td>0.0</td>\n",
              "      <td>0.339314</td>\n",
              "      <td>0.202247</td>\n",
              "      <td>0.685714</td>\n",
              "      <td>1.0</td>\n",
              "      <td>0.0</td>\n",
              "    </tr>\n",
              "  </tbody>\n",
              "</table>\n",
              "</div>"
            ],
            "text/plain": [
              "         age  anaemia  creatinine_phosphokinase  ...  serum_sodium  sex  smoking\n",
              "14  0.163636      1.0                  0.007272  ...      0.714286  0.0      0.0\n",
              "20  0.454545      1.0                  0.003700  ...      0.685714  0.0      0.0\n",
              "23  0.236364      0.0                  0.005103  ...      0.628571  1.0      0.0\n",
              "33  0.181818      1.0                  0.017351  ...      0.714286  0.0      0.0\n",
              "38  0.363636      0.0                  0.335928  ...      0.685714  1.0      0.0\n",
              "\n",
              "[5 rows x 11 columns]"
            ]
          },
          "metadata": {
            "tags": []
          },
          "execution_count": 144
        }
      ]
    },
    {
      "cell_type": "code",
      "metadata": {
        "id": "h2mS4wlsyH7e",
        "colab_type": "code",
        "colab": {
          "base_uri": "https://localhost:8080/",
          "height": 126
        },
        "outputId": "986659ee-b254-47f2-e942-7764a47f066b"
      },
      "source": [
        "# y2 recebe o atributo de classe (target)\n",
        "y2 = dados_balanceados.DEATH_EVENT\n",
        "y2.head()"
      ],
      "execution_count": null,
      "outputs": [
        {
          "output_type": "execute_result",
          "data": {
            "text/plain": [
              "14    0.0\n",
              "20    0.0\n",
              "23    0.0\n",
              "33    0.0\n",
              "38    0.0\n",
              "Name: DEATH_EVENT, dtype: float64"
            ]
          },
          "metadata": {
            "tags": []
          },
          "execution_count": 145
        }
      ]
    },
    {
      "cell_type": "code",
      "metadata": {
        "id": "7JKAcGrAyson",
        "colab_type": "code",
        "colab": {}
      },
      "source": [
        "# 20% dos dados serão para teste \n",
        "# X2_train e y2_train serão para treino\n",
        "# X2_test e y2_test serão para teste\n",
        "\n",
        "X2_train, X2_test, y2_train, y2_test = train_test_split(X2,y2, test_size=0.2)"
      ],
      "execution_count": null,
      "outputs": []
    },
    {
      "cell_type": "markdown",
      "metadata": {
        "id": "94goVuKANXmF",
        "colab_type": "text"
      },
      "source": [
        "### Balanceando e organizando os dados 2"
      ]
    },
    {
      "cell_type": "code",
      "metadata": {
        "id": "5lsgKJRLNe0E",
        "colab_type": "code",
        "colab": {}
      },
      "source": [
        "# iniciando objeto para fazer OverSampling\n",
        "ros = RandomOverSampler()"
      ],
      "execution_count": null,
      "outputs": []
    },
    {
      "cell_type": "code",
      "metadata": {
        "id": "0vVMqjtPOFWN",
        "colab_type": "code",
        "colab": {
          "base_uri": "https://localhost:8080/",
          "height": 226
        },
        "outputId": "faa3fa54-6835-4033-b8d8-942f00b8b714"
      },
      "source": [
        "# iniciando X\n",
        "X3 = dados.iloc[:,0:(tam2-1)]\n",
        "X3.head()"
      ],
      "execution_count": null,
      "outputs": [
        {
          "output_type": "execute_result",
          "data": {
            "text/html": [
              "<div>\n",
              "<style scoped>\n",
              "    .dataframe tbody tr th:only-of-type {\n",
              "        vertical-align: middle;\n",
              "    }\n",
              "\n",
              "    .dataframe tbody tr th {\n",
              "        vertical-align: top;\n",
              "    }\n",
              "\n",
              "    .dataframe thead th {\n",
              "        text-align: right;\n",
              "    }\n",
              "</style>\n",
              "<table border=\"1\" class=\"dataframe\">\n",
              "  <thead>\n",
              "    <tr style=\"text-align: right;\">\n",
              "      <th></th>\n",
              "      <th>age</th>\n",
              "      <th>anaemia</th>\n",
              "      <th>creatinine_phosphokinase</th>\n",
              "      <th>diabetes</th>\n",
              "      <th>ejection_fraction</th>\n",
              "      <th>high_blood_pressure</th>\n",
              "      <th>platelets</th>\n",
              "      <th>serum_creatinine</th>\n",
              "      <th>serum_sodium</th>\n",
              "      <th>sex</th>\n",
              "      <th>smoking</th>\n",
              "    </tr>\n",
              "  </thead>\n",
              "  <tbody>\n",
              "    <tr>\n",
              "      <th>0</th>\n",
              "      <td>0.636364</td>\n",
              "      <td>0.0</td>\n",
              "      <td>0.071319</td>\n",
              "      <td>0.0</td>\n",
              "      <td>0.090909</td>\n",
              "      <td>1.0</td>\n",
              "      <td>0.290823</td>\n",
              "      <td>0.157303</td>\n",
              "      <td>0.485714</td>\n",
              "      <td>1.0</td>\n",
              "      <td>0.0</td>\n",
              "    </tr>\n",
              "    <tr>\n",
              "      <th>1</th>\n",
              "      <td>0.272727</td>\n",
              "      <td>0.0</td>\n",
              "      <td>1.000000</td>\n",
              "      <td>0.0</td>\n",
              "      <td>0.363636</td>\n",
              "      <td>0.0</td>\n",
              "      <td>0.288833</td>\n",
              "      <td>0.067416</td>\n",
              "      <td>0.657143</td>\n",
              "      <td>1.0</td>\n",
              "      <td>0.0</td>\n",
              "    </tr>\n",
              "    <tr>\n",
              "      <th>2</th>\n",
              "      <td>0.454545</td>\n",
              "      <td>0.0</td>\n",
              "      <td>0.015693</td>\n",
              "      <td>0.0</td>\n",
              "      <td>0.090909</td>\n",
              "      <td>0.0</td>\n",
              "      <td>0.165960</td>\n",
              "      <td>0.089888</td>\n",
              "      <td>0.457143</td>\n",
              "      <td>1.0</td>\n",
              "      <td>1.0</td>\n",
              "    </tr>\n",
              "    <tr>\n",
              "      <th>3</th>\n",
              "      <td>0.181818</td>\n",
              "      <td>1.0</td>\n",
              "      <td>0.011227</td>\n",
              "      <td>0.0</td>\n",
              "      <td>0.090909</td>\n",
              "      <td>0.0</td>\n",
              "      <td>0.224148</td>\n",
              "      <td>0.157303</td>\n",
              "      <td>0.685714</td>\n",
              "      <td>1.0</td>\n",
              "      <td>0.0</td>\n",
              "    </tr>\n",
              "    <tr>\n",
              "      <th>4</th>\n",
              "      <td>0.454545</td>\n",
              "      <td>1.0</td>\n",
              "      <td>0.017479</td>\n",
              "      <td>1.0</td>\n",
              "      <td>0.090909</td>\n",
              "      <td>0.0</td>\n",
              "      <td>0.365984</td>\n",
              "      <td>0.247191</td>\n",
              "      <td>0.085714</td>\n",
              "      <td>0.0</td>\n",
              "      <td>0.0</td>\n",
              "    </tr>\n",
              "  </tbody>\n",
              "</table>\n",
              "</div>"
            ],
            "text/plain": [
              "        age  anaemia  creatinine_phosphokinase  ...  serum_sodium  sex  smoking\n",
              "0  0.636364      0.0                  0.071319  ...      0.485714  1.0      0.0\n",
              "1  0.272727      0.0                  1.000000  ...      0.657143  1.0      0.0\n",
              "2  0.454545      0.0                  0.015693  ...      0.457143  1.0      1.0\n",
              "3  0.181818      1.0                  0.011227  ...      0.685714  1.0      0.0\n",
              "4  0.454545      1.0                  0.017479  ...      0.085714  0.0      0.0\n",
              "\n",
              "[5 rows x 11 columns]"
            ]
          },
          "metadata": {
            "tags": []
          },
          "execution_count": 182
        }
      ]
    },
    {
      "cell_type": "code",
      "metadata": {
        "id": "pKuaQ3zTODMr",
        "colab_type": "code",
        "colab": {
          "base_uri": "https://localhost:8080/",
          "height": 235
        },
        "outputId": "aed57092-fc0d-459d-82f5-5be6bb9b56cf"
      },
      "source": [
        "# iniciando y \n",
        "y3 = dados.DEATH_EVENT\n",
        "y3"
      ],
      "execution_count": null,
      "outputs": [
        {
          "output_type": "execute_result",
          "data": {
            "text/plain": [
              "0      1.0\n",
              "1      1.0\n",
              "2      1.0\n",
              "3      1.0\n",
              "4      1.0\n",
              "      ... \n",
              "294    0.0\n",
              "295    0.0\n",
              "296    0.0\n",
              "297    0.0\n",
              "298    0.0\n",
              "Name: DEATH_EVENT, Length: 299, dtype: float64"
            ]
          },
          "metadata": {
            "tags": []
          },
          "execution_count": 190
        }
      ]
    },
    {
      "cell_type": "code",
      "metadata": {
        "id": "wfnl_ZoVOiPT",
        "colab_type": "code",
        "colab": {}
      },
      "source": [
        "# dividndo em dados de treino e teste\n",
        "X3_train, X3_test, y3_train, y3_test = train_test_split(X3, y3, test_size=0.2)"
      ],
      "execution_count": null,
      "outputs": []
    },
    {
      "cell_type": "code",
      "metadata": {
        "id": "VmSzNtk7Pekt",
        "colab_type": "code",
        "colab": {
          "base_uri": "https://localhost:8080/",
          "height": 73
        },
        "outputId": "e6b3aebd-eabe-4197-97a5-89be84e1994b"
      },
      "source": [
        "# fazendo OverSampling nos dados de teste\n",
        "X3_train, y3_train = ros.fit_resample(X3_train, y3_train)"
      ],
      "execution_count": null,
      "outputs": [
        {
          "output_type": "stream",
          "text": [
            "/usr/local/lib/python3.6/dist-packages/sklearn/utils/deprecation.py:87: FutureWarning: Function safe_indexing is deprecated; safe_indexing is deprecated in version 0.22 and will be removed in version 0.24.\n",
            "  warnings.warn(msg, category=FutureWarning)\n"
          ],
          "name": "stderr"
        }
      ]
    },
    {
      "cell_type": "code",
      "metadata": {
        "id": "h2wOmcJ0QZJn",
        "colab_type": "code",
        "colab": {
          "base_uri": "https://localhost:8080/",
          "height": 281
        },
        "outputId": "3499ee0e-5321-417a-a2c5-0e3420d88c80"
      },
      "source": [
        "# gráfico de barras que mostra as classes de y3_train\n",
        "plt.bar(['0', '1'], [list(y3_train).count(0), list(y3_train).count(1)])\n",
        "plt.ylabel('Numéro')\n",
        "plt.title('Ocorrências das Classes')\n",
        "plt.grid(True)\n",
        "plt.show()"
      ],
      "execution_count": null,
      "outputs": [
        {
          "output_type": "display_data",
          "data": {
            "image/png": "[encoded data removed]",
            "text/plain": [
              "<Figure size 432x288 with 1 Axes>"
            ]
          },
          "metadata": {
            "tags": [],
            "needs_background": "light"
          }
        }
      ]
    },
    {
      "cell_type": "markdown",
      "metadata": {
        "id": "L-2Xj7tR0s3U",
        "colab_type": "text"
      },
      "source": [
        "## **6b. Definindo algoritmo de aprendizado**"
      ]
    },
    {
      "cell_type": "markdown",
      "metadata": {
        "id": "aRi1MT0ywPom",
        "colab_type": "text"
      },
      "source": [
        "### **Rede Neural Multi-Layer Perceptron (MLP)**"
      ]
    },
    {
      "cell_type": "code",
      "metadata": {
        "id": "ML1t128NwcNV",
        "colab_type": "code",
        "colab": {}
      },
      "source": [
        "# definindo modelo\n",
        "rede2 = MLPClassifier(hidden_layer_sizes=(150),activation='logistic',max_iter=1000)"
      ],
      "execution_count": null,
      "outputs": []
    },
    {
      "cell_type": "code",
      "metadata": {
        "id": "ZyNgXLgdwjLG",
        "colab_type": "code",
        "colab": {
          "base_uri": "https://localhost:8080/",
          "height": 163
        },
        "outputId": "3a88260d-c94a-4a6d-a615-66f98f3f5f44"
      },
      "source": [
        "# treinando modelo\n",
        "rede2.fit(X2_train,y2_train)"
      ],
      "execution_count": null,
      "outputs": [
        {
          "output_type": "execute_result",
          "data": {
            "text/plain": [
              "MLPClassifier(activation='logistic', alpha=0.0001, batch_size='auto',\n",
              "              beta_1=0.9, beta_2=0.999, early_stopping=False, epsilon=1e-08,\n",
              "              hidden_layer_sizes=150, learning_rate='constant',\n",
              "              learning_rate_init=0.001, max_fun=15000, max_iter=1000,\n",
              "              momentum=0.9, n_iter_no_change=10, nesterovs_momentum=True,\n",
              "              power_t=0.5, random_state=None, shuffle=True, solver='adam',\n",
              "              tol=0.0001, validation_fraction=0.1, verbose=False,\n",
              "              warm_start=False)"
            ]
          },
          "metadata": {
            "tags": []
          },
          "execution_count": 148
        }
      ]
    },
    {
      "cell_type": "code",
      "metadata": {
        "id": "5qZK0bWNzqnE",
        "colab_type": "code",
        "colab": {
          "base_uri": "https://localhost:8080/",
          "height": 72
        },
        "outputId": "7cef2a1f-0381-4128-93e7-0425455fb681"
      },
      "source": [
        "# realizando classificação\n",
        "rede2 = rede2.predict(X2_test)\n",
        "rede2"
      ],
      "execution_count": null,
      "outputs": [
        {
          "output_type": "execute_result",
          "data": {
            "text/plain": [
              "array([0., 1., 0., 0., 0., 0., 1., 1., 1., 0., 1., 0., 1., 0., 1., 0., 1.,\n",
              "       1., 0., 0., 0., 0., 1., 0., 1., 0., 0., 0., 1., 1., 1., 0., 1., 0.,\n",
              "       1., 0., 1., 0., 1.])"
            ]
          },
          "metadata": {
            "tags": []
          },
          "execution_count": 149
        }
      ]
    },
    {
      "cell_type": "markdown",
      "metadata": {
        "id": "fK6wZ-MC1Bv1",
        "colab_type": "text"
      },
      "source": [
        "### **Arvore de Decisão**"
      ]
    },
    {
      "cell_type": "code",
      "metadata": {
        "id": "CHrhR8nx1OKl",
        "colab_type": "code",
        "colab": {}
      },
      "source": [
        "# definindo modelo\n",
        "arvore2 = DecisionTreeClassifier()"
      ],
      "execution_count": null,
      "outputs": []
    },
    {
      "cell_type": "code",
      "metadata": {
        "id": "Ahhv31tt1YYe",
        "colab_type": "code",
        "colab": {
          "base_uri": "https://localhost:8080/",
          "height": 126
        },
        "outputId": "9d87e4eb-974a-421f-dc31-ac96b521bb44"
      },
      "source": [
        "# treinando modelo\n",
        "arvore2.fit(X2_train,y2_train)"
      ],
      "execution_count": null,
      "outputs": [
        {
          "output_type": "execute_result",
          "data": {
            "text/plain": [
              "DecisionTreeClassifier(ccp_alpha=0.0, class_weight=None, criterion='gini',\n",
              "                       max_depth=None, max_features=None, max_leaf_nodes=None,\n",
              "                       min_impurity_decrease=0.0, min_impurity_split=None,\n",
              "                       min_samples_leaf=1, min_samples_split=2,\n",
              "                       min_weight_fraction_leaf=0.0, presort='deprecated',\n",
              "                       random_state=None, splitter='best')"
            ]
          },
          "metadata": {
            "tags": []
          },
          "execution_count": 151
        }
      ]
    },
    {
      "cell_type": "code",
      "metadata": {
        "id": "-iQAC9bF1Z2k",
        "colab_type": "code",
        "colab": {
          "base_uri": "https://localhost:8080/",
          "height": 72
        },
        "outputId": "95667bbc-bda2-48d5-9088-3cb2673ece3f"
      },
      "source": [
        "# realizando classificação\n",
        "arvore2 = arvore2.predict(X2_test)\n",
        "arvore2"
      ],
      "execution_count": null,
      "outputs": [
        {
          "output_type": "execute_result",
          "data": {
            "text/plain": [
              "array([1., 0., 0., 1., 1., 1., 0., 1., 1., 1., 0., 0., 0., 0., 0., 1., 1.,\n",
              "       1., 1., 0., 1., 0., 1., 0., 1., 1., 1., 0., 0., 0., 1., 0., 0., 1.,\n",
              "       0., 1., 1., 1., 0.])"
            ]
          },
          "metadata": {
            "tags": []
          },
          "execution_count": 152
        }
      ]
    },
    {
      "cell_type": "markdown",
      "metadata": {
        "id": "ssElcbQy1iX0",
        "colab_type": "text"
      },
      "source": [
        "### **Random Forest**"
      ]
    },
    {
      "cell_type": "code",
      "metadata": {
        "id": "693K7vi_1lpH",
        "colab_type": "code",
        "colab": {}
      },
      "source": [
        "# criando random forest\n",
        "floresta2 = RandomForestClassifier()"
      ],
      "execution_count": null,
      "outputs": []
    },
    {
      "cell_type": "code",
      "metadata": {
        "id": "B_SDvJCq1liu",
        "colab_type": "code",
        "colab": {
          "base_uri": "https://localhost:8080/",
          "height": 163
        },
        "outputId": "d2a70ab6-9a92-47df-adf7-db59729eb0c6"
      },
      "source": [
        "# treinando modelo\n",
        "floresta2.fit(X2_train, y2_train)"
      ],
      "execution_count": null,
      "outputs": [
        {
          "output_type": "execute_result",
          "data": {
            "text/plain": [
              "RandomForestClassifier(bootstrap=True, ccp_alpha=0.0, class_weight=None,\n",
              "                       criterion='gini', max_depth=None, max_features='auto',\n",
              "                       max_leaf_nodes=None, max_samples=None,\n",
              "                       min_impurity_decrease=0.0, min_impurity_split=None,\n",
              "                       min_samples_leaf=1, min_samples_split=2,\n",
              "                       min_weight_fraction_leaf=0.0, n_estimators=100,\n",
              "                       n_jobs=None, oob_score=False, random_state=None,\n",
              "                       verbose=0, warm_start=False)"
            ]
          },
          "metadata": {
            "tags": []
          },
          "execution_count": 154
        }
      ]
    },
    {
      "cell_type": "code",
      "metadata": {
        "id": "V0FSWb4Z1-fm",
        "colab_type": "code",
        "colab": {
          "base_uri": "https://localhost:8080/",
          "height": 72
        },
        "outputId": "39edfc9e-c075-4ece-e805-d7ac1b615b36"
      },
      "source": [
        "# realizando classificação\n",
        "floresta2 = floresta2.predict(X2_test)\n",
        "floresta2"
      ],
      "execution_count": null,
      "outputs": [
        {
          "output_type": "execute_result",
          "data": {
            "text/plain": [
              "array([1., 1., 0., 1., 1., 1., 1., 1., 1., 1., 1., 0., 0., 0., 1., 1., 1.,\n",
              "       0., 0., 1., 0., 0., 0., 0., 1., 0., 0., 0., 0., 1., 1., 1., 1., 1.,\n",
              "       0., 0., 1., 1., 1.])"
            ]
          },
          "metadata": {
            "tags": []
          },
          "execution_count": 155
        }
      ]
    },
    {
      "cell_type": "markdown",
      "metadata": {
        "id": "aVw0pPTk2Vl3",
        "colab_type": "text"
      },
      "source": [
        "### **Comparando**"
      ]
    },
    {
      "cell_type": "code",
      "metadata": {
        "id": "CkrFL4x12Uoz",
        "colab_type": "code",
        "colab": {
          "base_uri": "https://localhost:8080/",
          "height": 72
        },
        "outputId": "02887125-91be-48b4-98c8-4f85c65de620"
      },
      "source": [
        "# calculando acurácia\n",
        "print('Rede Neural: {}'.format(accuracy_score(y2_test, rede2)))\n",
        "print('Arvore de decisão: {}'.format(accuracy_score(y2_test, arvore2)))\n",
        "print('Random Forest: {}'.format(accuracy_score(y2_test, floresta2)))"
      ],
      "execution_count": null,
      "outputs": [
        {
          "output_type": "stream",
          "text": [
            "Rede Neural: 0.6666666666666666\n",
            "Arvore de decisão: 0.38461538461538464\n",
            "Random Forest: 0.6410256410256411\n"
          ],
          "name": "stdout"
        }
      ]
    },
    {
      "cell_type": "code",
      "metadata": {
        "id": "2hYoDlkK2bnf",
        "colab_type": "code",
        "colab": {
          "base_uri": "https://localhost:8080/",
          "height": 72
        },
        "outputId": "e474f405-c4b2-49db-d2b6-09189f26fac9"
      },
      "source": [
        "# calculando precisão\n",
        "print('Rede Neural: {}'.format(precision_score(y2_test, rede2)))\n",
        "print('Arvore de decisão: {}'.format(precision_score(y2_test, arvore2)))\n",
        "print('Random Forest: {}'.format(precision_score(y2_test, floresta2)))"
      ],
      "execution_count": null,
      "outputs": [
        {
          "output_type": "stream",
          "text": [
            "Rede Neural: 0.7222222222222222\n",
            "Arvore de decisão: 0.42857142857142855\n",
            "Random Forest: 0.6521739130434783\n"
          ],
          "name": "stdout"
        }
      ]
    },
    {
      "cell_type": "code",
      "metadata": {
        "id": "u-ngaovBNfDu",
        "colab_type": "code",
        "colab": {
          "base_uri": "https://localhost:8080/",
          "height": 72
        },
        "outputId": "51083723-ce6c-453c-d5d7-9e5c8bfa0407"
      },
      "source": [
        "# calculando recall_score\n",
        "print('Rede Neural: {}'.format(recall_score(y2_test, rede2)))\n",
        "print('Arvore de decisão: {}'.format(recall_score(y2_test, arvore2)))\n",
        "print('Random Forest: {}'.format(recall_score(y2_test, floresta2)))"
      ],
      "execution_count": null,
      "outputs": [
        {
          "output_type": "stream",
          "text": [
            "Rede Neural: 0.6190476190476191\n",
            "Arvore de decisão: 0.42857142857142855\n",
            "Random Forest: 0.7142857142857143\n"
          ],
          "name": "stdout"
        }
      ]
    },
    {
      "cell_type": "code",
      "metadata": {
        "id": "g9GhZrlE2a8G",
        "colab_type": "code",
        "colab": {
          "base_uri": "https://localhost:8080/",
          "height": 72
        },
        "outputId": "44104a84-4737-4902-ef40-6836b9e4bfa7"
      },
      "source": [
        "# calculando f1-score\n",
        "print('Rede Neural: {}'.format(f1_score(y2_test, rede2)))\n",
        "print('Arvore de decisão: {}'.format(f1_score(y2_test, arvore2)))\n",
        "print('Random Forest: {}'.format(f1_score(y2_test, floresta2)))"
      ],
      "execution_count": null,
      "outputs": [
        {
          "output_type": "stream",
          "text": [
            "Rede Neural: 0.6666666666666666\n",
            "Arvore de decisão: 0.42857142857142855\n",
            "Random Forest: 0.6818181818181819\n"
          ],
          "name": "stdout"
        }
      ]
    },
    {
      "cell_type": "code",
      "metadata": {
        "id": "-7TT9oo36emr",
        "colab_type": "code",
        "colab": {
          "base_uri": "https://localhost:8080/",
          "height": 350
        },
        "outputId": "2ad5c245-5e5a-4423-ef3d-b21b70656e17"
      },
      "source": [
        "# Plotando gráfico da Curva ROC\n",
        "fpr_re2, tpr_re2, _ = roc_curve(y2_test,rede2)\n",
        "fpr_ar2, tpr_ar2, _ = roc_curve(y2_test,arvore2)\n",
        "fpr_fl2, tpr_fl2, _ = roc_curve(y2_test,floresta2)\n",
        "plt.plot(fpr_re2,tpr_re2,linestyle='--',label='rede')\n",
        "plt.plot(fpr_ar2,tpr_ar2,linestyle='--',label='arvore')\n",
        "plt.plot(fpr_fl2,tpr_fl2,marker='.',label='floresta')\n",
        "plt.title('Curva ROC')\n",
        "plt.legend()\n",
        "plt.xlabel('Taxa de Falsos Positivos')\n",
        "plt.ylabel('Taxa de Verdadeiro Positivos')\n",
        "plt.show()\n",
        "print(f\"Área sobre a curva - Rede Neural: {roc_auc_score(y2_test,rede2)}\")\n",
        "print(f\"Área sobre a curva - Arvore: {roc_auc_score(y2_test,arvore2)}\")\n",
        "print(f\"Área sobre a curva - Floresta: {roc_auc_score(y2_test,floresta2)}\")"
      ],
      "execution_count": null,
      "outputs": [
        {
          "output_type": "display_data",
          "data": {
            "image/png": "[encoded data removed]",
            "text/plain": [
              "<Figure size 432x288 with 1 Axes>"
            ]
          },
          "metadata": {
            "tags": [],
            "needs_background": "light"
          }
        },
        {
          "output_type": "stream",
          "text": [
            "Área sobre a curva - Rede Neural: 0.6706349206349207\n",
            "Área sobre a curva - Arvore: 0.380952380952381\n",
            "Área sobre a curva - Floresta: 0.6349206349206349\n"
          ],
          "name": "stdout"
        }
      ]
    },
    {
      "cell_type": "markdown",
      "metadata": {
        "colab_type": "text",
        "id": "r_52cloa9mLv"
      },
      "source": [
        "### **Validação cruzada**"
      ]
    },
    {
      "cell_type": "code",
      "metadata": {
        "colab_type": "code",
        "id": "UGE2Rgur9mLy",
        "colab": {}
      },
      "source": [
        "# definindo os modelos\n",
        "rede2_v = MLPClassifier(hidden_layer_sizes=(150),activation='logistic',max_iter=1000)\n",
        "arvore2_v = DecisionTreeClassifier()\n",
        "floresta2_v = RandomForestClassifier()"
      ],
      "execution_count": null,
      "outputs": []
    },
    {
      "cell_type": "code",
      "metadata": {
        "colab_type": "code",
        "id": "RJBnj0JW9mL8",
        "colab": {}
      },
      "source": [
        "# calculando os scores\n",
        "scores_re2 = cross_val_score(rede2_v, X2, y2, cv=5)\n",
        "scores_ar2 = cross_val_score(arvore2_v, X2, y2, cv=5)\n",
        "scores_fl2 = cross_val_score(floresta2_v, X2, y2, cv=5)"
      ],
      "execution_count": null,
      "outputs": []
    },
    {
      "cell_type": "code",
      "metadata": {
        "id": "o-iPPKAW-wgu",
        "colab_type": "code",
        "colab": {
          "base_uri": "https://localhost:8080/",
          "height": 72
        },
        "outputId": "a27ca88f-301e-465d-ac73-280ee356b8f2"
      },
      "source": [
        "# printando scores\n",
        "print('Rede Neural: ', scores_re2)\n",
        "print('Arvore: ', scores_ar2)\n",
        "print('Random Forest: ', scores_fl2)"
      ],
      "execution_count": null,
      "outputs": [
        {
          "output_type": "stream",
          "text": [
            "Rede Neural:  [0.48717949 0.69230769 0.71052632 0.71052632 0.5       ]\n",
            "Arvore:  [0.58974359 0.69230769 0.55263158 0.65789474 0.63157895]\n",
            "Random Forest:  [0.58974359 0.58974359 0.73684211 0.81578947 0.73684211]\n"
          ],
          "name": "stdout"
        }
      ]
    },
    {
      "cell_type": "code",
      "metadata": {
        "colab_type": "code",
        "id": "38kpnDwC9mMJ",
        "colab": {
          "base_uri": "https://localhost:8080/",
          "height": 72
        },
        "outputId": "6263434c-9694-4e92-aacc-50086c5e887b"
      },
      "source": [
        "print('Rede Neural: ', scores_re2.mean(), scores_re2.std())\n",
        "print('Arvore: ', scores_ar2.mean(), scores_ar2.std())\n",
        "print('Random Forest: ', scores_fl2.mean(), scores_fl2.std())"
      ],
      "execution_count": null,
      "outputs": [
        {
          "output_type": "stream",
          "text": [
            "Rede Neural:  0.6201079622132253 0.10359503889125339\n",
            "Arvore:  0.6248313090418354 0.04926607808786332\n",
            "Random Forest:  0.6937921727395412 0.08971304260283551\n"
          ],
          "name": "stdout"
        }
      ]
    },
    {
      "cell_type": "markdown",
      "metadata": {
        "colab_type": "text",
        "id": "vE0X98E1R-u8"
      },
      "source": [
        "## **6b. Definindo algoritmo de aprendizado2**"
      ]
    },
    {
      "cell_type": "markdown",
      "metadata": {
        "colab_type": "text",
        "id": "EzT9jra_R-vE"
      },
      "source": [
        "### **Rede Neural Multi-Layer Perceptron (MLP)**"
      ]
    },
    {
      "cell_type": "code",
      "metadata": {
        "colab_type": "code",
        "id": "FBUtSDYzR-vH",
        "colab": {}
      },
      "source": [
        "# definindo modelo\n",
        "rede3 = MLPClassifier(hidden_layer_sizes=(150),activation='logistic',max_iter=1000)"
      ],
      "execution_count": null,
      "outputs": []
    },
    {
      "cell_type": "code",
      "metadata": {
        "colab_type": "code",
        "id": "M9crFiAdR-vT",
        "colab": {
          "base_uri": "https://localhost:8080/",
          "height": 163
        },
        "outputId": "31bb0944-7460-47e6-9657-546a85d8bf6c"
      },
      "source": [
        "# treinando modelo\n",
        "rede3.fit(X3_train,y3_train)"
      ],
      "execution_count": null,
      "outputs": [
        {
          "output_type": "execute_result",
          "data": {
            "text/plain": [
              "MLPClassifier(activation='logistic', alpha=0.0001, batch_size='auto',\n",
              "              beta_1=0.9, beta_2=0.999, early_stopping=False, epsilon=1e-08,\n",
              "              hidden_layer_sizes=150, learning_rate='constant',\n",
              "              learning_rate_init=0.001, max_fun=15000, max_iter=1000,\n",
              "              momentum=0.9, n_iter_no_change=10, nesterovs_momentum=True,\n",
              "              power_t=0.5, random_state=None, shuffle=True, solver='adam',\n",
              "              tol=0.0001, validation_fraction=0.1, verbose=False,\n",
              "              warm_start=False)"
            ]
          },
          "metadata": {
            "tags": []
          },
          "execution_count": 210
        }
      ]
    },
    {
      "cell_type": "code",
      "metadata": {
        "colab_type": "code",
        "id": "6Oh6eYpxR-vg",
        "colab": {
          "base_uri": "https://localhost:8080/",
          "height": 90
        },
        "outputId": "e66a56a4-7fe6-49f6-b04f-0280f0cf7132"
      },
      "source": [
        "# realizando classificação\n",
        "rede3 = rede3.predict(X3_test)\n",
        "rede3"
      ],
      "execution_count": null,
      "outputs": [
        {
          "output_type": "execute_result",
          "data": {
            "text/plain": [
              "array([0., 0., 1., 0., 0., 0., 1., 1., 0., 0., 1., 0., 0., 0., 0., 1., 0.,\n",
              "       0., 1., 0., 0., 0., 1., 0., 0., 1., 0., 1., 0., 1., 0., 0., 1., 1.,\n",
              "       0., 1., 0., 0., 0., 1., 1., 0., 0., 0., 0., 1., 0., 0., 0., 1., 1.,\n",
              "       1., 0., 0., 1., 1., 0., 0., 1., 1.])"
            ]
          },
          "metadata": {
            "tags": []
          },
          "execution_count": 211
        }
      ]
    },
    {
      "cell_type": "markdown",
      "metadata": {
        "colab_type": "text",
        "id": "jGyCT2FLR-vm"
      },
      "source": [
        "### **Arvore de Decisão**"
      ]
    },
    {
      "cell_type": "code",
      "metadata": {
        "colab_type": "code",
        "id": "DcmV2HchR-vn",
        "colab": {}
      },
      "source": [
        "# definindo modelo\n",
        "arvore3 = DecisionTreeClassifier()"
      ],
      "execution_count": null,
      "outputs": []
    },
    {
      "cell_type": "code",
      "metadata": {
        "colab_type": "code",
        "id": "0-2zw7nRR-vs",
        "colab": {
          "base_uri": "https://localhost:8080/",
          "height": 126
        },
        "outputId": "5d86396d-3c19-414a-abb4-0994233440ac"
      },
      "source": [
        "# treinando modelo\n",
        "arvore3.fit(X3_train,y3_train)"
      ],
      "execution_count": null,
      "outputs": [
        {
          "output_type": "execute_result",
          "data": {
            "text/plain": [
              "DecisionTreeClassifier(ccp_alpha=0.0, class_weight=None, criterion='gini',\n",
              "                       max_depth=None, max_features=None, max_leaf_nodes=None,\n",
              "                       min_impurity_decrease=0.0, min_impurity_split=None,\n",
              "                       min_samples_leaf=1, min_samples_split=2,\n",
              "                       min_weight_fraction_leaf=0.0, presort='deprecated',\n",
              "                       random_state=None, splitter='best')"
            ]
          },
          "metadata": {
            "tags": []
          },
          "execution_count": 213
        }
      ]
    },
    {
      "cell_type": "code",
      "metadata": {
        "colab_type": "code",
        "id": "VBYK3MhER-vx",
        "colab": {
          "base_uri": "https://localhost:8080/",
          "height": 90
        },
        "outputId": "79c5033c-7b06-4fdb-a461-35c7a85e157d"
      },
      "source": [
        "# realizando classificação\n",
        "arvore3 = arvore3.predict(X3_test)\n",
        "arvore3"
      ],
      "execution_count": null,
      "outputs": [
        {
          "output_type": "execute_result",
          "data": {
            "text/plain": [
              "array([1., 0., 0., 0., 0., 1., 1., 0., 0., 0., 1., 0., 1., 0., 1., 1., 0.,\n",
              "       0., 0., 0., 0., 1., 1., 1., 0., 1., 0., 1., 0., 1., 0., 0., 1., 0.,\n",
              "       0., 1., 0., 1., 1., 1., 1., 1., 0., 0., 0., 1., 1., 0., 1., 0., 0.,\n",
              "       1., 1., 0., 1., 1., 0., 0., 1., 1.])"
            ]
          },
          "metadata": {
            "tags": []
          },
          "execution_count": 214
        }
      ]
    },
    {
      "cell_type": "markdown",
      "metadata": {
        "colab_type": "text",
        "id": "Pl8MVx2lR-v2"
      },
      "source": [
        "### **Random Forest**"
      ]
    },
    {
      "cell_type": "code",
      "metadata": {
        "colab_type": "code",
        "id": "eXYQqUJPR-v4",
        "colab": {}
      },
      "source": [
        "# criando random forest\n",
        "floresta3 = RandomForestClassifier(n_estimators=200)"
      ],
      "execution_count": null,
      "outputs": []
    },
    {
      "cell_type": "code",
      "metadata": {
        "colab_type": "code",
        "id": "iAAFbgX4R-v9",
        "colab": {
          "base_uri": "https://localhost:8080/",
          "height": 163
        },
        "outputId": "470a38e4-d161-40d0-a35d-c57a27ddce65"
      },
      "source": [
        "# treinando modelo\n",
        "floresta3.fit(X3_train, y3_train)"
      ],
      "execution_count": null,
      "outputs": [
        {
          "output_type": "execute_result",
          "data": {
            "text/plain": [
              "RandomForestClassifier(bootstrap=True, ccp_alpha=0.0, class_weight=None,\n",
              "                       criterion='gini', max_depth=None, max_features='auto',\n",
              "                       max_leaf_nodes=None, max_samples=None,\n",
              "                       min_impurity_decrease=0.0, min_impurity_split=None,\n",
              "                       min_samples_leaf=1, min_samples_split=2,\n",
              "                       min_weight_fraction_leaf=0.0, n_estimators=200,\n",
              "                       n_jobs=None, oob_score=False, random_state=None,\n",
              "                       verbose=0, warm_start=False)"
            ]
          },
          "metadata": {
            "tags": []
          },
          "execution_count": 229
        }
      ]
    },
    {
      "cell_type": "code",
      "metadata": {
        "colab_type": "code",
        "id": "x9OfGBWPR-wD",
        "colab": {
          "base_uri": "https://localhost:8080/",
          "height": 90
        },
        "outputId": "9ec4af36-84a2-4d7d-fac8-0e2e4b12f231"
      },
      "source": [
        "# realizando classificação\n",
        "floresta3 = floresta3.predict(X3_test)\n",
        "floresta3"
      ],
      "execution_count": null,
      "outputs": [
        {
          "output_type": "execute_result",
          "data": {
            "text/plain": [
              "array([0., 0., 0., 0., 0., 0., 1., 0., 0., 0., 1., 1., 0., 0., 0., 1., 0.,\n",
              "       0., 0., 0., 0., 0., 0., 0., 0., 1., 0., 0., 1., 1., 0., 0., 1., 0.,\n",
              "       0., 1., 0., 0., 1., 1., 1., 0., 0., 0., 0., 1., 0., 0., 1., 0., 0.,\n",
              "       0., 0., 0., 0., 1., 0., 0., 0., 1.])"
            ]
          },
          "metadata": {
            "tags": []
          },
          "execution_count": 230
        }
      ]
    },
    {
      "cell_type": "markdown",
      "metadata": {
        "colab_type": "text",
        "id": "kKegj5ImR-wH"
      },
      "source": [
        "### **Comparando**"
      ]
    },
    {
      "cell_type": "code",
      "metadata": {
        "colab_type": "code",
        "id": "uHWaBoHXR-wH",
        "colab": {
          "base_uri": "https://localhost:8080/",
          "height": 72
        },
        "outputId": "0c5297da-34bc-44d7-a723-9c836186b754"
      },
      "source": [
        "# calculando acurácia\n",
        "print('Rede Neural: {}'.format(accuracy_score(y3_test, rede3)))\n",
        "print('Arvore de decisão: {}'.format(accuracy_score(y3_test, arvore3)))\n",
        "print('Random Forest: {}'.format(accuracy_score(y3_test, floresta3)))"
      ],
      "execution_count": null,
      "outputs": [
        {
          "output_type": "stream",
          "text": [
            "Rede Neural: 0.7333333333333333\n",
            "Arvore de decisão: 0.7\n",
            "Random Forest: 0.8166666666666667\n"
          ],
          "name": "stdout"
        }
      ]
    },
    {
      "cell_type": "code",
      "metadata": {
        "colab_type": "code",
        "id": "ovkoR437R-wM",
        "colab": {
          "base_uri": "https://localhost:8080/",
          "height": 72
        },
        "outputId": "f732c05e-f0ea-44a2-aa45-64c5a857111b"
      },
      "source": [
        "# calculando precisão\n",
        "print('Rede Neural: {}'.format(precision_score(y3_test, rede3)))\n",
        "print('Arvore de decisão: {}'.format(precision_score(y3_test, arvore3)))\n",
        "print('Random Forest: {}'.format(precision_score(y3_test, floresta3)))"
      ],
      "execution_count": null,
      "outputs": [
        {
          "output_type": "stream",
          "text": [
            "Rede Neural: 0.6086956521739131\n",
            "Arvore de decisão: 0.5517241379310345\n",
            "Random Forest: 0.8125\n"
          ],
          "name": "stdout"
        }
      ]
    },
    {
      "cell_type": "code",
      "metadata": {
        "colab_type": "code",
        "id": "WQIIxwUVR-wR",
        "colab": {
          "base_uri": "https://localhost:8080/",
          "height": 72
        },
        "outputId": "903cc620-9a7a-405d-b7d7-d741ed6560e6"
      },
      "source": [
        "# calculando recall_score\n",
        "print('Rede Neural: {}'.format(recall_score(y3_test, rede3)))\n",
        "print('Arvore de decisão: {}'.format(recall_score(y3_test, arvore3)))\n",
        "print('Random Forest: {}'.format(recall_score(y3_test, floresta3)))"
      ],
      "execution_count": null,
      "outputs": [
        {
          "output_type": "stream",
          "text": [
            "Rede Neural: 0.6666666666666666\n",
            "Arvore de decisão: 0.7619047619047619\n",
            "Random Forest: 0.6190476190476191\n"
          ],
          "name": "stdout"
        }
      ]
    },
    {
      "cell_type": "code",
      "metadata": {
        "colab_type": "code",
        "id": "3n2FXNhbR-wX",
        "colab": {
          "base_uri": "https://localhost:8080/",
          "height": 72
        },
        "outputId": "63522547-b902-43c4-dfeb-05778ab21a4e"
      },
      "source": [
        "# calculando f1-score\n",
        "print('Rede Neural: {}'.format(f1_score(y3_test, rede3)))\n",
        "print('Arvore de decisão: {}'.format(f1_score(y3_test, arvore3)))\n",
        "print('Random Forest: {}'.format(f1_score(y3_test, floresta3)))"
      ],
      "execution_count": null,
      "outputs": [
        {
          "output_type": "stream",
          "text": [
            "Rede Neural: 0.6363636363636365\n",
            "Arvore de decisão: 0.64\n",
            "Random Forest: 0.7027027027027026\n"
          ],
          "name": "stdout"
        }
      ]
    },
    {
      "cell_type": "code",
      "metadata": {
        "colab_type": "code",
        "id": "uYhAPlMbR-wc",
        "colab": {
          "base_uri": "https://localhost:8080/",
          "height": 350
        },
        "outputId": "96853a2f-3946-4f02-f755-26f9e155953c"
      },
      "source": [
        "# Plotando gráfico da Curva ROC\n",
        "fpr_re3, tpr_re3, _ = roc_curve(y3_test,rede3)\n",
        "fpr_ar3, tpr_ar3, _ = roc_curve(y3_test,arvore3)\n",
        "fpr_fl3, tpr_fl3, _ = roc_curve(y3_test,floresta3)\n",
        "plt.plot(fpr_re3,tpr_re3,linestyle='--',label='rede')\n",
        "plt.plot(fpr_ar3,tpr_ar3,linestyle='--',label='arvore')\n",
        "plt.plot(fpr_fl3,tpr_fl3,marker='.',label='floresta')\n",
        "plt.title('Curva ROC')\n",
        "plt.legend()\n",
        "plt.xlabel('Taxa de Falsos Positivos')\n",
        "plt.ylabel('Taxa de Verdadeiro Positivos')\n",
        "plt.show()\n",
        "print(f\"Área sobre a curva - Rede Neural: {roc_auc_score(y3_test,rede3)}\")\n",
        "print(f\"Área sobre a curva - Arvore: {roc_auc_score(y3_test,arvore3)}\")\n",
        "print(f\"Área sobre a curva - Floresta: {roc_auc_score(y3_test,floresta3)}\")"
      ],
      "execution_count": null,
      "outputs": [
        {
          "output_type": "display_data",
          "data": {
            "image/png": "[encoded data removed]",
            "text/plain": [
              "<Figure size 432x288 with 1 Axes>"
            ]
          },
          "metadata": {
            "tags": [],
            "needs_background": "light"
          }
        },
        {
          "output_type": "stream",
          "text": [
            "Área sobre a curva - Rede Neural: 0.7179487179487178\n",
            "Área sobre a curva - Arvore: 0.7142857142857143\n",
            "Área sobre a curva - Floresta: 0.7710622710622711\n"
          ],
          "name": "stdout"
        }
      ]
    },
    {
      "cell_type": "markdown",
      "metadata": {
        "colab_type": "text",
        "id": "z7JisHNAR-wg"
      },
      "source": [
        "### **Validação cruzada**"
      ]
    },
    {
      "cell_type": "code",
      "metadata": {
        "colab_type": "code",
        "id": "7VC1h1Z1R-wh",
        "colab": {}
      },
      "source": [
        "# definindo os modelos\n"
      ],
      "execution_count": null,
      "outputs": []
    },
    {
      "cell_type": "code",
      "metadata": {
        "colab_type": "code",
        "id": "wV9WmEvRR-wl",
        "colab": {}
      },
      "source": [
        "# calculando os scores\n",
        "scores_re3 = cross_val_score(rede3_v, X3, y3, cv=5)\n",
        "scores_ar3 = cross_val_score(arvore3_v, X3, y3, cv=5)\n",
        "scores_fl3 = cross_val_score(floresta3_v, X3, y3, cv=5)"
      ],
      "execution_count": null,
      "outputs": []
    },
    {
      "cell_type": "code",
      "metadata": {
        "colab_type": "code",
        "id": "rAIMsupFR-wp",
        "colab": {
          "base_uri": "https://localhost:8080/",
          "height": 72
        },
        "outputId": "c4285f8c-b6d4-4701-f6ca-f084efdb11a9"
      },
      "source": [
        "# printando scores\n",
        "print('Rede Neural: ', scores_re3)\n",
        "print('Arvore: ', scores_ar3)\n",
        "print('Random Forest: ', scores_fl3)"
      ],
      "execution_count": null,
      "outputs": [
        {
          "output_type": "stream",
          "text": [
            "Rede Neural:  [0.66666667 0.73333333 0.71666667 0.8        0.72881356]\n",
            "Arvore:  [0.63333333 0.7        0.63333333 0.76666667 0.6440678 ]\n",
            "Random Forest:  [0.75       0.66666667 0.78333333 0.76666667 0.76271186]\n"
          ],
          "name": "stdout"
        }
      ]
    },
    {
      "cell_type": "code",
      "metadata": {
        "colab_type": "code",
        "id": "fPa4LcnyR-wt",
        "colab": {
          "base_uri": "https://localhost:8080/",
          "height": 72
        },
        "outputId": "6263434c-9694-4e92-aacc-50086c5e887b"
      },
      "source": [
        "print('Rede Neural: ', scores_re2.mean(), scores_re2.std())\n",
        "print('Arvore: ', scores_ar2.mean(), scores_ar2.std())\n",
        "print('Random Forest: ', scores_fl2.mean(), scores_fl2.std())"
      ],
      "execution_count": null,
      "outputs": [
        {
          "output_type": "stream",
          "text": [
            "Rede Neural:  0.6201079622132253 0.10359503889125339\n",
            "Arvore:  0.6248313090418354 0.04926607808786332\n",
            "Random Forest:  0.6937921727395412 0.08971304260283551\n"
          ],
          "name": "stdout"
        }
      ]
    }
  ]
}