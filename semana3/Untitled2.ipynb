{
  "nbformat": 4,
  "nbformat_minor": 0,
  "metadata": {
    "colab": {
      "name": "Untitled2.ipynb",
      "provenance": [],
      "collapsed_sections": [
        "wFrXYvKzTWca",
        "nMwr_aJfTnyp",
        "hCgwjbrqXjEY",
        "MsP8KusSX1SO",
        "7_XbOhfDYZMR",
        "ysSRwfDbaw9q",
        "e-9vyDe2d982",
        "vo-Se8xqhyax",
        "7Ov4C5O-nCC3",
        "orlr5Rov4RS-",
        "DsrbZpXkzQ5H",
        "94goVuKANXmF",
        "vE0X98E1R-u8",
        "jGyCT2FLR-vm",
        "Pl8MVx2lR-v2",
        "kKegj5ImR-wH",
        "3QoNj-b7ubCa"
      ],
      "authorship_tag": "ABX9TyOgV0vkOHZfClFEF+YfMLk+",
      "include_colab_link": true
    },
    "kernelspec": {
      "name": "python3",
      "display_name": "Python 3"
    }
  },
  "cells": [
    {
      "cell_type": "markdown",
      "metadata": {
        "id": "view-in-github",
        "colab_type": "text"
      },
      "source": [
        "<a href=\"https://colab.research.google.com/github/svhenrique/analise-dataset-heart-disease/blob/master/semana3/Untitled2.ipynb\" target=\"_parent\"><img src=\"https://colab.research.google.com/assets/colab-badge.svg\" alt=\"Open In Colab\"/></a>"
      ]
    },
    {
      "cell_type": "markdown",
      "metadata": {
        "id": "d77vlcg0Qcyi",
        "colab_type": "text"
      },
      "source": [
        "# **Dados sobre mortalidade da insuficiênia cardíaca**\n",
        "\n",
        "\n",
        "*   O dataset contém 12 recursos que podem ser usados para prever a morte por insuficiência cardíaca.\n",
        "* [Heart Failure Prediction](https://www.kaggle.com/andrewmvd/heart-failure-clinical-data)   \n",
        "* Atributos numéricos descrevem:\n",
        "  * age\n",
        "    * idade\n",
        "  * anaemia\n",
        "    * anemia\n",
        "  * creatinine_phosphokinase\n",
        "    * creatinina fosfoquinase \n",
        "  * diabetes\n",
        "    * diabetes\n",
        "  * ejection_fraction\n",
        "    * fração de ejeção\n",
        "  * high_blood_pressure\n",
        "    * hipertensão arterial\n",
        "  * platelets\n",
        "    * plaquetas\n",
        "  * serum_creatinine\n",
        "    * creatinina sérica\n",
        "  * serum_sodium\n",
        "    * sódio sérico\n",
        "  * sex\n",
        "    * sexo\n",
        "  * smoking\n",
        "    * fumante\n",
        "  * time\n",
        "    * tempo\n",
        "  * DEATH_EVENT\n",
        "    * morte\n",
        "\n",
        "* 298 instâncias\n",
        "* Problema de classificação binária \n",
        "\n",
        "* Mais detalhes sobre a  organização e análise preliminar dos dados desse dataset\n",
        "[estão aqui](https://github.com/svhenrique/analise-dataset-heart-disease/blob/master/Untitled0.ipynb).\n",
        "\n",
        "* Mais detalhes sobre os testes feitos com Arvore de Decisão e Random Forest [estão aqui](https://github.com/svhenrique/analise-dataset-heart-disease/blob/master/semana2/Untitled1.ipynb).\n",
        "\n",
        "\n"
      ]
    },
    {
      "cell_type": "markdown",
      "metadata": {
        "id": "wFrXYvKzTWca",
        "colab_type": "text"
      },
      "source": [
        "##**Importando bibliotecas e métodos necessários**"
      ]
    },
    {
      "cell_type": "code",
      "metadata": {
        "id": "FCyfYZCldsY5",
        "colab_type": "code",
        "colab": {
          "base_uri": "https://localhost:8080/",
          "height": 110
        },
        "outputId": "79f3512d-b49d-4759-f99d-02f4d1f83f29"
      },
      "source": [
        "import pandas as pd\n",
        "import matplotlib.pyplot as plt\n",
        "\n",
        "from sklearn.model_selection import train_test_split\n",
        "from sklearn.tree import DecisionTreeClassifier\n",
        "from sklearn.tree import plot_tree\n",
        "from sklearn.ensemble import RandomForestClassifier\n",
        "from sklearn.neural_network import MLPClassifier\n",
        "\n",
        "from sklearn.metrics import accuracy_score\n",
        "from sklearn.metrics import precision_score\n",
        "from sklearn.metrics import recall_score\n",
        "from sklearn.metrics import f1_score\n",
        "from sklearn.metrics import roc_curve\n",
        "from sklearn.metrics import roc_auc_score\n",
        "from sklearn.model_selection import cross_val_score\n",
        "\n",
        "from imblearn.over_sampling import RandomOverSampler "
      ],
      "execution_count": 4,
      "outputs": [
        {
          "output_type": "stream",
          "text": [
            "/usr/local/lib/python3.6/dist-packages/sklearn/externals/six.py:31: FutureWarning: The module is deprecated in version 0.21 and will be removed in version 0.23 since we've dropped support for Python 2.7. Please rely on the official version of six (https://pypi.org/project/six/).\n",
            "  \"(https://pypi.org/project/six/).\", FutureWarning)\n",
            "/usr/local/lib/python3.6/dist-packages/sklearn/utils/deprecation.py:144: FutureWarning: The sklearn.neighbors.base module is  deprecated in version 0.22 and will be removed in version 0.24. The corresponding classes / functions should instead be imported from sklearn.neighbors. Anything that cannot be imported from sklearn.neighbors is now part of the private API.\n",
            "  warnings.warn(message, FutureWarning)\n"
          ],
          "name": "stderr"
        }
      ]
    },
    {
      "cell_type": "markdown",
      "metadata": {
        "id": "thY7PzE6TbHr",
        "colab_type": "text"
      },
      "source": [
        "##**Lendos os dados do dataset**"
      ]
    },
    {
      "cell_type": "code",
      "metadata": {
        "id": "KllFw9UzTrg4",
        "colab_type": "code",
        "colab": {
          "base_uri": "https://localhost:8080/",
          "height": 226
        },
        "outputId": "4bbae29d-03b9-434b-886e-0a07ff926e42"
      },
      "source": [
        "# lendo csv e armazenando em um dataframe\n",
        "dados = pd.read_csv('https://raw.githubusercontent.com/svhenrique/analise-dataset-heart-disease/master/heart_failure_clinical_records_dataset.csv')\n",
        "dados.head()"
      ],
      "execution_count": 5,
      "outputs": [
        {
          "output_type": "execute_result",
          "data": {
            "text/html": [
              "<div>\n",
              "<style scoped>\n",
              "    .dataframe tbody tr th:only-of-type {\n",
              "        vertical-align: middle;\n",
              "    }\n",
              "\n",
              "    .dataframe tbody tr th {\n",
              "        vertical-align: top;\n",
              "    }\n",
              "\n",
              "    .dataframe thead th {\n",
              "        text-align: right;\n",
              "    }\n",
              "</style>\n",
              "<table border=\"1\" class=\"dataframe\">\n",
              "  <thead>\n",
              "    <tr style=\"text-align: right;\">\n",
              "      <th></th>\n",
              "      <th>age</th>\n",
              "      <th>anaemia</th>\n",
              "      <th>creatinine_phosphokinase</th>\n",
              "      <th>diabetes</th>\n",
              "      <th>ejection_fraction</th>\n",
              "      <th>high_blood_pressure</th>\n",
              "      <th>platelets</th>\n",
              "      <th>serum_creatinine</th>\n",
              "      <th>serum_sodium</th>\n",
              "      <th>sex</th>\n",
              "      <th>smoking</th>\n",
              "      <th>time</th>\n",
              "      <th>DEATH_EVENT</th>\n",
              "    </tr>\n",
              "  </thead>\n",
              "  <tbody>\n",
              "    <tr>\n",
              "      <th>0</th>\n",
              "      <td>75.0</td>\n",
              "      <td>0</td>\n",
              "      <td>582</td>\n",
              "      <td>0</td>\n",
              "      <td>20</td>\n",
              "      <td>1</td>\n",
              "      <td>265000.00</td>\n",
              "      <td>1.9</td>\n",
              "      <td>130</td>\n",
              "      <td>1</td>\n",
              "      <td>0</td>\n",
              "      <td>4</td>\n",
              "      <td>1</td>\n",
              "    </tr>\n",
              "    <tr>\n",
              "      <th>1</th>\n",
              "      <td>55.0</td>\n",
              "      <td>0</td>\n",
              "      <td>7861</td>\n",
              "      <td>0</td>\n",
              "      <td>38</td>\n",
              "      <td>0</td>\n",
              "      <td>263358.03</td>\n",
              "      <td>1.1</td>\n",
              "      <td>136</td>\n",
              "      <td>1</td>\n",
              "      <td>0</td>\n",
              "      <td>6</td>\n",
              "      <td>1</td>\n",
              "    </tr>\n",
              "    <tr>\n",
              "      <th>2</th>\n",
              "      <td>65.0</td>\n",
              "      <td>0</td>\n",
              "      <td>146</td>\n",
              "      <td>0</td>\n",
              "      <td>20</td>\n",
              "      <td>0</td>\n",
              "      <td>162000.00</td>\n",
              "      <td>1.3</td>\n",
              "      <td>129</td>\n",
              "      <td>1</td>\n",
              "      <td>1</td>\n",
              "      <td>7</td>\n",
              "      <td>1</td>\n",
              "    </tr>\n",
              "    <tr>\n",
              "      <th>3</th>\n",
              "      <td>50.0</td>\n",
              "      <td>1</td>\n",
              "      <td>111</td>\n",
              "      <td>0</td>\n",
              "      <td>20</td>\n",
              "      <td>0</td>\n",
              "      <td>210000.00</td>\n",
              "      <td>1.9</td>\n",
              "      <td>137</td>\n",
              "      <td>1</td>\n",
              "      <td>0</td>\n",
              "      <td>7</td>\n",
              "      <td>1</td>\n",
              "    </tr>\n",
              "    <tr>\n",
              "      <th>4</th>\n",
              "      <td>65.0</td>\n",
              "      <td>1</td>\n",
              "      <td>160</td>\n",
              "      <td>1</td>\n",
              "      <td>20</td>\n",
              "      <td>0</td>\n",
              "      <td>327000.00</td>\n",
              "      <td>2.7</td>\n",
              "      <td>116</td>\n",
              "      <td>0</td>\n",
              "      <td>0</td>\n",
              "      <td>8</td>\n",
              "      <td>1</td>\n",
              "    </tr>\n",
              "  </tbody>\n",
              "</table>\n",
              "</div>"
            ],
            "text/plain": [
              "    age  anaemia  creatinine_phosphokinase  ...  smoking  time  DEATH_EVENT\n",
              "0  75.0        0                       582  ...        0     4            1\n",
              "1  55.0        0                      7861  ...        0     6            1\n",
              "2  65.0        0                       146  ...        1     7            1\n",
              "3  50.0        1                       111  ...        0     7            1\n",
              "4  65.0        1                       160  ...        0     8            1\n",
              "\n",
              "[5 rows x 13 columns]"
            ]
          },
          "metadata": {
            "tags": []
          },
          "execution_count": 5
        }
      ]
    },
    {
      "cell_type": "markdown",
      "metadata": {
        "id": "Z560uvqaTrTR",
        "colab_type": "text"
      },
      "source": [
        "## **Limpeza e organização dos dados para modelagem**\n"
      ]
    },
    {
      "cell_type": "code",
      "metadata": {
        "id": "3l7fTZuEXBmZ",
        "colab_type": "code",
        "colab": {
          "base_uri": "https://localhost:8080/",
          "height": 226
        },
        "outputId": "5f3048e3-6473-46fd-cd46-76554cfaa069"
      },
      "source": [
        "# excluindo colunas irrelevantes\n",
        "\n",
        "dados = dados.drop(columns=['time'])\n",
        "dados.head()"
      ],
      "execution_count": 6,
      "outputs": [
        {
          "output_type": "execute_result",
          "data": {
            "text/html": [
              "<div>\n",
              "<style scoped>\n",
              "    .dataframe tbody tr th:only-of-type {\n",
              "        vertical-align: middle;\n",
              "    }\n",
              "\n",
              "    .dataframe tbody tr th {\n",
              "        vertical-align: top;\n",
              "    }\n",
              "\n",
              "    .dataframe thead th {\n",
              "        text-align: right;\n",
              "    }\n",
              "</style>\n",
              "<table border=\"1\" class=\"dataframe\">\n",
              "  <thead>\n",
              "    <tr style=\"text-align: right;\">\n",
              "      <th></th>\n",
              "      <th>age</th>\n",
              "      <th>anaemia</th>\n",
              "      <th>creatinine_phosphokinase</th>\n",
              "      <th>diabetes</th>\n",
              "      <th>ejection_fraction</th>\n",
              "      <th>high_blood_pressure</th>\n",
              "      <th>platelets</th>\n",
              "      <th>serum_creatinine</th>\n",
              "      <th>serum_sodium</th>\n",
              "      <th>sex</th>\n",
              "      <th>smoking</th>\n",
              "      <th>DEATH_EVENT</th>\n",
              "    </tr>\n",
              "  </thead>\n",
              "  <tbody>\n",
              "    <tr>\n",
              "      <th>0</th>\n",
              "      <td>75.0</td>\n",
              "      <td>0</td>\n",
              "      <td>582</td>\n",
              "      <td>0</td>\n",
              "      <td>20</td>\n",
              "      <td>1</td>\n",
              "      <td>265000.00</td>\n",
              "      <td>1.9</td>\n",
              "      <td>130</td>\n",
              "      <td>1</td>\n",
              "      <td>0</td>\n",
              "      <td>1</td>\n",
              "    </tr>\n",
              "    <tr>\n",
              "      <th>1</th>\n",
              "      <td>55.0</td>\n",
              "      <td>0</td>\n",
              "      <td>7861</td>\n",
              "      <td>0</td>\n",
              "      <td>38</td>\n",
              "      <td>0</td>\n",
              "      <td>263358.03</td>\n",
              "      <td>1.1</td>\n",
              "      <td>136</td>\n",
              "      <td>1</td>\n",
              "      <td>0</td>\n",
              "      <td>1</td>\n",
              "    </tr>\n",
              "    <tr>\n",
              "      <th>2</th>\n",
              "      <td>65.0</td>\n",
              "      <td>0</td>\n",
              "      <td>146</td>\n",
              "      <td>0</td>\n",
              "      <td>20</td>\n",
              "      <td>0</td>\n",
              "      <td>162000.00</td>\n",
              "      <td>1.3</td>\n",
              "      <td>129</td>\n",
              "      <td>1</td>\n",
              "      <td>1</td>\n",
              "      <td>1</td>\n",
              "    </tr>\n",
              "    <tr>\n",
              "      <th>3</th>\n",
              "      <td>50.0</td>\n",
              "      <td>1</td>\n",
              "      <td>111</td>\n",
              "      <td>0</td>\n",
              "      <td>20</td>\n",
              "      <td>0</td>\n",
              "      <td>210000.00</td>\n",
              "      <td>1.9</td>\n",
              "      <td>137</td>\n",
              "      <td>1</td>\n",
              "      <td>0</td>\n",
              "      <td>1</td>\n",
              "    </tr>\n",
              "    <tr>\n",
              "      <th>4</th>\n",
              "      <td>65.0</td>\n",
              "      <td>1</td>\n",
              "      <td>160</td>\n",
              "      <td>1</td>\n",
              "      <td>20</td>\n",
              "      <td>0</td>\n",
              "      <td>327000.00</td>\n",
              "      <td>2.7</td>\n",
              "      <td>116</td>\n",
              "      <td>0</td>\n",
              "      <td>0</td>\n",
              "      <td>1</td>\n",
              "    </tr>\n",
              "  </tbody>\n",
              "</table>\n",
              "</div>"
            ],
            "text/plain": [
              "    age  anaemia  creatinine_phosphokinase  ...  sex  smoking  DEATH_EVENT\n",
              "0  75.0        0                       582  ...    1        0            1\n",
              "1  55.0        0                      7861  ...    1        0            1\n",
              "2  65.0        0                       146  ...    1        1            1\n",
              "3  50.0        1                       111  ...    1        0            1\n",
              "4  65.0        1                       160  ...    0        0            1\n",
              "\n",
              "[5 rows x 12 columns]"
            ]
          },
          "metadata": {
            "tags": []
          },
          "execution_count": 6
        }
      ]
    },
    {
      "cell_type": "code",
      "metadata": {
        "id": "DjuIBa3YXLBY",
        "colab_type": "code",
        "colab": {
          "base_uri": "https://localhost:8080/",
          "height": 254
        },
        "outputId": "f6a538f5-3054-4bd8-83c7-f8fae7e4d2a5"
      },
      "source": [
        "# verificando se existem valores NAN, ? ou dados faltantes\n",
        "dados.isna().any()"
      ],
      "execution_count": 7,
      "outputs": [
        {
          "output_type": "execute_result",
          "data": {
            "text/plain": [
              "age                         False\n",
              "anaemia                     False\n",
              "creatinine_phosphokinase    False\n",
              "diabetes                    False\n",
              "ejection_fraction           False\n",
              "high_blood_pressure         False\n",
              "platelets                   False\n",
              "serum_creatinine            False\n",
              "serum_sodium                False\n",
              "sex                         False\n",
              "smoking                     False\n",
              "DEATH_EVENT                 False\n",
              "dtype: bool"
            ]
          },
          "metadata": {
            "tags": []
          },
          "execution_count": 7
        }
      ]
    },
    {
      "cell_type": "markdown",
      "metadata": {
        "id": "nMwr_aJfTnyp",
        "colab_type": "text"
      },
      "source": [
        "## **Re-escala dos dados**"
      ]
    },
    {
      "cell_type": "code",
      "metadata": {
        "id": "yZ0nBn5CXYki",
        "colab_type": "code",
        "colab": {
          "base_uri": "https://localhost:8080/",
          "height": 226
        },
        "outputId": "c8381216-8801-4602-fd43-bfc292317034"
      },
      "source": [
        "# Reescala usando máximo e mínimo\n",
        "dados = (dados - dados.min())/(dados.max()-dados.min())\n",
        "dados.head()"
      ],
      "execution_count": 8,
      "outputs": [
        {
          "output_type": "execute_result",
          "data": {
            "text/html": [
              "<div>\n",
              "<style scoped>\n",
              "    .dataframe tbody tr th:only-of-type {\n",
              "        vertical-align: middle;\n",
              "    }\n",
              "\n",
              "    .dataframe tbody tr th {\n",
              "        vertical-align: top;\n",
              "    }\n",
              "\n",
              "    .dataframe thead th {\n",
              "        text-align: right;\n",
              "    }\n",
              "</style>\n",
              "<table border=\"1\" class=\"dataframe\">\n",
              "  <thead>\n",
              "    <tr style=\"text-align: right;\">\n",
              "      <th></th>\n",
              "      <th>age</th>\n",
              "      <th>anaemia</th>\n",
              "      <th>creatinine_phosphokinase</th>\n",
              "      <th>diabetes</th>\n",
              "      <th>ejection_fraction</th>\n",
              "      <th>high_blood_pressure</th>\n",
              "      <th>platelets</th>\n",
              "      <th>serum_creatinine</th>\n",
              "      <th>serum_sodium</th>\n",
              "      <th>sex</th>\n",
              "      <th>smoking</th>\n",
              "      <th>DEATH_EVENT</th>\n",
              "    </tr>\n",
              "  </thead>\n",
              "  <tbody>\n",
              "    <tr>\n",
              "      <th>0</th>\n",
              "      <td>0.636364</td>\n",
              "      <td>0.0</td>\n",
              "      <td>0.071319</td>\n",
              "      <td>0.0</td>\n",
              "      <td>0.090909</td>\n",
              "      <td>1.0</td>\n",
              "      <td>0.290823</td>\n",
              "      <td>0.157303</td>\n",
              "      <td>0.485714</td>\n",
              "      <td>1.0</td>\n",
              "      <td>0.0</td>\n",
              "      <td>1.0</td>\n",
              "    </tr>\n",
              "    <tr>\n",
              "      <th>1</th>\n",
              "      <td>0.272727</td>\n",
              "      <td>0.0</td>\n",
              "      <td>1.000000</td>\n",
              "      <td>0.0</td>\n",
              "      <td>0.363636</td>\n",
              "      <td>0.0</td>\n",
              "      <td>0.288833</td>\n",
              "      <td>0.067416</td>\n",
              "      <td>0.657143</td>\n",
              "      <td>1.0</td>\n",
              "      <td>0.0</td>\n",
              "      <td>1.0</td>\n",
              "    </tr>\n",
              "    <tr>\n",
              "      <th>2</th>\n",
              "      <td>0.454545</td>\n",
              "      <td>0.0</td>\n",
              "      <td>0.015693</td>\n",
              "      <td>0.0</td>\n",
              "      <td>0.090909</td>\n",
              "      <td>0.0</td>\n",
              "      <td>0.165960</td>\n",
              "      <td>0.089888</td>\n",
              "      <td>0.457143</td>\n",
              "      <td>1.0</td>\n",
              "      <td>1.0</td>\n",
              "      <td>1.0</td>\n",
              "    </tr>\n",
              "    <tr>\n",
              "      <th>3</th>\n",
              "      <td>0.181818</td>\n",
              "      <td>1.0</td>\n",
              "      <td>0.011227</td>\n",
              "      <td>0.0</td>\n",
              "      <td>0.090909</td>\n",
              "      <td>0.0</td>\n",
              "      <td>0.224148</td>\n",
              "      <td>0.157303</td>\n",
              "      <td>0.685714</td>\n",
              "      <td>1.0</td>\n",
              "      <td>0.0</td>\n",
              "      <td>1.0</td>\n",
              "    </tr>\n",
              "    <tr>\n",
              "      <th>4</th>\n",
              "      <td>0.454545</td>\n",
              "      <td>1.0</td>\n",
              "      <td>0.017479</td>\n",
              "      <td>1.0</td>\n",
              "      <td>0.090909</td>\n",
              "      <td>0.0</td>\n",
              "      <td>0.365984</td>\n",
              "      <td>0.247191</td>\n",
              "      <td>0.085714</td>\n",
              "      <td>0.0</td>\n",
              "      <td>0.0</td>\n",
              "      <td>1.0</td>\n",
              "    </tr>\n",
              "  </tbody>\n",
              "</table>\n",
              "</div>"
            ],
            "text/plain": [
              "        age  anaemia  creatinine_phosphokinase  ...  sex  smoking  DEATH_EVENT\n",
              "0  0.636364      0.0                  0.071319  ...  1.0      0.0          1.0\n",
              "1  0.272727      0.0                  1.000000  ...  1.0      0.0          1.0\n",
              "2  0.454545      0.0                  0.015693  ...  1.0      1.0          1.0\n",
              "3  0.181818      1.0                  0.011227  ...  1.0      0.0          1.0\n",
              "4  0.454545      1.0                  0.017479  ...  0.0      0.0          1.0\n",
              "\n",
              "[5 rows x 12 columns]"
            ]
          },
          "metadata": {
            "tags": []
          },
          "execution_count": 8
        }
      ]
    },
    {
      "cell_type": "markdown",
      "metadata": {
        "id": "w-yw_U79hbOJ",
        "colab_type": "text"
      },
      "source": [
        "\n",
        "\n",
        "---\n",
        "\n",
        "Separarei o treinamento dos classificadores em duas etapas, uma com os dados desbalanceados e outra com os dados balanceados.\n",
        "\n",
        "---\n",
        "\n",
        "\n"
      ]
    },
    {
      "cell_type": "markdown",
      "metadata": {
        "id": "fVXsC2OSz5H9",
        "colab_type": "text"
      },
      "source": [
        "# **Sem balanceamento**"
      ]
    },
    {
      "cell_type": "markdown",
      "metadata": {
        "id": "hCgwjbrqXjEY",
        "colab_type": "text"
      },
      "source": [
        "\n",
        "## **Organizando dados para modelagem**\n"
      ]
    },
    {
      "cell_type": "markdown",
      "metadata": {
        "id": "MsP8KusSX1SO",
        "colab_type": "text"
      },
      "source": [
        "### **Dividindo os dados em atributos descritores e atributos de classe**"
      ]
    },
    {
      "cell_type": "code",
      "metadata": {
        "id": "P140mNIQXYg5",
        "colab_type": "code",
        "colab": {
          "base_uri": "https://localhost:8080/",
          "height": 244
        },
        "outputId": "b40ab499-23bf-4c3c-d09a-4637717621c4"
      },
      "source": [
        "# X recebe os atributos descritores\n",
        "tam = len(dados.columns)\n",
        "X = dados.iloc[:,0:(tam-1)]\n",
        "print(\"Coluna apagada: \", set(dados.columns) -set(X.columns))\n",
        "X.head()"
      ],
      "execution_count": 9,
      "outputs": [
        {
          "output_type": "stream",
          "text": [
            "Coluna apagada:  {'DEATH_EVENT'}\n"
          ],
          "name": "stdout"
        },
        {
          "output_type": "execute_result",
          "data": {
            "text/html": [
              "<div>\n",
              "<style scoped>\n",
              "    .dataframe tbody tr th:only-of-type {\n",
              "        vertical-align: middle;\n",
              "    }\n",
              "\n",
              "    .dataframe tbody tr th {\n",
              "        vertical-align: top;\n",
              "    }\n",
              "\n",
              "    .dataframe thead th {\n",
              "        text-align: right;\n",
              "    }\n",
              "</style>\n",
              "<table border=\"1\" class=\"dataframe\">\n",
              "  <thead>\n",
              "    <tr style=\"text-align: right;\">\n",
              "      <th></th>\n",
              "      <th>age</th>\n",
              "      <th>anaemia</th>\n",
              "      <th>creatinine_phosphokinase</th>\n",
              "      <th>diabetes</th>\n",
              "      <th>ejection_fraction</th>\n",
              "      <th>high_blood_pressure</th>\n",
              "      <th>platelets</th>\n",
              "      <th>serum_creatinine</th>\n",
              "      <th>serum_sodium</th>\n",
              "      <th>sex</th>\n",
              "      <th>smoking</th>\n",
              "    </tr>\n",
              "  </thead>\n",
              "  <tbody>\n",
              "    <tr>\n",
              "      <th>0</th>\n",
              "      <td>0.636364</td>\n",
              "      <td>0.0</td>\n",
              "      <td>0.071319</td>\n",
              "      <td>0.0</td>\n",
              "      <td>0.090909</td>\n",
              "      <td>1.0</td>\n",
              "      <td>0.290823</td>\n",
              "      <td>0.157303</td>\n",
              "      <td>0.485714</td>\n",
              "      <td>1.0</td>\n",
              "      <td>0.0</td>\n",
              "    </tr>\n",
              "    <tr>\n",
              "      <th>1</th>\n",
              "      <td>0.272727</td>\n",
              "      <td>0.0</td>\n",
              "      <td>1.000000</td>\n",
              "      <td>0.0</td>\n",
              "      <td>0.363636</td>\n",
              "      <td>0.0</td>\n",
              "      <td>0.288833</td>\n",
              "      <td>0.067416</td>\n",
              "      <td>0.657143</td>\n",
              "      <td>1.0</td>\n",
              "      <td>0.0</td>\n",
              "    </tr>\n",
              "    <tr>\n",
              "      <th>2</th>\n",
              "      <td>0.454545</td>\n",
              "      <td>0.0</td>\n",
              "      <td>0.015693</td>\n",
              "      <td>0.0</td>\n",
              "      <td>0.090909</td>\n",
              "      <td>0.0</td>\n",
              "      <td>0.165960</td>\n",
              "      <td>0.089888</td>\n",
              "      <td>0.457143</td>\n",
              "      <td>1.0</td>\n",
              "      <td>1.0</td>\n",
              "    </tr>\n",
              "    <tr>\n",
              "      <th>3</th>\n",
              "      <td>0.181818</td>\n",
              "      <td>1.0</td>\n",
              "      <td>0.011227</td>\n",
              "      <td>0.0</td>\n",
              "      <td>0.090909</td>\n",
              "      <td>0.0</td>\n",
              "      <td>0.224148</td>\n",
              "      <td>0.157303</td>\n",
              "      <td>0.685714</td>\n",
              "      <td>1.0</td>\n",
              "      <td>0.0</td>\n",
              "    </tr>\n",
              "    <tr>\n",
              "      <th>4</th>\n",
              "      <td>0.454545</td>\n",
              "      <td>1.0</td>\n",
              "      <td>0.017479</td>\n",
              "      <td>1.0</td>\n",
              "      <td>0.090909</td>\n",
              "      <td>0.0</td>\n",
              "      <td>0.365984</td>\n",
              "      <td>0.247191</td>\n",
              "      <td>0.085714</td>\n",
              "      <td>0.0</td>\n",
              "      <td>0.0</td>\n",
              "    </tr>\n",
              "  </tbody>\n",
              "</table>\n",
              "</div>"
            ],
            "text/plain": [
              "        age  anaemia  creatinine_phosphokinase  ...  serum_sodium  sex  smoking\n",
              "0  0.636364      0.0                  0.071319  ...      0.485714  1.0      0.0\n",
              "1  0.272727      0.0                  1.000000  ...      0.657143  1.0      0.0\n",
              "2  0.454545      0.0                  0.015693  ...      0.457143  1.0      1.0\n",
              "3  0.181818      1.0                  0.011227  ...      0.685714  1.0      0.0\n",
              "4  0.454545      1.0                  0.017479  ...      0.085714  0.0      0.0\n",
              "\n",
              "[5 rows x 11 columns]"
            ]
          },
          "metadata": {
            "tags": []
          },
          "execution_count": 9
        }
      ]
    },
    {
      "cell_type": "code",
      "metadata": {
        "id": "Cmm3gEkCYJz7",
        "colab_type": "code",
        "colab": {
          "base_uri": "https://localhost:8080/",
          "height": 235
        },
        "outputId": "d6f5bdab-7a1e-4305-9d14-d8acad3ead1b"
      },
      "source": [
        "# y recebe o atributo de classe (target)\n",
        "y = dados.DEATH_EVENT\n",
        "y"
      ],
      "execution_count": 10,
      "outputs": [
        {
          "output_type": "execute_result",
          "data": {
            "text/plain": [
              "0      1.0\n",
              "1      1.0\n",
              "2      1.0\n",
              "3      1.0\n",
              "4      1.0\n",
              "      ... \n",
              "294    0.0\n",
              "295    0.0\n",
              "296    0.0\n",
              "297    0.0\n",
              "298    0.0\n",
              "Name: DEATH_EVENT, Length: 299, dtype: float64"
            ]
          },
          "metadata": {
            "tags": []
          },
          "execution_count": 10
        }
      ]
    },
    {
      "cell_type": "markdown",
      "metadata": {
        "id": "7_XbOhfDYZMR",
        "colab_type": "text"
      },
      "source": [
        "### **Dividindo os dados em treino e teste**"
      ]
    },
    {
      "cell_type": "code",
      "metadata": {
        "id": "yoGsVAtEYTaY",
        "colab_type": "code",
        "colab": {}
      },
      "source": [
        "# 20% dos dados serão para teste \n",
        "# X_train e y_train serão para treino\n",
        "# X_test e y_test serão para teste\n",
        "\n",
        "X_train, X_test, y_train, y_test = train_test_split(X,y, test_size=0.2)"
      ],
      "execution_count": 11,
      "outputs": []
    },
    {
      "cell_type": "markdown",
      "metadata": {
        "id": "ppiZGrOyanVl",
        "colab_type": "text"
      },
      "source": [
        "## **Definindo algoritmo de aprendizado**\n"
      ]
    },
    {
      "cell_type": "markdown",
      "metadata": {
        "id": "ysSRwfDbaw9q",
        "colab_type": "text"
      },
      "source": [
        "### **Rede Neural Multi-Layer Perceptron (MLP)**"
      ]
    },
    {
      "cell_type": "code",
      "metadata": {
        "id": "481mszk8dPW6",
        "colab_type": "code",
        "colab": {}
      },
      "source": [
        "# definindo modelo\n",
        "rede = MLPClassifier(hidden_layer_sizes=(150),activation='logistic',max_iter=1500)"
      ],
      "execution_count": 99,
      "outputs": []
    },
    {
      "cell_type": "code",
      "metadata": {
        "id": "W-WlV1AUdrGv",
        "colab_type": "code",
        "colab": {
          "base_uri": "https://localhost:8080/",
          "height": 163
        },
        "outputId": "66c1cb0e-05d0-4a83-ddb6-3aab0367fc3a"
      },
      "source": [
        "# treinando modelo\n",
        "rede.fit(X_train,y_train)"
      ],
      "execution_count": 100,
      "outputs": [
        {
          "output_type": "execute_result",
          "data": {
            "text/plain": [
              "MLPClassifier(activation='logistic', alpha=0.0001, batch_size='auto',\n",
              "              beta_1=0.9, beta_2=0.999, early_stopping=False, epsilon=1e-08,\n",
              "              hidden_layer_sizes=150, learning_rate='constant',\n",
              "              learning_rate_init=0.001, max_fun=15000, max_iter=1500,\n",
              "              momentum=0.9, n_iter_no_change=10, nesterovs_momentum=True,\n",
              "              power_t=0.5, random_state=None, shuffle=True, solver='adam',\n",
              "              tol=0.0001, validation_fraction=0.1, verbose=False,\n",
              "              warm_start=False)"
            ]
          },
          "metadata": {
            "tags": []
          },
          "execution_count": 100
        }
      ]
    },
    {
      "cell_type": "code",
      "metadata": {
        "id": "uJ5Gcw_2d1Bt",
        "colab_type": "code",
        "colab": {
          "base_uri": "https://localhost:8080/",
          "height": 90
        },
        "outputId": "21c134fd-93b2-4053-b3d1-2bd2fcce4717"
      },
      "source": [
        "# realizando classificação\n",
        "rede = rede.predict(X_test)\n",
        "rede"
      ],
      "execution_count": 101,
      "outputs": [
        {
          "output_type": "execute_result",
          "data": {
            "text/plain": [
              "array([0., 1., 0., 0., 0., 0., 0., 0., 0., 1., 1., 1., 0., 0., 0., 0., 0.,\n",
              "       1., 0., 0., 0., 0., 0., 1., 0., 0., 0., 0., 0., 0., 1., 0., 1., 1.,\n",
              "       1., 0., 0., 0., 0., 0., 1., 0., 1., 0., 1., 0., 0., 1., 0., 0., 0.,\n",
              "       1., 0., 0., 0., 0., 0., 0., 1., 0.])"
            ]
          },
          "metadata": {
            "tags": []
          },
          "execution_count": 101
        }
      ]
    },
    {
      "cell_type": "markdown",
      "metadata": {
        "id": "e-9vyDe2d982",
        "colab_type": "text"
      },
      "source": [
        "## **Avaliando classificador**"
      ]
    },
    {
      "cell_type": "code",
      "metadata": {
        "id": "tdmyq7PteM2H",
        "colab_type": "code",
        "colab": {
          "base_uri": "https://localhost:8080/",
          "height": 35
        },
        "outputId": "c6c7bf72-0dee-4882-c03c-7a6ab85eff07"
      },
      "source": [
        "# calculando acurácia\n",
        "acuracia = accuracy_score(y_test,rede)\n",
        "acuracia"
      ],
      "execution_count": 102,
      "outputs": [
        {
          "output_type": "execute_result",
          "data": {
            "text/plain": [
              "0.7166666666666667"
            ]
          },
          "metadata": {
            "tags": []
          },
          "execution_count": 102
        }
      ]
    },
    {
      "cell_type": "code",
      "metadata": {
        "id": "A6hA6KmgeeVN",
        "colab_type": "code",
        "colab": {
          "base_uri": "https://localhost:8080/",
          "height": 35
        },
        "outputId": "5bff48a9-cb03-4748-a887-63ade719e068"
      },
      "source": [
        "# calculando precisão\n",
        "precisao = precision_score(y_test, rede)\n",
        "precisao"
      ],
      "execution_count": 103,
      "outputs": [
        {
          "output_type": "execute_result",
          "data": {
            "text/plain": [
              "0.5625"
            ]
          },
          "metadata": {
            "tags": []
          },
          "execution_count": 103
        }
      ]
    },
    {
      "cell_type": "code",
      "metadata": {
        "id": "eIND3icVeoi1",
        "colab_type": "code",
        "colab": {
          "base_uri": "https://localhost:8080/",
          "height": 35
        },
        "outputId": "ef7cb5bc-e299-46a9-e7e3-95972de6827e"
      },
      "source": [
        "# calculando recall\n",
        "recall = recall_score(y_test, rede)\n",
        "recall"
      ],
      "execution_count": 104,
      "outputs": [
        {
          "output_type": "execute_result",
          "data": {
            "text/plain": [
              "0.47368421052631576"
            ]
          },
          "metadata": {
            "tags": []
          },
          "execution_count": 104
        }
      ]
    },
    {
      "cell_type": "code",
      "metadata": {
        "id": "x6WFLt5Zg9xu",
        "colab_type": "code",
        "colab": {
          "base_uri": "https://localhost:8080/",
          "height": 35
        },
        "outputId": "2cdd6dca-3a09-4c39-88e6-aba6c1174fe3"
      },
      "source": [
        "# calculando f1-score\n",
        "f1 = f1_score(y_test,rede)\n",
        "f1"
      ],
      "execution_count": 105,
      "outputs": [
        {
          "output_type": "execute_result",
          "data": {
            "text/plain": [
              "0.5142857142857142"
            ]
          },
          "metadata": {
            "tags": []
          },
          "execution_count": 105
        }
      ]
    },
    {
      "cell_type": "code",
      "metadata": {
        "id": "uarvX2yphdK9",
        "colab_type": "code",
        "colab": {
          "base_uri": "https://localhost:8080/",
          "height": 313
        },
        "outputId": "656549a6-4c6b-4a7e-ae35-58cc6c659123"
      },
      "source": [
        "fpr, tpr, _ = roc_curve(y_test,rede)\n",
        "plt.plot(fpr,tpr,marker='.')\n",
        "plt.title('Curva ROC')\n",
        "plt.xlabel('Taxa de Falsos Positivos')\n",
        "plt.ylabel('Taxa de Verdadeiro Positivos')\n",
        "plt.show()\n",
        "print(f\"Área sobre a curva: {roc_auc_score(y_test,rede)}\")"
      ],
      "execution_count": 106,
      "outputs": [
        {
          "output_type": "display_data",
          "data": {
            "image/png": "[encoded data removed]",
            "text/plain": [
              "<Figure size 432x288 with 1 Axes>"
            ]
          },
          "metadata": {
            "tags": [],
            "needs_background": "light"
          }
        },
        {
          "output_type": "stream",
          "text": [
            "Área sobre a curva: 0.6514762516046213\n"
          ],
          "name": "stdout"
        }
      ]
    },
    {
      "cell_type": "markdown",
      "metadata": {
        "id": "vo-Se8xqhyax",
        "colab_type": "text"
      },
      "source": [
        "### Conclusão"
      ]
    },
    {
      "cell_type": "markdown",
      "metadata": {
        "id": "AFtsY_RNh5uA",
        "colab_type": "text"
      },
      "source": [
        "\n",
        "\n",
        "---\n",
        "\n",
        "\n",
        "A acurácia provavelmente está flutuando entre os 70%, mas, por conta das classes desbalanceadas, não é uma boa métrica de avaliação para um classificador. \n",
        "\n",
        "Outro ponto a ser observado é a diferença entre a precisão e o recall. Como o dataset possui mais instâncias da classe 0 do que da classe 1, o classificador será melhor em classificar classes do tipo 0, aumentando, portanto, a precisão. Porém, o classificador cometerá muitos falsos positivos, baixando a taxa de recall.\n",
        "\n",
        "\n",
        "---\n",
        "\n"
      ]
    },
    {
      "cell_type": "markdown",
      "metadata": {
        "id": "N9L1MPHni0_c",
        "colab_type": "text"
      },
      "source": [
        "## **Validação Cruzada - Rede Neural**"
      ]
    },
    {
      "cell_type": "code",
      "metadata": {
        "id": "LVQb66y93oIe",
        "colab_type": "code",
        "colab": {}
      },
      "source": [
        "# definindo modelo\n",
        "rede = MLPClassifier(hidden_layer_sizes=(150),activation='logistic',max_iter=1500)"
      ],
      "execution_count": 107,
      "outputs": []
    },
    {
      "cell_type": "code",
      "metadata": {
        "id": "LGNIeY_O3xHM",
        "colab_type": "code",
        "colab": {
          "base_uri": "https://localhost:8080/",
          "height": 53
        },
        "outputId": "30929f99-203e-444f-a40f-d9a8a7f02619"
      },
      "source": [
        "# calculando os scores\n",
        "scores = cross_val_score(rede,X,y,cv=10)\n",
        "scores"
      ],
      "execution_count": 108,
      "outputs": [
        {
          "output_type": "execute_result",
          "data": {
            "text/plain": [
              "array([0.7       , 0.66666667, 0.66666667, 0.63333333, 0.8       ,\n",
              "       0.6       , 0.73333333, 0.83333333, 0.8       , 0.75862069])"
            ]
          },
          "metadata": {
            "tags": []
          },
          "execution_count": 108
        }
      ]
    },
    {
      "cell_type": "code",
      "metadata": {
        "id": "DOP602iK4C7m",
        "colab_type": "code",
        "colab": {
          "base_uri": "https://localhost:8080/",
          "height": 35
        },
        "outputId": "f83868dc-71af-4338-a3dd-b7f439b793c6"
      },
      "source": [
        "# calculando a média e o desvio padrão dos scores\n",
        "scores.mean(), scores.std()"
      ],
      "execution_count": 109,
      "outputs": [
        {
          "output_type": "execute_result",
          "data": {
            "text/plain": [
              "(0.7191954022988505, 0.0743688820119386)"
            ]
          },
          "metadata": {
            "tags": []
          },
          "execution_count": 109
        }
      ]
    },
    {
      "cell_type": "markdown",
      "metadata": {
        "id": "7Ov4C5O-nCC3",
        "colab_type": "text"
      },
      "source": [
        "### Conclusão"
      ]
    },
    {
      "cell_type": "markdown",
      "metadata": {
        "id": "eC_Rx5bymvls",
        "colab_type": "text"
      },
      "source": [
        "\n",
        "\n",
        "---\n",
        "\n",
        "Provando o que foi dito anteriormente, a acurácia está realmente flutuando em torno dos 70%. \n",
        "\n",
        "---\n",
        "\n"
      ]
    },
    {
      "cell_type": "markdown",
      "metadata": {
        "id": "orlr5Rov4RS-",
        "colab_type": "text"
      },
      "source": [
        "## **Comparando MLP com Árvore de Decisão e Random Forest**"
      ]
    },
    {
      "cell_type": "code",
      "metadata": {
        "id": "2vwm0caZ4HjO",
        "colab_type": "code",
        "colab": {}
      },
      "source": [
        "# criando árvore\n",
        "arvore = DecisionTreeClassifier()\n",
        "\n",
        "# calculando os scores com cross validati\n",
        "scores_arvore = cross_val_score(arvore,X,y,cv=10)"
      ],
      "execution_count": 110,
      "outputs": []
    },
    {
      "cell_type": "code",
      "metadata": {
        "id": "dma_8hzSxen_",
        "colab_type": "code",
        "colab": {}
      },
      "source": [
        "#criando random forest\n",
        "floresta = RandomForestClassifier(n_estimators=200)\n",
        "\n",
        "#calculando os scores com cross validation\n",
        "scores_floresta = cross_val_score(floresta,X,y,cv=10)"
      ],
      "execution_count": 116,
      "outputs": []
    },
    {
      "cell_type": "code",
      "metadata": {
        "id": "cfF9tiMaxhy-",
        "colab_type": "code",
        "colab": {}
      },
      "source": [
        "#criando rede neural\n",
        "rede = MLPClassifier(hidden_layer_sizes=(100),activation='logistic',max_iter=1000)\n",
        "\n",
        "#calculando os scores com cross validation\n",
        "scores_rede = cross_val_score(rede,X,y,cv=10)"
      ],
      "execution_count": 112,
      "outputs": []
    },
    {
      "cell_type": "code",
      "metadata": {
        "id": "Fi4hKxI7amvd",
        "colab_type": "code",
        "colab": {
          "base_uri": "https://localhost:8080/",
          "height": 126
        },
        "outputId": "5908c03e-28e4-4928-b706-9ed7278c0cef"
      },
      "source": [
        "# printando scores\n",
        "print('Rede Neural: ', scores_rede)\n",
        "print('Arvore: ', scores_arvore)\n",
        "print('Random Forest: ', scores_floresta)"
      ],
      "execution_count": 117,
      "outputs": [
        {
          "output_type": "stream",
          "text": [
            "Rede Neural:  [0.7        0.66666667 0.8        0.66666667 0.8        0.6\n",
            " 0.73333333 0.83333333 0.8        0.75862069]\n",
            "Arvore:  [0.56666667 0.66666667 0.76666667 0.73333333 0.73333333 0.7\n",
            " 0.53333333 0.7        0.7        0.62068966]\n",
            "Random Forest:  [0.8        0.7        0.76666667 0.63333333 0.7        0.83333333\n",
            " 0.66666667 0.86666667 0.8        0.75862069]\n"
          ],
          "name": "stdout"
        }
      ]
    },
    {
      "cell_type": "code",
      "metadata": {
        "id": "GPkgWBCGxnMm",
        "colab_type": "code",
        "colab": {
          "base_uri": "https://localhost:8080/",
          "height": 72
        },
        "outputId": "0f55f901-cf21-4be7-a087-1e99b822a339"
      },
      "source": [
        "print('Árvore de Decisão: ', round(scores_arvore.mean(),3),round(scores_arvore.std(),3))\n",
        "print('Random Forest: ', round(scores.mean(),3),round(scores.std(),3))\n",
        "print('Rede Neural:', round(scores_rede.mean(),3),round(scores_rede.std(),3))"
      ],
      "execution_count": 118,
      "outputs": [
        {
          "output_type": "stream",
          "text": [
            "Árvore de Decisão:  0.672 0.072\n",
            "Random Forest:  0.719 0.074\n",
            "Rede Neural: 0.736 0.072\n"
          ],
          "name": "stdout"
        }
      ]
    },
    {
      "cell_type": "markdown",
      "metadata": {
        "id": "RAdfDP6_q6fn",
        "colab_type": "text"
      },
      "source": [
        "### Conclusão"
      ]
    },
    {
      "cell_type": "markdown",
      "metadata": {
        "id": "o0bpONfhq8vf",
        "colab_type": "text"
      },
      "source": [
        "\n",
        "\n",
        "---\n",
        "\n",
        "\n",
        "A Rede Neural (MLP), quando comparada aos outros classificadores, possui uma taxa de acertos maior. Porém, levando em conta o recall dado, não seria recomendado usar esse modelo em produção.\n",
        "\n",
        "\n",
        "---\n",
        "\n",
        "\n"
      ]
    },
    {
      "cell_type": "markdown",
      "metadata": {
        "id": "DsrbZpXkzQ5H",
        "colab_type": "text"
      },
      "source": [
        "# **Com balanceamento**"
      ]
    },
    {
      "cell_type": "markdown",
      "metadata": {
        "id": "xXArIVrkz9x3",
        "colab_type": "text"
      },
      "source": [
        "## **Organizando dados para modelagem**"
      ]
    },
    {
      "cell_type": "markdown",
      "metadata": {
        "id": "TQbPVg9FwBGe",
        "colab_type": "text"
      },
      "source": [
        "\n",
        "\n",
        "---\n",
        "\n",
        "\n",
        "Para balancear os dados, eu usarei um método que segue a lógica do *OverSampling*, uma técnica que consiste em dublicar instâncias da classe minoritária.\n",
        "\n",
        "Se os testes feitos tiverem um bom resultado, significa que o desbalanceamento das instâncias é o motivo das métricas de avaliação estarem baixas (principalemente a métrica recall).\n",
        "\n",
        "\n",
        "\n",
        "---"
      ]
    },
    {
      "cell_type": "markdown",
      "metadata": {
        "id": "94goVuKANXmF",
        "colab_type": "text"
      },
      "source": [
        "### **Balanceando e organizando os dados**"
      ]
    },
    {
      "cell_type": "code",
      "metadata": {
        "id": "5lsgKJRLNe0E",
        "colab_type": "code",
        "colab": {}
      },
      "source": [
        "# iniciando objeto para fazer OverSampling\n",
        "ros = RandomOverSampler()"
      ],
      "execution_count": 65,
      "outputs": []
    },
    {
      "cell_type": "code",
      "metadata": {
        "id": "0vVMqjtPOFWN",
        "colab_type": "code",
        "colab": {
          "base_uri": "https://localhost:8080/",
          "height": 226
        },
        "outputId": "3f83ad1d-c8dd-4495-fd3d-e83362400ca8"
      },
      "source": [
        "# iniciando X2\n",
        "tam = len(dados.columns)\n",
        "X2 = dados.iloc[:,0:(tam-1)]\n",
        "X2.head()"
      ],
      "execution_count": 66,
      "outputs": [
        {
          "output_type": "execute_result",
          "data": {
            "text/html": [
              "<div>\n",
              "<style scoped>\n",
              "    .dataframe tbody tr th:only-of-type {\n",
              "        vertical-align: middle;\n",
              "    }\n",
              "\n",
              "    .dataframe tbody tr th {\n",
              "        vertical-align: top;\n",
              "    }\n",
              "\n",
              "    .dataframe thead th {\n",
              "        text-align: right;\n",
              "    }\n",
              "</style>\n",
              "<table border=\"1\" class=\"dataframe\">\n",
              "  <thead>\n",
              "    <tr style=\"text-align: right;\">\n",
              "      <th></th>\n",
              "      <th>age</th>\n",
              "      <th>anaemia</th>\n",
              "      <th>creatinine_phosphokinase</th>\n",
              "      <th>diabetes</th>\n",
              "      <th>ejection_fraction</th>\n",
              "      <th>high_blood_pressure</th>\n",
              "      <th>platelets</th>\n",
              "      <th>serum_creatinine</th>\n",
              "      <th>serum_sodium</th>\n",
              "      <th>sex</th>\n",
              "      <th>smoking</th>\n",
              "    </tr>\n",
              "  </thead>\n",
              "  <tbody>\n",
              "    <tr>\n",
              "      <th>0</th>\n",
              "      <td>0.636364</td>\n",
              "      <td>0.0</td>\n",
              "      <td>0.071319</td>\n",
              "      <td>0.0</td>\n",
              "      <td>0.090909</td>\n",
              "      <td>1.0</td>\n",
              "      <td>0.290823</td>\n",
              "      <td>0.157303</td>\n",
              "      <td>0.485714</td>\n",
              "      <td>1.0</td>\n",
              "      <td>0.0</td>\n",
              "    </tr>\n",
              "    <tr>\n",
              "      <th>1</th>\n",
              "      <td>0.272727</td>\n",
              "      <td>0.0</td>\n",
              "      <td>1.000000</td>\n",
              "      <td>0.0</td>\n",
              "      <td>0.363636</td>\n",
              "      <td>0.0</td>\n",
              "      <td>0.288833</td>\n",
              "      <td>0.067416</td>\n",
              "      <td>0.657143</td>\n",
              "      <td>1.0</td>\n",
              "      <td>0.0</td>\n",
              "    </tr>\n",
              "    <tr>\n",
              "      <th>2</th>\n",
              "      <td>0.454545</td>\n",
              "      <td>0.0</td>\n",
              "      <td>0.015693</td>\n",
              "      <td>0.0</td>\n",
              "      <td>0.090909</td>\n",
              "      <td>0.0</td>\n",
              "      <td>0.165960</td>\n",
              "      <td>0.089888</td>\n",
              "      <td>0.457143</td>\n",
              "      <td>1.0</td>\n",
              "      <td>1.0</td>\n",
              "    </tr>\n",
              "    <tr>\n",
              "      <th>3</th>\n",
              "      <td>0.181818</td>\n",
              "      <td>1.0</td>\n",
              "      <td>0.011227</td>\n",
              "      <td>0.0</td>\n",
              "      <td>0.090909</td>\n",
              "      <td>0.0</td>\n",
              "      <td>0.224148</td>\n",
              "      <td>0.157303</td>\n",
              "      <td>0.685714</td>\n",
              "      <td>1.0</td>\n",
              "      <td>0.0</td>\n",
              "    </tr>\n",
              "    <tr>\n",
              "      <th>4</th>\n",
              "      <td>0.454545</td>\n",
              "      <td>1.0</td>\n",
              "      <td>0.017479</td>\n",
              "      <td>1.0</td>\n",
              "      <td>0.090909</td>\n",
              "      <td>0.0</td>\n",
              "      <td>0.365984</td>\n",
              "      <td>0.247191</td>\n",
              "      <td>0.085714</td>\n",
              "      <td>0.0</td>\n",
              "      <td>0.0</td>\n",
              "    </tr>\n",
              "  </tbody>\n",
              "</table>\n",
              "</div>"
            ],
            "text/plain": [
              "        age  anaemia  creatinine_phosphokinase  ...  serum_sodium  sex  smoking\n",
              "0  0.636364      0.0                  0.071319  ...      0.485714  1.0      0.0\n",
              "1  0.272727      0.0                  1.000000  ...      0.657143  1.0      0.0\n",
              "2  0.454545      0.0                  0.015693  ...      0.457143  1.0      1.0\n",
              "3  0.181818      1.0                  0.011227  ...      0.685714  1.0      0.0\n",
              "4  0.454545      1.0                  0.017479  ...      0.085714  0.0      0.0\n",
              "\n",
              "[5 rows x 11 columns]"
            ]
          },
          "metadata": {
            "tags": []
          },
          "execution_count": 66
        }
      ]
    },
    {
      "cell_type": "code",
      "metadata": {
        "id": "pKuaQ3zTODMr",
        "colab_type": "code",
        "colab": {
          "base_uri": "https://localhost:8080/",
          "height": 235
        },
        "outputId": "026391f6-0950-4966-b26c-8588c653b817"
      },
      "source": [
        "# iniciando y2\n",
        "y2 = dados.DEATH_EVENT\n",
        "y2"
      ],
      "execution_count": 67,
      "outputs": [
        {
          "output_type": "execute_result",
          "data": {
            "text/plain": [
              "0      1.0\n",
              "1      1.0\n",
              "2      1.0\n",
              "3      1.0\n",
              "4      1.0\n",
              "      ... \n",
              "294    0.0\n",
              "295    0.0\n",
              "296    0.0\n",
              "297    0.0\n",
              "298    0.0\n",
              "Name: DEATH_EVENT, Length: 299, dtype: float64"
            ]
          },
          "metadata": {
            "tags": []
          },
          "execution_count": 67
        }
      ]
    },
    {
      "cell_type": "code",
      "metadata": {
        "id": "wfnl_ZoVOiPT",
        "colab_type": "code",
        "colab": {}
      },
      "source": [
        "# dividndo em dados de treino e teste\n",
        "X2_train, X2_test, y2_train, y2_test = train_test_split(X2, y2, test_size=0.2)"
      ],
      "execution_count": 68,
      "outputs": []
    },
    {
      "cell_type": "markdown",
      "metadata": {
        "id": "-TakOpjAUAZr",
        "colab_type": "text"
      },
      "source": [
        "\n",
        "--- \n",
        "**OBSERVAÇÃO**\n",
        "\n",
        "Eu fiz OverSampling nos dados para treino, pois, se eu fizesse no dataframe inteiro ou mesmo Incluísse os dados de teste, eu geraria, cosnsequentemente, um classificador ilusório que não possui muita generalização. Isso acontece devido ao duplicamento de instâncias. Um exemplo: Se existirem duas instâncias iguais no dataset, resultado de duplicação por OverSampling, e uma for para os dados de treino e outra para o de teste, meu classificador pode simplesmente decorar a resposta na etapa de treino e usa-la na etapa de teste, aumentando, ilusoriamente, a taxa de acertos.\n",
        "\n",
        "\n",
        "---\n",
        "\n"
      ]
    },
    {
      "cell_type": "code",
      "metadata": {
        "id": "VmSzNtk7Pekt",
        "colab_type": "code",
        "colab": {
          "base_uri": "https://localhost:8080/",
          "height": 73
        },
        "outputId": "b9784cc9-08c8-4c1b-b575-fc393fd7ac5a"
      },
      "source": [
        "# fazendo OverSampling nos dados de treino\n",
        "X2_train, y2_train = ros.fit_resample(X2_train, y2_train)"
      ],
      "execution_count": 69,
      "outputs": [
        {
          "output_type": "stream",
          "text": [
            "/usr/local/lib/python3.6/dist-packages/sklearn/utils/deprecation.py:87: FutureWarning: Function safe_indexing is deprecated; safe_indexing is deprecated in version 0.22 and will be removed in version 0.24.\n",
            "  warnings.warn(msg, category=FutureWarning)\n"
          ],
          "name": "stderr"
        }
      ]
    },
    {
      "cell_type": "code",
      "metadata": {
        "id": "h2wOmcJ0QZJn",
        "colab_type": "code",
        "colab": {
          "base_uri": "https://localhost:8080/",
          "height": 281
        },
        "outputId": "fd0438ef-3556-49c1-fb09-cc5c6e7113e3"
      },
      "source": [
        "# gráfico de barras que mostra as classes de y3_train\n",
        "# observe que elas tem, praticamente, a mesma quantidade de instâncias\n",
        "plt.bar(['0', '1'], [list(y2_train).count(0), list(y2_train).count(1)])\n",
        "plt.ylabel('Numéro')\n",
        "plt.title('Ocorrências das Classes')\n",
        "plt.grid(True)\n",
        "plt.show()"
      ],
      "execution_count": 70,
      "outputs": [
        {
          "output_type": "display_data",
          "data": {
            "image/png": "[encoded data removed]",
            "text/plain": [
              "<Figure size 432x288 with 1 Axes>"
            ]
          },
          "metadata": {
            "tags": [],
            "needs_background": "light"
          }
        }
      ]
    },
    {
      "cell_type": "markdown",
      "metadata": {
        "colab_type": "text",
        "id": "vE0X98E1R-u8"
      },
      "source": [
        "## **Definindo algoritmo de aprendizado**"
      ]
    },
    {
      "cell_type": "markdown",
      "metadata": {
        "colab_type": "text",
        "id": "EzT9jra_R-vE"
      },
      "source": [
        "### **Rede Neural Multi-Layer Perceptron (MLP)**"
      ]
    },
    {
      "cell_type": "code",
      "metadata": {
        "colab_type": "code",
        "id": "FBUtSDYzR-vH",
        "colab": {}
      },
      "source": [
        "# definindo modelo\n",
        "rede2 = MLPClassifier(hidden_layer_sizes=(150),activation='logistic',max_iter=1500)"
      ],
      "execution_count": 71,
      "outputs": []
    },
    {
      "cell_type": "code",
      "metadata": {
        "colab_type": "code",
        "id": "M9crFiAdR-vT",
        "colab": {
          "base_uri": "https://localhost:8080/",
          "height": 163
        },
        "outputId": "a0c89952-1864-4581-d873-821713b50ccf"
      },
      "source": [
        "# treinando modelo\n",
        "rede2.fit(X2_train,y2_train)"
      ],
      "execution_count": 72,
      "outputs": [
        {
          "output_type": "execute_result",
          "data": {
            "text/plain": [
              "MLPClassifier(activation='logistic', alpha=0.0001, batch_size='auto',\n",
              "              beta_1=0.9, beta_2=0.999, early_stopping=False, epsilon=1e-08,\n",
              "              hidden_layer_sizes=150, learning_rate='constant',\n",
              "              learning_rate_init=0.001, max_fun=15000, max_iter=1500,\n",
              "              momentum=0.9, n_iter_no_change=10, nesterovs_momentum=True,\n",
              "              power_t=0.5, random_state=None, shuffle=True, solver='adam',\n",
              "              tol=0.0001, validation_fraction=0.1, verbose=False,\n",
              "              warm_start=False)"
            ]
          },
          "metadata": {
            "tags": []
          },
          "execution_count": 72
        }
      ]
    },
    {
      "cell_type": "code",
      "metadata": {
        "colab_type": "code",
        "id": "6Oh6eYpxR-vg",
        "colab": {
          "base_uri": "https://localhost:8080/",
          "height": 90
        },
        "outputId": "1601288c-b1e9-4817-aeb6-33717869ad33"
      },
      "source": [
        "# realizando classificação\n",
        "rede2 = rede2.predict(X2_test)\n",
        "rede2"
      ],
      "execution_count": 73,
      "outputs": [
        {
          "output_type": "execute_result",
          "data": {
            "text/plain": [
              "array([0., 0., 1., 1., 1., 0., 1., 1., 1., 0., 1., 0., 1., 1., 1., 0., 1.,\n",
              "       0., 0., 0., 0., 1., 0., 0., 1., 1., 0., 0., 1., 0., 0., 0., 0., 1.,\n",
              "       1., 1., 0., 0., 0., 1., 0., 1., 0., 0., 0., 1., 1., 0., 1., 0., 1.,\n",
              "       1., 1., 0., 1., 0., 0., 0., 1., 0.])"
            ]
          },
          "metadata": {
            "tags": []
          },
          "execution_count": 73
        }
      ]
    },
    {
      "cell_type": "markdown",
      "metadata": {
        "colab_type": "text",
        "id": "jGyCT2FLR-vm"
      },
      "source": [
        "### **Arvore de Decisão**"
      ]
    },
    {
      "cell_type": "code",
      "metadata": {
        "colab_type": "code",
        "id": "DcmV2HchR-vn",
        "colab": {}
      },
      "source": [
        "# definindo modelo\n",
        "arvore2 = DecisionTreeClassifier()"
      ],
      "execution_count": 74,
      "outputs": []
    },
    {
      "cell_type": "code",
      "metadata": {
        "colab_type": "code",
        "id": "0-2zw7nRR-vs",
        "colab": {
          "base_uri": "https://localhost:8080/",
          "height": 126
        },
        "outputId": "329b3e5e-c56e-4257-813c-c629a2adf982"
      },
      "source": [
        "# treinando modelo\n",
        "arvore2.fit(X2_train,y2_train)"
      ],
      "execution_count": 75,
      "outputs": [
        {
          "output_type": "execute_result",
          "data": {
            "text/plain": [
              "DecisionTreeClassifier(ccp_alpha=0.0, class_weight=None, criterion='gini',\n",
              "                       max_depth=None, max_features=None, max_leaf_nodes=None,\n",
              "                       min_impurity_decrease=0.0, min_impurity_split=None,\n",
              "                       min_samples_leaf=1, min_samples_split=2,\n",
              "                       min_weight_fraction_leaf=0.0, presort='deprecated',\n",
              "                       random_state=None, splitter='best')"
            ]
          },
          "metadata": {
            "tags": []
          },
          "execution_count": 75
        }
      ]
    },
    {
      "cell_type": "code",
      "metadata": {
        "colab_type": "code",
        "id": "VBYK3MhER-vx",
        "colab": {
          "base_uri": "https://localhost:8080/",
          "height": 90
        },
        "outputId": "32406931-8325-4759-e465-57261afa7abd"
      },
      "source": [
        "# realizando classificação\n",
        "arvore2 = arvore2.predict(X2_test)\n",
        "arvore2"
      ],
      "execution_count": 76,
      "outputs": [
        {
          "output_type": "execute_result",
          "data": {
            "text/plain": [
              "array([0., 1., 0., 0., 1., 0., 1., 0., 0., 0., 1., 0., 1., 1., 0., 0., 1.,\n",
              "       0., 0., 0., 1., 1., 0., 0., 0., 1., 0., 1., 1., 1., 0., 1., 0., 1.,\n",
              "       1., 1., 1., 0., 0., 0., 0., 1., 0., 0., 0., 0., 0., 0., 1., 0., 0.,\n",
              "       1., 1., 1., 0., 0., 1., 0., 1., 0.])"
            ]
          },
          "metadata": {
            "tags": []
          },
          "execution_count": 76
        }
      ]
    },
    {
      "cell_type": "markdown",
      "metadata": {
        "colab_type": "text",
        "id": "Pl8MVx2lR-v2"
      },
      "source": [
        "### **Random Forest**"
      ]
    },
    {
      "cell_type": "code",
      "metadata": {
        "colab_type": "code",
        "id": "eXYQqUJPR-v4",
        "colab": {}
      },
      "source": [
        "# criando random forest\n",
        "floresta2 = RandomForestClassifier(n_estimators=200)"
      ],
      "execution_count": 77,
      "outputs": []
    },
    {
      "cell_type": "code",
      "metadata": {
        "colab_type": "code",
        "id": "iAAFbgX4R-v9",
        "colab": {
          "base_uri": "https://localhost:8080/",
          "height": 163
        },
        "outputId": "65d0b508-47dc-4f2b-db23-0f96233b9c1b"
      },
      "source": [
        "# treinando modelo\n",
        "floresta2.fit(X2_train, y2_train)"
      ],
      "execution_count": 78,
      "outputs": [
        {
          "output_type": "execute_result",
          "data": {
            "text/plain": [
              "RandomForestClassifier(bootstrap=True, ccp_alpha=0.0, class_weight=None,\n",
              "                       criterion='gini', max_depth=None, max_features='auto',\n",
              "                       max_leaf_nodes=None, max_samples=None,\n",
              "                       min_impurity_decrease=0.0, min_impurity_split=None,\n",
              "                       min_samples_leaf=1, min_samples_split=2,\n",
              "                       min_weight_fraction_leaf=0.0, n_estimators=200,\n",
              "                       n_jobs=None, oob_score=False, random_state=None,\n",
              "                       verbose=0, warm_start=False)"
            ]
          },
          "metadata": {
            "tags": []
          },
          "execution_count": 78
        }
      ]
    },
    {
      "cell_type": "code",
      "metadata": {
        "colab_type": "code",
        "id": "x9OfGBWPR-wD",
        "colab": {
          "base_uri": "https://localhost:8080/",
          "height": 90
        },
        "outputId": "e9835787-2800-444a-b12a-d30ca4e51628"
      },
      "source": [
        "# realizando classificação\n",
        "floresta2 = floresta2.predict(X2_test)\n",
        "floresta2"
      ],
      "execution_count": 79,
      "outputs": [
        {
          "output_type": "execute_result",
          "data": {
            "text/plain": [
              "array([1., 0., 1., 0., 1., 0., 1., 1., 0., 0., 1., 0., 0., 1., 0., 0., 1.,\n",
              "       0., 0., 0., 0., 1., 0., 0., 1., 1., 0., 1., 1., 0., 0., 0., 0., 0.,\n",
              "       1., 1., 0., 0., 0., 1., 0., 1., 0., 0., 0., 1., 0., 0., 1., 1., 0.,\n",
              "       1., 1., 1., 0., 0., 1., 0., 1., 0.])"
            ]
          },
          "metadata": {
            "tags": []
          },
          "execution_count": 79
        }
      ]
    },
    {
      "cell_type": "markdown",
      "metadata": {
        "colab_type": "text",
        "id": "kKegj5ImR-wH"
      },
      "source": [
        "### **Comparando Classificadores com Balanceamento**"
      ]
    },
    {
      "cell_type": "code",
      "metadata": {
        "colab_type": "code",
        "id": "uHWaBoHXR-wH",
        "colab": {
          "base_uri": "https://localhost:8080/",
          "height": 72
        },
        "outputId": "d6de4e8a-9a7c-465a-dffb-11d293940304"
      },
      "source": [
        "# calculando acurácia\n",
        "print('Rede Neural: {}'.format(accuracy_score(y2_test, rede2)))\n",
        "print('Arvore de decisão: {}'.format(accuracy_score(y2_test, arvore2)))\n",
        "print('Random Forest: {}'.format(accuracy_score(y2_test, floresta2)))"
      ],
      "execution_count": 80,
      "outputs": [
        {
          "output_type": "stream",
          "text": [
            "Rede Neural: 0.75\n",
            "Arvore de decisão: 0.6333333333333333\n",
            "Random Forest: 0.7\n"
          ],
          "name": "stdout"
        }
      ]
    },
    {
      "cell_type": "code",
      "metadata": {
        "colab_type": "code",
        "id": "ovkoR437R-wM",
        "colab": {
          "base_uri": "https://localhost:8080/",
          "height": 72
        },
        "outputId": "4dd4a8ef-6fc6-4ea2-91f2-109a1f3686de"
      },
      "source": [
        "# calculando precisão\n",
        "print('Rede Neural: {}'.format(precision_score(y2_test, rede2)))\n",
        "print('Arvore de decisão: {}'.format(precision_score(y2_test, arvore2)))\n",
        "print('Random Forest: {}'.format(precision_score(y2_test, floresta2)))"
      ],
      "execution_count": 81,
      "outputs": [
        {
          "output_type": "stream",
          "text": [
            "Rede Neural: 0.6071428571428571\n",
            "Arvore de decisão: 0.48\n",
            "Random Forest: 0.56\n"
          ],
          "name": "stdout"
        }
      ]
    },
    {
      "cell_type": "code",
      "metadata": {
        "colab_type": "code",
        "id": "WQIIxwUVR-wR",
        "colab": {
          "base_uri": "https://localhost:8080/",
          "height": 72
        },
        "outputId": "ddb7d901-9299-425f-d2e1-f7bbf4ded674"
      },
      "source": [
        "# calculando recall_score\n",
        "print('Rede Neural: {}'.format(recall_score(y2_test, rede2)))\n",
        "print('Arvore de decisão: {}'.format(recall_score(y2_test, arvore2)))\n",
        "print('Random Forest: {}'.format(recall_score(y2_test, floresta2)))"
      ],
      "execution_count": 82,
      "outputs": [
        {
          "output_type": "stream",
          "text": [
            "Rede Neural: 0.8095238095238095\n",
            "Arvore de decisão: 0.5714285714285714\n",
            "Random Forest: 0.6666666666666666\n"
          ],
          "name": "stdout"
        }
      ]
    },
    {
      "cell_type": "code",
      "metadata": {
        "colab_type": "code",
        "id": "3n2FXNhbR-wX",
        "colab": {
          "base_uri": "https://localhost:8080/",
          "height": 72
        },
        "outputId": "3f255da9-4627-432b-c458-dc72c61003d2"
      },
      "source": [
        "# calculando f1-score\n",
        "print('Rede Neural: {}'.format(f1_score(y2_test, rede2)))\n",
        "print('Arvore de decisão: {}'.format(f1_score(y2_test, arvore2)))\n",
        "print('Random Forest: {}'.format(f1_score(y2_test, floresta2)))"
      ],
      "execution_count": 83,
      "outputs": [
        {
          "output_type": "stream",
          "text": [
            "Rede Neural: 0.6938775510204083\n",
            "Arvore de decisão: 0.5217391304347826\n",
            "Random Forest: 0.6086956521739131\n"
          ],
          "name": "stdout"
        }
      ]
    },
    {
      "cell_type": "code",
      "metadata": {
        "colab_type": "code",
        "id": "uYhAPlMbR-wc",
        "colab": {
          "base_uri": "https://localhost:8080/",
          "height": 350
        },
        "outputId": "70246ba3-eb5d-4ab2-d541-dd787a7b806f"
      },
      "source": [
        "# Plotando gráfico da Curva ROC\n",
        "fpr_re3, tpr_re3, _ = roc_curve(y2_test,rede2)\n",
        "fpr_ar3, tpr_ar3, _ = roc_curve(y2_test,arvore2)\n",
        "fpr_fl3, tpr_fl3, _ = roc_curve(y2_test,floresta2)\n",
        "plt.plot(fpr_re3,tpr_re3,linestyle='--',label='rede')\n",
        "plt.plot(fpr_ar3,tpr_ar3,linestyle='--',label='arvore')\n",
        "plt.plot(fpr_fl3,tpr_fl3,marker='.',label='floresta')\n",
        "plt.title('Curva ROC')\n",
        "plt.legend()\n",
        "plt.xlabel('Taxa de Falsos Positivos')\n",
        "plt.ylabel('Taxa de Verdadeiro Positivos')\n",
        "plt.show()\n",
        "print(f\"Área sobre a curva - Rede Neural: {roc_auc_score(y2_test,rede2)}\")\n",
        "print(f\"Área sobre a curva - Arvore: {roc_auc_score(y2_test,arvore2)}\")\n",
        "print(f\"Área sobre a curva - Floresta: {roc_auc_score(y2_test,floresta2)}\")"
      ],
      "execution_count": 84,
      "outputs": [
        {
          "output_type": "display_data",
          "data": {
            "image/png": "[encoded data removed]",
            "text/plain": [
              "<Figure size 432x288 with 1 Axes>"
            ]
          },
          "metadata": {
            "tags": [],
            "needs_background": "light"
          }
        },
        {
          "output_type": "stream",
          "text": [
            "Área sobre a curva - Rede Neural: 0.7637362637362638\n",
            "Área sobre a curva - Arvore: 0.6190476190476191\n",
            "Área sobre a curva - Floresta: 0.6923076923076923\n"
          ],
          "name": "stdout"
        }
      ]
    },
    {
      "cell_type": "markdown",
      "metadata": {
        "id": "3QoNj-b7ubCa",
        "colab_type": "text"
      },
      "source": [
        "### Conclusão"
      ]
    },
    {
      "cell_type": "markdown",
      "metadata": {
        "id": "74wSmd70udxd",
        "colab_type": "text"
      },
      "source": [
        "\n",
        "\n",
        "---\n",
        "Após a comparação dos resultados das métricas de avaliação dos classificadores com os dados balanceados e desbalanceados, é possível concluir que a classificação com os dados balanceados resulta em um melhoramento númerico nas métricas de acurácia e recall, chegando até 80% no caso da Rede Neural (MLP). \n",
        "\n",
        "Portanto, a hipotese sobre a queda da taxa de acertos, causada pelos dados desbalanceados, é provavelmente verdadeira.\n",
        "\n",
        "Com as análises feitas, é possível concluir que a Rede Neural (MLP), comparado a Random Forest e Arvore de Decisão, é o melhor classificador para ser usado na discriminação das classes do dataset usado aqui.\n",
        "\n",
        "---\n",
        "\n",
        "\n"
      ]
    }
  ]
}