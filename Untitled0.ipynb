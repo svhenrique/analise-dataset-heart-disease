{
  "nbformat": 4,
  "nbformat_minor": 0,
  "metadata": {
    "colab": {
      "name": "Untitled0.ipynb",
      "provenance": [],
      "collapsed_sections": [],
      "authorship_tag": "ABX9TyPr2JvQPJMvW+S/sGlMFCan",
      "include_colab_link": true
    },
    "kernelspec": {
      "name": "python3",
      "display_name": "Python 3"
    }
  },
  "cells": [
    {
      "cell_type": "markdown",
      "metadata": {
        "id": "view-in-github",
        "colab_type": "text"
      },
      "source": [
        "<a href=\"https://colab.research.google.com/github/svhenrique/analise-dataset-heart-disease/blob/master/Untitled0.ipynb\" target=\"_parent\"><img src=\"https://colab.research.google.com/assets/colab-badge.svg\" alt=\"Open In Colab\"/></a>"
      ]
    },
    {
      "cell_type": "code",
      "metadata": {
        "id": "5hZ4QnFd5Fo_",
        "colab_type": "code",
        "colab": {}
      },
      "source": [
        "# Importar as bibliotecas que usaremos\n",
        "import pandas as pd\n",
        "from matplotlib import pyplot as plt\n",
        "import seaborn as sns"
      ],
      "execution_count": 189,
      "outputs": []
    },
    {
      "cell_type": "markdown",
      "metadata": {
        "id": "enyU0DiMq2Qz",
        "colab_type": "text"
      },
      "source": [
        "**Não esquecer de por texto sobre dataset** \n",
        "\n",
        "**1 - Lendo os dados do dataset utilizando a bibliotéca pandas**\n",
        "\n"
      ]
    },
    {
      "cell_type": "code",
      "metadata": {
        "id": "Fs7wEDqtZus7",
        "colab_type": "code",
        "colab": {}
      },
      "source": [
        "\n",
        "# Lendo dados csv\n",
        "dados = pd.read_csv('https://raw.githubusercontent.com/svhenrique/analise-dataset-heart-disease/master/heart_failure_clinical_records_dataset.csv')\n"
      ],
      "execution_count": 190,
      "outputs": []
    },
    {
      "cell_type": "code",
      "metadata": {
        "id": "h7vu4_0hsYQv",
        "colab_type": "code",
        "colab": {
          "base_uri": "https://localhost:8080/",
          "height": 226
        },
        "outputId": "64c58b3c-6643-4767-b460-d78ab751d822"
      },
      "source": [
        "# Verificando os dados\n",
        "dados.head()"
      ],
      "execution_count": 191,
      "outputs": [
        {
          "output_type": "execute_result",
          "data": {
            "text/html": [
              "<div>\n",
              "<style scoped>\n",
              "    .dataframe tbody tr th:only-of-type {\n",
              "        vertical-align: middle;\n",
              "    }\n",
              "\n",
              "    .dataframe tbody tr th {\n",
              "        vertical-align: top;\n",
              "    }\n",
              "\n",
              "    .dataframe thead th {\n",
              "        text-align: right;\n",
              "    }\n",
              "</style>\n",
              "<table border=\"1\" class=\"dataframe\">\n",
              "  <thead>\n",
              "    <tr style=\"text-align: right;\">\n",
              "      <th></th>\n",
              "      <th>age</th>\n",
              "      <th>anaemia</th>\n",
              "      <th>creatinine_phosphokinase</th>\n",
              "      <th>diabetes</th>\n",
              "      <th>ejection_fraction</th>\n",
              "      <th>high_blood_pressure</th>\n",
              "      <th>platelets</th>\n",
              "      <th>serum_creatinine</th>\n",
              "      <th>serum_sodium</th>\n",
              "      <th>sex</th>\n",
              "      <th>smoking</th>\n",
              "      <th>time</th>\n",
              "      <th>DEATH_EVENT</th>\n",
              "    </tr>\n",
              "  </thead>\n",
              "  <tbody>\n",
              "    <tr>\n",
              "      <th>0</th>\n",
              "      <td>75.0</td>\n",
              "      <td>0</td>\n",
              "      <td>582</td>\n",
              "      <td>0</td>\n",
              "      <td>20</td>\n",
              "      <td>1</td>\n",
              "      <td>265000.00</td>\n",
              "      <td>1.9</td>\n",
              "      <td>130</td>\n",
              "      <td>1</td>\n",
              "      <td>0</td>\n",
              "      <td>4</td>\n",
              "      <td>1</td>\n",
              "    </tr>\n",
              "    <tr>\n",
              "      <th>1</th>\n",
              "      <td>55.0</td>\n",
              "      <td>0</td>\n",
              "      <td>7861</td>\n",
              "      <td>0</td>\n",
              "      <td>38</td>\n",
              "      <td>0</td>\n",
              "      <td>263358.03</td>\n",
              "      <td>1.1</td>\n",
              "      <td>136</td>\n",
              "      <td>1</td>\n",
              "      <td>0</td>\n",
              "      <td>6</td>\n",
              "      <td>1</td>\n",
              "    </tr>\n",
              "    <tr>\n",
              "      <th>2</th>\n",
              "      <td>65.0</td>\n",
              "      <td>0</td>\n",
              "      <td>146</td>\n",
              "      <td>0</td>\n",
              "      <td>20</td>\n",
              "      <td>0</td>\n",
              "      <td>162000.00</td>\n",
              "      <td>1.3</td>\n",
              "      <td>129</td>\n",
              "      <td>1</td>\n",
              "      <td>1</td>\n",
              "      <td>7</td>\n",
              "      <td>1</td>\n",
              "    </tr>\n",
              "    <tr>\n",
              "      <th>3</th>\n",
              "      <td>50.0</td>\n",
              "      <td>1</td>\n",
              "      <td>111</td>\n",
              "      <td>0</td>\n",
              "      <td>20</td>\n",
              "      <td>0</td>\n",
              "      <td>210000.00</td>\n",
              "      <td>1.9</td>\n",
              "      <td>137</td>\n",
              "      <td>1</td>\n",
              "      <td>0</td>\n",
              "      <td>7</td>\n",
              "      <td>1</td>\n",
              "    </tr>\n",
              "    <tr>\n",
              "      <th>4</th>\n",
              "      <td>65.0</td>\n",
              "      <td>1</td>\n",
              "      <td>160</td>\n",
              "      <td>1</td>\n",
              "      <td>20</td>\n",
              "      <td>0</td>\n",
              "      <td>327000.00</td>\n",
              "      <td>2.7</td>\n",
              "      <td>116</td>\n",
              "      <td>0</td>\n",
              "      <td>0</td>\n",
              "      <td>8</td>\n",
              "      <td>1</td>\n",
              "    </tr>\n",
              "  </tbody>\n",
              "</table>\n",
              "</div>"
            ],
            "text/plain": [
              "    age  anaemia  creatinine_phosphokinase  ...  smoking  time  DEATH_EVENT\n",
              "0  75.0        0                       582  ...        0     4            1\n",
              "1  55.0        0                      7861  ...        0     6            1\n",
              "2  65.0        0                       146  ...        1     7            1\n",
              "3  50.0        1                       111  ...        0     7            1\n",
              "4  65.0        1                       160  ...        0     8            1\n",
              "\n",
              "[5 rows x 13 columns]"
            ]
          },
          "metadata": {
            "tags": []
          },
          "execution_count": 191
        }
      ]
    },
    {
      "cell_type": "markdown",
      "metadata": {
        "id": "H5EtA6tZ0fxB",
        "colab_type": "text"
      },
      "source": [
        ""
      ]
    },
    {
      "cell_type": "code",
      "metadata": {
        "colab_type": "code",
        "id": "OY5xkbsPscBB",
        "colab": {
          "base_uri": "https://localhost:8080/",
          "height": 108
        },
        "outputId": "f71c4772-bf60-4b0a-b728-a8200ede8089"
      },
      "source": [
        "# verificando as colunas do dataset\n",
        "dados.columns"
      ],
      "execution_count": 192,
      "outputs": [
        {
          "output_type": "execute_result",
          "data": {
            "text/plain": [
              "Index(['age', 'anaemia', 'creatinine_phosphokinase', 'diabetes',\n",
              "       'ejection_fraction', 'high_blood_pressure', 'platelets',\n",
              "       'serum_creatinine', 'serum_sodium', 'sex', 'smoking', 'time',\n",
              "       'DEATH_EVENT'],\n",
              "      dtype='object')"
            ]
          },
          "metadata": {
            "tags": []
          },
          "execution_count": 192
        }
      ]
    },
    {
      "cell_type": "markdown",
      "metadata": {
        "id": "RMmagmq-P8VV",
        "colab_type": "text"
      },
      "source": [
        "\n",
        "**2. Limpeza e organização dos dados**\n",
        "\n",
        "\n"
      ]
    },
    {
      "cell_type": "code",
      "metadata": {
        "id": "VGGwNNkpEakK",
        "colab_type": "code",
        "colab": {
          "base_uri": "https://localhost:8080/",
          "height": 226
        },
        "outputId": "b4f49a9b-4a5b-49ba-f370-02e7e65144f0"
      },
      "source": [
        "# excluindo colunas irrelevantes\n",
        "# como a coluna 'time' representa o tempo de acompanhamento que a pessoa teve/vem tendo pelos pesquisadores\n",
        "# do dataset, logo, essa informação é irrelevante para o objetivo de predição.\n",
        "dados = dados.drop(columns=['time'])\n",
        "dados.head()"
      ],
      "execution_count": 193,
      "outputs": [
        {
          "output_type": "execute_result",
          "data": {
            "text/html": [
              "<div>\n",
              "<style scoped>\n",
              "    .dataframe tbody tr th:only-of-type {\n",
              "        vertical-align: middle;\n",
              "    }\n",
              "\n",
              "    .dataframe tbody tr th {\n",
              "        vertical-align: top;\n",
              "    }\n",
              "\n",
              "    .dataframe thead th {\n",
              "        text-align: right;\n",
              "    }\n",
              "</style>\n",
              "<table border=\"1\" class=\"dataframe\">\n",
              "  <thead>\n",
              "    <tr style=\"text-align: right;\">\n",
              "      <th></th>\n",
              "      <th>age</th>\n",
              "      <th>anaemia</th>\n",
              "      <th>creatinine_phosphokinase</th>\n",
              "      <th>diabetes</th>\n",
              "      <th>ejection_fraction</th>\n",
              "      <th>high_blood_pressure</th>\n",
              "      <th>platelets</th>\n",
              "      <th>serum_creatinine</th>\n",
              "      <th>serum_sodium</th>\n",
              "      <th>sex</th>\n",
              "      <th>smoking</th>\n",
              "      <th>DEATH_EVENT</th>\n",
              "    </tr>\n",
              "  </thead>\n",
              "  <tbody>\n",
              "    <tr>\n",
              "      <th>0</th>\n",
              "      <td>75.0</td>\n",
              "      <td>0</td>\n",
              "      <td>582</td>\n",
              "      <td>0</td>\n",
              "      <td>20</td>\n",
              "      <td>1</td>\n",
              "      <td>265000.00</td>\n",
              "      <td>1.9</td>\n",
              "      <td>130</td>\n",
              "      <td>1</td>\n",
              "      <td>0</td>\n",
              "      <td>1</td>\n",
              "    </tr>\n",
              "    <tr>\n",
              "      <th>1</th>\n",
              "      <td>55.0</td>\n",
              "      <td>0</td>\n",
              "      <td>7861</td>\n",
              "      <td>0</td>\n",
              "      <td>38</td>\n",
              "      <td>0</td>\n",
              "      <td>263358.03</td>\n",
              "      <td>1.1</td>\n",
              "      <td>136</td>\n",
              "      <td>1</td>\n",
              "      <td>0</td>\n",
              "      <td>1</td>\n",
              "    </tr>\n",
              "    <tr>\n",
              "      <th>2</th>\n",
              "      <td>65.0</td>\n",
              "      <td>0</td>\n",
              "      <td>146</td>\n",
              "      <td>0</td>\n",
              "      <td>20</td>\n",
              "      <td>0</td>\n",
              "      <td>162000.00</td>\n",
              "      <td>1.3</td>\n",
              "      <td>129</td>\n",
              "      <td>1</td>\n",
              "      <td>1</td>\n",
              "      <td>1</td>\n",
              "    </tr>\n",
              "    <tr>\n",
              "      <th>3</th>\n",
              "      <td>50.0</td>\n",
              "      <td>1</td>\n",
              "      <td>111</td>\n",
              "      <td>0</td>\n",
              "      <td>20</td>\n",
              "      <td>0</td>\n",
              "      <td>210000.00</td>\n",
              "      <td>1.9</td>\n",
              "      <td>137</td>\n",
              "      <td>1</td>\n",
              "      <td>0</td>\n",
              "      <td>1</td>\n",
              "    </tr>\n",
              "    <tr>\n",
              "      <th>4</th>\n",
              "      <td>65.0</td>\n",
              "      <td>1</td>\n",
              "      <td>160</td>\n",
              "      <td>1</td>\n",
              "      <td>20</td>\n",
              "      <td>0</td>\n",
              "      <td>327000.00</td>\n",
              "      <td>2.7</td>\n",
              "      <td>116</td>\n",
              "      <td>0</td>\n",
              "      <td>0</td>\n",
              "      <td>1</td>\n",
              "    </tr>\n",
              "  </tbody>\n",
              "</table>\n",
              "</div>"
            ],
            "text/plain": [
              "    age  anaemia  creatinine_phosphokinase  ...  sex  smoking  DEATH_EVENT\n",
              "0  75.0        0                       582  ...    1        0            1\n",
              "1  55.0        0                      7861  ...    1        0            1\n",
              "2  65.0        0                       146  ...    1        1            1\n",
              "3  50.0        1                       111  ...    1        0            1\n",
              "4  65.0        1                       160  ...    0        0            1\n",
              "\n",
              "[5 rows x 12 columns]"
            ]
          },
          "metadata": {
            "tags": []
          },
          "execution_count": 193
        }
      ]
    },
    {
      "cell_type": "code",
      "metadata": {
        "id": "_JhIcClFVCHt",
        "colab_type": "code",
        "colab": {
          "base_uri": "https://localhost:8080/",
          "height": 254
        },
        "outputId": "fed93787-ec33-4ef5-bc96-175c6777f5cf"
      },
      "source": [
        "# checando se existem valores vazios nas colunas do dataset\n",
        "dados.isna().any()"
      ],
      "execution_count": 194,
      "outputs": [
        {
          "output_type": "execute_result",
          "data": {
            "text/plain": [
              "age                         False\n",
              "anaemia                     False\n",
              "creatinine_phosphokinase    False\n",
              "diabetes                    False\n",
              "ejection_fraction           False\n",
              "high_blood_pressure         False\n",
              "platelets                   False\n",
              "serum_creatinine            False\n",
              "serum_sodium                False\n",
              "sex                         False\n",
              "smoking                     False\n",
              "DEATH_EVENT                 False\n",
              "dtype: bool"
            ]
          },
          "metadata": {
            "tags": []
          },
          "execution_count": 194
        }
      ]
    },
    {
      "cell_type": "markdown",
      "metadata": {
        "id": "HZ7pl1FvUUjV",
        "colab_type": "text"
      },
      "source": [
        "# **3. Analise preliminar dos dados**"
      ]
    },
    {
      "cell_type": "markdown",
      "metadata": {
        "id": "RdTfibZWezKm",
        "colab_type": "text"
      },
      "source": [
        "## *Analise das variáveis nos dados em geral*"
      ]
    },
    {
      "cell_type": "code",
      "metadata": {
        "id": "u6lV-ipndia7",
        "colab_type": "code",
        "colab": {
          "base_uri": "https://localhost:8080/",
          "height": 299
        },
        "outputId": "c420a863-8ca6-4b95-ce5e-cf69a50777a3"
      },
      "source": [
        "# verificando casos de mortes\n",
        "\n",
        "vm = dados.groupby(by=['DEATH_EVENT'])\n",
        "vm = vm['DEATH_EVENT'].count()\n",
        "\n",
        "plt.bar(['vivos', 'mortos'], [vm[0], vm[1]])\n",
        "plt.ylabel('Pessoas')\n",
        "plt.title('Ocorrências das Classes')\n",
        "plt.grid(True)\n",
        "plt.show()\n",
        "\n",
        "print('Vivos: {} | Mortos: {}'.format(vm[0], vm[1]))\n"
      ],
      "execution_count": 195,
      "outputs": [
        {
          "output_type": "display_data",
          "data": {
            "image/png": "[encoded data removed]",
            "text/plain": [
              "<Figure size 432x288 with 1 Axes>"
            ]
          },
          "metadata": {
            "tags": [],
            "needs_background": "light"
          }
        },
        {
          "output_type": "stream",
          "text": [
            "Vivos: 203 | Mortos: 96\n"
          ],
          "name": "stdout"
        }
      ]
    },
    {
      "cell_type": "code",
      "metadata": {
        "id": "kag910Q8pX2B",
        "colab_type": "code",
        "colab": {
          "base_uri": "https://localhost:8080/",
          "height": 295
        },
        "outputId": "a40c9f27-c8cd-4fcb-8c19-bab0c5d0b45c"
      },
      "source": [
        "# verificando ocorrências das classes no campo 'age'\n",
        "plt.hist(dados['age'], 10)\n",
        "plt.xlabel('Classes')\n",
        "plt.ylabel('Idade')\n",
        "plt.title('Ocorrências das Classes')\n",
        "plt.grid(True)\n",
        "plt.show()"
      ],
      "execution_count": 196,
      "outputs": [
        {
          "output_type": "display_data",
          "data": {
            "image/png": "[encoded data removed]",
            "text/plain": [
              "<Figure size 432x288 with 1 Axes>"
            ]
          },
          "metadata": {
            "tags": [],
            "needs_background": "light"
          }
        }
      ]
    },
    {
      "cell_type": "code",
      "metadata": {
        "id": "Q_eelYZneqfp",
        "colab_type": "code",
        "colab": {
          "base_uri": "https://localhost:8080/",
          "height": 295
        },
        "outputId": "af2c7e72-ce27-4b28-eedf-a7e228458710"
      },
      "source": [
        "# Boxplot para analisa a ocorrência de idades nas instâncias\n",
        "plt.boxplot(dados['age'])\n",
        "plt.title('Área da idade média')\n",
        "plt.xlabel('Idade')\n",
        "plt.show()"
      ],
      "execution_count": 197,
      "outputs": [
        {
          "output_type": "display_data",
          "data": {
            "image/png": "[encoded data removed]",
            "text/plain": [
              "<Figure size 432x288 with 1 Axes>"
            ]
          },
          "metadata": {
            "tags": [],
            "needs_background": "light"
          }
        }
      ]
    },
    {
      "cell_type": "code",
      "metadata": {
        "id": "92BkzoF-qy5L",
        "colab_type": "code",
        "colab": {
          "base_uri": "https://localhost:8080/",
          "height": 295
        },
        "outputId": "68ad0ab0-5e6b-40fe-fe07-a6f8e1640cff"
      },
      "source": [
        "# verificando ocorrências das classes no campo 'anaemia' para verificar anemia\n",
        "plt.hist(dados['anaemia'])\n",
        "plt.xlabel('Classes')\n",
        "plt.ylabel('Anemia')\n",
        "plt.title('Ocorrências das Classes')\n",
        "plt.grid(True)\n",
        "plt.show()"
      ],
      "execution_count": 198,
      "outputs": [
        {
          "output_type": "display_data",
          "data": {
            "image/png": "[encoded data removed]",
            "text/plain": [
              "<Figure size 432x288 with 1 Axes>"
            ]
          },
          "metadata": {
            "tags": [],
            "needs_background": "light"
          }
        }
      ]
    },
    {
      "cell_type": "code",
      "metadata": {
        "id": "CdvdP363tSiV",
        "colab_type": "code",
        "colab": {
          "base_uri": "https://localhost:8080/",
          "height": 295
        },
        "outputId": "88852567-1da2-4e95-9feb-e335af850bc3"
      },
      "source": [
        "# verificando ocorrências das classes no campo 'smoking' para verificar a quantidade de fumantes\n",
        "plt.hist(dados['smoking'])\n",
        "plt.xlabel('Classes')\n",
        "plt.ylabel('Fumantes')\n",
        "plt.title('Ocorrências das Classes')\n",
        "plt.grid(True)\n",
        "plt.show()"
      ],
      "execution_count": 199,
      "outputs": [
        {
          "output_type": "display_data",
          "data": {
            "image/png": "[encoded data removed]",
            "text/plain": [
              "<Figure size 432x288 with 1 Axes>"
            ]
          },
          "metadata": {
            "tags": [],
            "needs_background": "light"
          }
        }
      ]
    },
    {
      "cell_type": "code",
      "metadata": {
        "id": "-9yOqWTqgShB",
        "colab_type": "code",
        "colab": {
          "base_uri": "https://localhost:8080/",
          "height": 53
        },
        "outputId": "69eca8b5-9da0-4832-8552-e0a4c8a739ac"
      },
      "source": [
        "fumantes = dados.groupby(by=['smoking'])\n",
        "fumantes = fumantes['smoking'].count()\n",
        "print(f'Fumantes: {fumantes[1]}')\n",
        "print(f'Não fumantes: {fumantes[0]}')"
      ],
      "execution_count": 200,
      "outputs": [
        {
          "output_type": "stream",
          "text": [
            "Fumantes: 96\n",
            "Não fumantes: 203\n"
          ],
          "name": "stdout"
        }
      ]
    },
    {
      "cell_type": "code",
      "metadata": {
        "id": "dTLrE7tQhHWR",
        "colab_type": "code",
        "colab": {
          "base_uri": "https://localhost:8080/",
          "height": 295
        },
        "outputId": "70665503-685e-4fa0-f07e-b895b9e517dd"
      },
      "source": [
        "# verificando ocorrências de diabetes nas instâncias\n",
        "plt.hist(dados['diabetes'])\n",
        "plt.xlabel('Classes')\n",
        "plt.ylabel('Pessoas com diabetes')\n",
        "plt.title('Ocorrências das Classes')\n",
        "plt.grid(True)\n",
        "plt.show()"
      ],
      "execution_count": 201,
      "outputs": [
        {
          "output_type": "display_data",
          "data": {
            "image/png": "[encoded data removed]",
            "text/plain": [
              "<Figure size 432x288 with 1 Axes>"
            ]
          },
          "metadata": {
            "tags": [],
            "needs_background": "light"
          }
        }
      ]
    },
    {
      "cell_type": "code",
      "metadata": {
        "id": "v92E7XKWiu8h",
        "colab_type": "code",
        "colab": {
          "base_uri": "https://localhost:8080/",
          "height": 317
        },
        "outputId": "dc6c1022-9024-4011-c586-95fb4410d601"
      },
      "source": [
        "# Verificando quantas pessoas de cada sexo existe no dataset\n",
        "\n",
        "masculino = dados[dados['sex']==0]\n",
        "feminino = dados[dados['sex']==1]\n",
        "\n",
        "plt.bar(['masculino', 'feminino'], [masculino.sex.count(), feminino.sex.count()])\n",
        "plt.ylabel('Pessoas')\n",
        "plt.title('Ocorrências das Classes')\n",
        "plt.grid(True)\n",
        "plt.show()\n",
        "print(f'Masculino: {masculino.sex.count()}')\n",
        "print(f'Feminino: {feminino.sex.count()}')"
      ],
      "execution_count": 202,
      "outputs": [
        {
          "output_type": "display_data",
          "data": {
            "image/png": "[encoded data removed]",
            "text/plain": [
              "<Figure size 432x288 with 1 Axes>"
            ]
          },
          "metadata": {
            "tags": [],
            "needs_background": "light"
          }
        },
        {
          "output_type": "stream",
          "text": [
            "Masculino: 105\n",
            "Feminino: 194\n"
          ],
          "name": "stdout"
        }
      ]
    },
    {
      "cell_type": "code",
      "metadata": {
        "id": "LkZhH2HGCuh7",
        "colab_type": "code",
        "colab": {
          "base_uri": "https://localhost:8080/",
          "height": 295
        },
        "outputId": "96a64c9c-9815-4925-f471-0dc314c0e69d"
      },
      "source": [
        "# verificando ocorrências de hipertensão \n",
        "plt.hist(dados['high_blood_pressure'])\n",
        "plt.xlabel('Classes')\n",
        "plt.ylabel('Hipertensão')\n",
        "plt.title('Ocorrências das Classes')\n",
        "plt.grid(True)\n",
        "plt.show()"
      ],
      "execution_count": 203,
      "outputs": [
        {
          "output_type": "display_data",
          "data": {
            "image/png": "[encoded data removed]",
            "text/plain": [
              "<Figure size 432x288 with 1 Axes>"
            ]
          },
          "metadata": {
            "tags": [],
            "needs_background": "light"
          }
        }
      ]
    },
    {
      "cell_type": "markdown",
      "metadata": {
        "id": "gNg2CpPdiSDw",
        "colab_type": "text"
      },
      "source": [
        "## Analise dos dados comparando dois dataframes, vivos e mortos."
      ]
    },
    {
      "cell_type": "code",
      "metadata": {
        "id": "N2Yg2lbotcEr",
        "colab_type": "code",
        "colab": {}
      },
      "source": [
        "# Criando dataframe apenas para os vivos\n",
        "vivos = dados[dados['DEATH_EVENT']==0].drop(columns=['DEATH_EVENT']).reset_index(drop=True)"
      ],
      "execution_count": 204,
      "outputs": []
    },
    {
      "cell_type": "code",
      "metadata": {
        "id": "52ERx1A1vAeE",
        "colab_type": "code",
        "colab": {}
      },
      "source": [
        "# Criando dataframe apenas para os mortos\n",
        "mortos = dados[dados['DEATH_EVENT']==1].drop(columns=['DEATH_EVENT']).reset_index(drop=True)"
      ],
      "execution_count": 205,
      "outputs": []
    },
    {
      "cell_type": "code",
      "metadata": {
        "id": "mf1-J9advIND",
        "colab_type": "code",
        "colab": {
          "base_uri": "https://localhost:8080/",
          "height": 279
        },
        "outputId": "b2f03c38-47b3-4a61-fb9d-2b500be36b4d"
      },
      "source": [
        "# boxplot comparando o creatinine_phosphokinase (nível da enzima CPK no sangue) para as duas classes\n",
        "# podemos observar que existem vários outliers nas duas classes\n",
        "\n",
        "plt.boxplot([vivos.creatinine_phosphokinase, mortos.creatinine_phosphokinase], labels=['vivos', 'mortos'])\n",
        "plt.xlabel('Classes')\n",
        "plt.ylabel('Proteina CPK do sangue')\n",
        "plt.show()"
      ],
      "execution_count": 206,
      "outputs": [
        {
          "output_type": "display_data",
          "data": {
            "image/png": "[encoded data removed]",
            "text/plain": [
              "<Figure size 432x288 with 1 Axes>"
            ]
          },
          "metadata": {
            "tags": [],
            "needs_background": "light"
          }
        }
      ]
    },
    {
      "cell_type": "code",
      "metadata": {
        "id": "oLJwQCzxG8qZ",
        "colab_type": "code",
        "colab": {
          "base_uri": "https://localhost:8080/",
          "height": 320
        },
        "outputId": "b1f85e50-e321-4e72-bf09-b71d0917fd10"
      },
      "source": [
        "# A função abaixo mostra uma variação enorme entre os valores do campo\n",
        "# \"creatinine_phosphokinase\", porém, fiz pesquisas que dizem que pessoas com insuficiência cardieca\n",
        "# podem ter níveis muito altos (formando outliers).\n",
        "dados.describe()"
      ],
      "execution_count": 207,
      "outputs": [
        {
          "output_type": "execute_result",
          "data": {
            "text/html": [
              "<div>\n",
              "<style scoped>\n",
              "    .dataframe tbody tr th:only-of-type {\n",
              "        vertical-align: middle;\n",
              "    }\n",
              "\n",
              "    .dataframe tbody tr th {\n",
              "        vertical-align: top;\n",
              "    }\n",
              "\n",
              "    .dataframe thead th {\n",
              "        text-align: right;\n",
              "    }\n",
              "</style>\n",
              "<table border=\"1\" class=\"dataframe\">\n",
              "  <thead>\n",
              "    <tr style=\"text-align: right;\">\n",
              "      <th></th>\n",
              "      <th>age</th>\n",
              "      <th>anaemia</th>\n",
              "      <th>creatinine_phosphokinase</th>\n",
              "      <th>diabetes</th>\n",
              "      <th>ejection_fraction</th>\n",
              "      <th>high_blood_pressure</th>\n",
              "      <th>platelets</th>\n",
              "      <th>serum_creatinine</th>\n",
              "      <th>serum_sodium</th>\n",
              "      <th>sex</th>\n",
              "      <th>smoking</th>\n",
              "      <th>DEATH_EVENT</th>\n",
              "    </tr>\n",
              "  </thead>\n",
              "  <tbody>\n",
              "    <tr>\n",
              "      <th>count</th>\n",
              "      <td>299.000000</td>\n",
              "      <td>299.000000</td>\n",
              "      <td>299.000000</td>\n",
              "      <td>299.000000</td>\n",
              "      <td>299.000000</td>\n",
              "      <td>299.000000</td>\n",
              "      <td>299.000000</td>\n",
              "      <td>299.00000</td>\n",
              "      <td>299.000000</td>\n",
              "      <td>299.000000</td>\n",
              "      <td>299.00000</td>\n",
              "      <td>299.00000</td>\n",
              "    </tr>\n",
              "    <tr>\n",
              "      <th>mean</th>\n",
              "      <td>60.833893</td>\n",
              "      <td>0.431438</td>\n",
              "      <td>581.839465</td>\n",
              "      <td>0.418060</td>\n",
              "      <td>38.083612</td>\n",
              "      <td>0.351171</td>\n",
              "      <td>263358.029264</td>\n",
              "      <td>1.39388</td>\n",
              "      <td>136.625418</td>\n",
              "      <td>0.648829</td>\n",
              "      <td>0.32107</td>\n",
              "      <td>0.32107</td>\n",
              "    </tr>\n",
              "    <tr>\n",
              "      <th>std</th>\n",
              "      <td>11.894809</td>\n",
              "      <td>0.496107</td>\n",
              "      <td>970.287881</td>\n",
              "      <td>0.494067</td>\n",
              "      <td>11.834841</td>\n",
              "      <td>0.478136</td>\n",
              "      <td>97804.236869</td>\n",
              "      <td>1.03451</td>\n",
              "      <td>4.412477</td>\n",
              "      <td>0.478136</td>\n",
              "      <td>0.46767</td>\n",
              "      <td>0.46767</td>\n",
              "    </tr>\n",
              "    <tr>\n",
              "      <th>min</th>\n",
              "      <td>40.000000</td>\n",
              "      <td>0.000000</td>\n",
              "      <td>23.000000</td>\n",
              "      <td>0.000000</td>\n",
              "      <td>14.000000</td>\n",
              "      <td>0.000000</td>\n",
              "      <td>25100.000000</td>\n",
              "      <td>0.50000</td>\n",
              "      <td>113.000000</td>\n",
              "      <td>0.000000</td>\n",
              "      <td>0.00000</td>\n",
              "      <td>0.00000</td>\n",
              "    </tr>\n",
              "    <tr>\n",
              "      <th>25%</th>\n",
              "      <td>51.000000</td>\n",
              "      <td>0.000000</td>\n",
              "      <td>116.500000</td>\n",
              "      <td>0.000000</td>\n",
              "      <td>30.000000</td>\n",
              "      <td>0.000000</td>\n",
              "      <td>212500.000000</td>\n",
              "      <td>0.90000</td>\n",
              "      <td>134.000000</td>\n",
              "      <td>0.000000</td>\n",
              "      <td>0.00000</td>\n",
              "      <td>0.00000</td>\n",
              "    </tr>\n",
              "    <tr>\n",
              "      <th>50%</th>\n",
              "      <td>60.000000</td>\n",
              "      <td>0.000000</td>\n",
              "      <td>250.000000</td>\n",
              "      <td>0.000000</td>\n",
              "      <td>38.000000</td>\n",
              "      <td>0.000000</td>\n",
              "      <td>262000.000000</td>\n",
              "      <td>1.10000</td>\n",
              "      <td>137.000000</td>\n",
              "      <td>1.000000</td>\n",
              "      <td>0.00000</td>\n",
              "      <td>0.00000</td>\n",
              "    </tr>\n",
              "    <tr>\n",
              "      <th>75%</th>\n",
              "      <td>70.000000</td>\n",
              "      <td>1.000000</td>\n",
              "      <td>582.000000</td>\n",
              "      <td>1.000000</td>\n",
              "      <td>45.000000</td>\n",
              "      <td>1.000000</td>\n",
              "      <td>303500.000000</td>\n",
              "      <td>1.40000</td>\n",
              "      <td>140.000000</td>\n",
              "      <td>1.000000</td>\n",
              "      <td>1.00000</td>\n",
              "      <td>1.00000</td>\n",
              "    </tr>\n",
              "    <tr>\n",
              "      <th>max</th>\n",
              "      <td>95.000000</td>\n",
              "      <td>1.000000</td>\n",
              "      <td>7861.000000</td>\n",
              "      <td>1.000000</td>\n",
              "      <td>80.000000</td>\n",
              "      <td>1.000000</td>\n",
              "      <td>850000.000000</td>\n",
              "      <td>9.40000</td>\n",
              "      <td>148.000000</td>\n",
              "      <td>1.000000</td>\n",
              "      <td>1.00000</td>\n",
              "      <td>1.00000</td>\n",
              "    </tr>\n",
              "  </tbody>\n",
              "</table>\n",
              "</div>"
            ],
            "text/plain": [
              "              age     anaemia  ...    smoking  DEATH_EVENT\n",
              "count  299.000000  299.000000  ...  299.00000    299.00000\n",
              "mean    60.833893    0.431438  ...    0.32107      0.32107\n",
              "std     11.894809    0.496107  ...    0.46767      0.46767\n",
              "min     40.000000    0.000000  ...    0.00000      0.00000\n",
              "25%     51.000000    0.000000  ...    0.00000      0.00000\n",
              "50%     60.000000    0.000000  ...    0.00000      0.00000\n",
              "75%     70.000000    1.000000  ...    1.00000      1.00000\n",
              "max     95.000000    1.000000  ...    1.00000      1.00000\n",
              "\n",
              "[8 rows x 12 columns]"
            ]
          },
          "metadata": {
            "tags": []
          },
          "execution_count": 207
        }
      ]
    },
    {
      "cell_type": "code",
      "metadata": {
        "id": "6nlekK6U3RsT",
        "colab_type": "code",
        "colab": {
          "base_uri": "https://localhost:8080/",
          "height": 279
        },
        "outputId": "c59ee134-c5a8-4ce0-cb3d-84b4970f8358"
      },
      "source": [
        "# distribuição de probabilidade comparando a quantidade de enzima CPK para as duas classes\n",
        "\n",
        "# Tendo em vista o gráfico abaixo, podemos supor que o nível da enzima CPK no sangue não \n",
        "# é determinante para a morte de uma pessoa com insuficiência cardíaca \n",
        "\n",
        "sns.distplot(vivos.creatinine_phosphokinase, hist=False, rug=False,label='vivos')\n",
        "sns.distplot(mortos.creatinine_phosphokinase, hist=False, rug=False,label='mortos')\n",
        "plt.xlabel('Nível de CPK médio')\n",
        "plt.ylabel('Probabilidades')\n",
        "plt.show()"
      ],
      "execution_count": 208,
      "outputs": [
        {
          "output_type": "display_data",
          "data": {
            "image/png": "[encoded data removed]",
            "text/plain": [
              "<Figure size 432x288 with 1 Axes>"
            ]
          },
          "metadata": {
            "tags": [],
            "needs_background": "light"
          }
        }
      ]
    },
    {
      "cell_type": "code",
      "metadata": {
        "id": "wa9cOCAKNog5",
        "colab_type": "code",
        "colab": {
          "base_uri": "https://localhost:8080/",
          "height": 279
        },
        "outputId": "a34150c0-4903-4d6e-82e0-9e9ce967c9c7"
      },
      "source": [
        "# boxplot comparando o campo \"ejection_fraction\" ns duas classes\n",
        "# a presença de outliers para esse campo é totalmente aceitável. Pois, como representa a quantidade\n",
        "# de sangue presente no coração para ser bombeada, os valores podem chegar a 100%. \n",
        "\n",
        "plt.boxplot([vivos.ejection_fraction, mortos.ejection_fraction], labels=['vivos', 'mortos'])\n",
        "plt.xlabel('Classes')\n",
        "plt.ylabel('Quantidade de sangue em %')\n",
        "plt.show()"
      ],
      "execution_count": 209,
      "outputs": [
        {
          "output_type": "display_data",
          "data": {
            "image/png": "[encoded data removed]",
            "text/plain": [
              "<Figure size 432x288 with 1 Axes>"
            ]
          },
          "metadata": {
            "tags": [],
            "needs_background": "light"
          }
        }
      ]
    },
    {
      "cell_type": "code",
      "metadata": {
        "id": "9wFHYq3SN8gB",
        "colab_type": "code",
        "colab": {}
      },
      "source": [
        ""
      ],
      "execution_count": 209,
      "outputs": []
    },
    {
      "cell_type": "code",
      "metadata": {
        "id": "Q2hQOELi4POy",
        "colab_type": "code",
        "colab": {
          "base_uri": "https://localhost:8080/",
          "height": 280
        },
        "outputId": "48b0d9a1-c3d2-4e79-a0df-1e7367c5335e"
      },
      "source": [
        "# distribuição de probabilidade comparando a porcentagem de sangue saindo do coração em cada contração \n",
        "# para as duas classes\n",
        "\n",
        "# Podemos observar que existe uma relação entre a quantidade de sangue bombeada e a \n",
        "# mortalidade da insuficiência cardíeca.\n",
        "\n",
        "sns.distplot(vivos.ejection_fraction, hist=False, rug=False,label='vivos')\n",
        "sns.distplot(mortos.ejection_fraction, hist=False, rug=False,label='mortos')\n",
        "plt.xlabel('Porcentagem média de sangue')\n",
        "plt.ylabel('Probabilidades')\n",
        "plt.show()"
      ],
      "execution_count": 210,
      "outputs": [
        {
          "output_type": "display_data",
          "data": {
            "image/png": "[encoded data removed]",
            "text/plain": [
              "<Figure size 432x288 with 1 Axes>"
            ]
          },
          "metadata": {
            "tags": [],
            "needs_background": "light"
          }
        }
      ]
    },
    {
      "cell_type": "code",
      "metadata": {
        "id": "WZko7FtG9OOO",
        "colab_type": "code",
        "colab": {
          "base_uri": "https://localhost:8080/",
          "height": 291
        },
        "outputId": "6e4d5d7a-388f-4759-a561-4a69f7b418f5"
      },
      "source": [
        "# Podemos observar que o nível de plaquetas entre as pessoas que possuem insuficiência cardieca e \n",
        "# continuaram vivos, atingiam picos mais altos que o dos que faleceram.\n",
        "\n",
        "sns.distplot(vivos.platelets, hist=False, rug=False,label='vivos')\n",
        "sns.distplot(mortos.platelets, hist=False, rug=False,label='mortos')\n",
        "plt.xlabel('Níve de plaquetas médio')\n",
        "plt.ylabel('Probabilidades')\n",
        "plt.show()"
      ],
      "execution_count": 211,
      "outputs": [
        {
          "output_type": "display_data",
          "data": {
            "image/png": "[encoded data removed]",
            "text/plain": [
              "<Figure size 432x288 with 1 Axes>"
            ]
          },
          "metadata": {
            "tags": [],
            "needs_background": "light"
          }
        }
      ]
    },
    {
      "cell_type": "code",
      "metadata": {
        "id": "RpBTuL5O-Lna",
        "colab_type": "code",
        "colab": {
          "base_uri": "https://localhost:8080/",
          "height": 279
        },
        "outputId": "7f144d92-e5f2-439f-f634-026206355513"
      },
      "source": [
        "# boxplot para comparar o nível de plaquetas no sangue entre as duas classes\n",
        "\n",
        "# outliers justificados, pois os valores variam muito.\n",
        "\n",
        "plt.boxplot([vivos.platelets, mortos.platelets], labels=['vivos', 'mortos'])\n",
        "plt.xlabel('Classes')\n",
        "plt.ylabel('Plaquetas no sangue')\n",
        "plt.show()"
      ],
      "execution_count": 212,
      "outputs": [
        {
          "output_type": "display_data",
          "data": {
            "image/png": "[encoded data removed]",
            "text/plain": [
              "<Figure size 432x288 with 1 Axes>"
            ]
          },
          "metadata": {
            "tags": [],
            "needs_background": "light"
          }
        }
      ]
    },
    {
      "cell_type": "code",
      "metadata": {
        "id": "M3ZsyRre_T2j",
        "colab_type": "code",
        "colab": {
          "base_uri": "https://localhost:8080/",
          "height": 279
        },
        "outputId": "4ba4e459-33f7-4a22-cb82-e8d9a09ff486"
      },
      "source": [
        "# boxplot para comparar nível de \"serum creatinine\" no sangue entre as duas classes\n",
        "# talvez exista uma correlação entre o nível de \"serum creatinine\" e a mortalidade da  \n",
        "# insuficiência cardiêca. \n",
        "\n",
        "# outliers justificados, pois os valores variam muito.\n",
        "\n",
        "\n",
        "plt.boxplot([vivos.serum_creatinine, mortos.serum_creatinine], labels=['vivos', 'mortos'])\n",
        "plt.xlabel('Classes')\n",
        "plt.ylabel('Nível de \"serum creatinine\"')\n",
        "plt.show()"
      ],
      "execution_count": 213,
      "outputs": [
        {
          "output_type": "display_data",
          "data": {
            "image/png": "[encoded data removed]",
            "text/plain": [
              "<Figure size 432x288 with 1 Axes>"
            ]
          },
          "metadata": {
            "tags": [],
            "needs_background": "light"
          }
        }
      ]
    },
    {
      "cell_type": "code",
      "metadata": {
        "id": "k6xoG5ZoAzUa",
        "colab_type": "code",
        "colab": {
          "base_uri": "https://localhost:8080/",
          "height": 281
        },
        "outputId": "295c2a89-3577-46f1-d257-68ab426d2c7c"
      },
      "source": [
        "# Com a distribuição de probabilidades abaixo, podemos observar que o nível de creatinina sérica \n",
        "# (serum_creatinine) pode  estar relacionado com a mortalidade da insuficiência cardieca.\n",
        "\n",
        "sns.distplot(vivos.serum_creatinine, hist=False, rug=False,label='vivos')\n",
        "sns.distplot(mortos.serum_creatinine, hist=False, rug=False,label='mortos')\n",
        "plt.xlabel('Níve de \"serum_creatinine\"')\n",
        "plt.ylabel('Probabilidades')\n",
        "plt.show()"
      ],
      "execution_count": 214,
      "outputs": [
        {
          "output_type": "display_data",
          "data": {
            "image/png": "[encoded data removed]",
            "text/plain": [
              "<Figure size 432x288 with 1 Axes>"
            ]
          },
          "metadata": {
            "tags": [],
            "needs_background": "light"
          }
        }
      ]
    },
    {
      "cell_type": "code",
      "metadata": {
        "id": "7yXQYtm9CAQj",
        "colab_type": "code",
        "colab": {
          "base_uri": "https://localhost:8080/",
          "height": 279
        },
        "outputId": "d9affdbb-bc94-4f3f-9e75-3b4535325aa7"
      },
      "source": [
        "# De acordo com o boxplot, talvez exista uma correlação entre a sódio sérico (serum_sodium) e a mortalidade\n",
        "# da insuficiência cardiéca, porém, precisamos ver mais a fundo e faremos isso com uma distribuição de \n",
        "# probabilidades.\n",
        "\n",
        "# Como representam uma medida que varia de acordo com estile de vida, genética, e etc, a presença \n",
        "# de outliers é justificada\n",
        "\n",
        "plt.boxplot([vivos.serum_sodium, mortos.serum_sodium], labels=['vivos', 'mortos'])\n",
        "plt.xlabel('Classes')\n",
        "plt.ylabel('')\n",
        "plt.show()"
      ],
      "execution_count": 215,
      "outputs": [
        {
          "output_type": "display_data",
          "data": {
            "image/png": "[encoded data removed]",
            "text/plain": [
              "<Figure size 432x288 with 1 Axes>"
            ]
          },
          "metadata": {
            "tags": [],
            "needs_background": "light"
          }
        }
      ]
    },
    {
      "cell_type": "code",
      "metadata": {
        "id": "5bdt0Ko5XCUr",
        "colab_type": "code",
        "colab": {
          "base_uri": "https://localhost:8080/",
          "height": 279
        },
        "outputId": "67b8e597-52f2-437a-bcd3-23f4a8f328f5"
      },
      "source": [
        "# Podemos observar no gráfico abaixo que os níveis de sódio sérico entre os vivos\n",
        "# atingem valores maiores que o dos mortos. A diferença é modesta e provavelmente não \n",
        "# é determinante para a previsão de morte por insuficiência cardiêca.\n",
        "\n",
        "sns.distplot(vivos.serum_sodium, hist=False, rug=False,label='vivos')\n",
        "sns.distplot(mortos.serum_sodium, hist=False, rug=False, label='mortos')\n",
        "plt.xlabel('Nível de sódio sérico')\n",
        "plt.ylabel('Probabilidades')\n",
        "plt.show()"
      ],
      "execution_count": 216,
      "outputs": [
        {
          "output_type": "display_data",
          "data": {
            "image/png": "[encoded data removed]",
            "text/plain": [
              "<Figure size 432x288 with 1 Axes>"
            ]
          },
          "metadata": {
            "tags": [],
            "needs_background": "light"
          }
        }
      ]
    },
    {
      "cell_type": "code",
      "metadata": {
        "id": "bBIaTsbwYilp",
        "colab_type": "code",
        "colab": {
          "base_uri": "https://localhost:8080/",
          "height": 317
        },
        "outputId": "7757198c-283d-4f42-f4be-ae3787526d0e"
      },
      "source": [
        "# verificando ocorrências de anemia (anaemia) nas classes\n",
        "\n",
        "va = vivos['anaemia'].value_counts()\n",
        "ma = mortos['anaemia'].value_counts()\n",
        "plt.bar(['vivos', 'mortos'], [va[1], ma[1]])\n",
        "plt.ylabel('Pessoas')\n",
        "plt.title('Ocorrências das Classes')\n",
        "plt.grid(True)\n",
        "plt.show()\n",
        "print(f\"Vivos com anemia: {va[1]}\")\n",
        "print(f\"Mortos que tiveram anemia: {ma[1]}\")\n",
        "\n"
      ],
      "execution_count": 217,
      "outputs": [
        {
          "output_type": "display_data",
          "data": {
            "image/png": "[encoded data removed]",
            "text/plain": [
              "<Figure size 432x288 with 1 Axes>"
            ]
          },
          "metadata": {
            "tags": [],
            "needs_background": "light"
          }
        },
        {
          "output_type": "stream",
          "text": [
            "Vivos com anemia: 83\n",
            "Mortos que tiveram anemia: 46\n"
          ],
          "name": "stdout"
        }
      ]
    },
    {
      "cell_type": "code",
      "metadata": {
        "id": "1hFWlfzmbnPI",
        "colab_type": "code",
        "colab": {
          "base_uri": "https://localhost:8080/",
          "height": 317
        },
        "outputId": "1bd8eb0f-e223-421f-f600-d19e6e10dc4a"
      },
      "source": [
        "# verificando ocorrências de fumantes \n",
        "\n",
        "\n",
        "vs = vivos['smoking'].value_counts()\n",
        "ms = mortos['smoking'].value_counts()\n",
        "plt.bar(['vivos', 'mortos'], [vs[1], ms[1]])\n",
        "plt.ylabel('Pessoas')\n",
        "plt.title('Ocorrências das Classes')\n",
        "plt.grid(True)\n",
        "plt.show()\n",
        "print(f\"Vivos fumantes: {vs[1]}\")\n",
        "print(f\"Mortos que fumavam: {ms[1]}\")"
      ],
      "execution_count": 218,
      "outputs": [
        {
          "output_type": "display_data",
          "data": {
            "image/png": "[encoded data removed]",
            "text/plain": [
              "<Figure size 432x288 with 1 Axes>"
            ]
          },
          "metadata": {
            "tags": [],
            "needs_background": "light"
          }
        },
        {
          "output_type": "stream",
          "text": [
            "Vivos fumantes: 66\n",
            "Mortos que fumavam: 30\n"
          ],
          "name": "stdout"
        }
      ]
    },
    {
      "cell_type": "code",
      "metadata": {
        "id": "gjEhLCnNcGG4",
        "colab_type": "code",
        "colab": {
          "base_uri": "https://localhost:8080/",
          "height": 317
        },
        "outputId": "9464a0b8-ac1a-415a-dd53-b26bf19377ea"
      },
      "source": [
        "# verificando ocorrências de diabetes nas classes\n",
        "\n",
        "\n",
        "vd = vivos['diabetes'].value_counts()\n",
        "md = mortos['diabetes'].value_counts()\n",
        "plt.bar(['vivos', 'mortos'], [vs[1], ms[1]])\n",
        "plt.ylabel('Pessoas')\n",
        "plt.title('Ocorrências das Classes')\n",
        "plt.grid(True)\n",
        "plt.show()\n",
        "print(f\"Vivos com diabetes: {vd[1]}\")\n",
        "print(f\"Mortos que tinham diabetes: {md[1]}\")"
      ],
      "execution_count": 219,
      "outputs": [
        {
          "output_type": "display_data",
          "data": {
            "image/png": "[encoded data removed]",
            "text/plain": [
              "<Figure size 432x288 with 1 Axes>"
            ]
          },
          "metadata": {
            "tags": [],
            "needs_background": "light"
          }
        },
        {
          "output_type": "stream",
          "text": [
            "Vivos com diabetes: 85\n",
            "Mortos que tinham diabetes: 40\n"
          ],
          "name": "stdout"
        }
      ]
    },
    {
      "cell_type": "code",
      "metadata": {
        "id": "pKbrVVgsmeE3",
        "colab_type": "code",
        "colab": {
          "base_uri": "https://localhost:8080/",
          "height": 317
        },
        "outputId": "51df715e-3631-40eb-bca5-c1c926b336fd"
      },
      "source": [
        "# verificando ocorrências de hipertensão entre as duas classes \n",
        "\n",
        "\n",
        "vh = vivos['high_blood_pressure'].value_counts()\n",
        "mh = mortos['high_blood_pressure'].value_counts()\n",
        "plt.bar(['vivos', 'mortos'], [vh[1], mh[1]])\n",
        "plt.ylabel('Pessoas')\n",
        "plt.title('Ocorrências das Classes')\n",
        "plt.grid(True)\n",
        "plt.show()\n",
        "print(f\"Vivos com hipertensão: {vh[1]}\")\n",
        "print(f\"Mortos que tinham hipertensão: {mh[1]}\")"
      ],
      "execution_count": 220,
      "outputs": [
        {
          "output_type": "display_data",
          "data": {
            "image/png": "[encoded data removed]",
            "text/plain": [
              "<Figure size 432x288 with 1 Axes>"
            ]
          },
          "metadata": {
            "tags": [],
            "needs_background": "light"
          }
        },
        {
          "output_type": "stream",
          "text": [
            "Vivos com hipertensão: 66\n",
            "Mortos que tinham hipertensão: 39\n"
          ],
          "name": "stdout"
        }
      ]
    },
    {
      "cell_type": "code",
      "metadata": {
        "id": "1_yeRIducFpo",
        "colab_type": "code",
        "colab": {
          "base_uri": "https://localhost:8080/",
          "height": 279
        },
        "outputId": "e9795250-9580-4a70-b6e7-d049e0a04f1d"
      },
      "source": [
        "# boxplot comparando a idade (age) nas duas classes\n",
        "\n",
        "plt.boxplot([vivos.age, mortos.age], labels=['vivos', 'mortos'])\n",
        "plt.xlabel('Classes')\n",
        "plt.ylabel('Idade')\n",
        "plt.show()"
      ],
      "execution_count": 221,
      "outputs": [
        {
          "output_type": "display_data",
          "data": {
            "image/png": "[encoded data removed]",
            "text/plain": [
              "<Figure size 432x288 with 1 Axes>"
            ]
          },
          "metadata": {
            "tags": [],
            "needs_background": "light"
          }
        }
      ]
    },
    {
      "cell_type": "code",
      "metadata": {
        "id": "MXq8OyPIlwaa",
        "colab_type": "code",
        "colab": {
          "base_uri": "https://localhost:8080/",
          "height": 279
        },
        "outputId": "c827200e-47bc-4fde-907b-0ee6202ea23b"
      },
      "source": [
        "# Podemos observar no gráfico abaixo que a idade provavelmente não é um fator determinanate \n",
        "# na previsão de morte por insuficiência cardíeca \n",
        "\n",
        "sns.distplot(vivos.age, hist=False, rug=False,label='vivos')\n",
        "sns.distplot(mortos.age, hist=False, rug=False, label='mortos')\n",
        "plt.xlabel('Idade')\n",
        "plt.ylabel('Probabilidades')\n",
        "plt.show()"
      ],
      "execution_count": 222,
      "outputs": [
        {
          "output_type": "display_data",
          "data": {
            "image/png": "[encoded data removed]",
            "text/plain": [
              "<Figure size 432x288 with 1 Axes>"
            ]
          },
          "metadata": {
            "tags": [],
            "needs_background": "light"
          }
        }
      ]
    },
    {
      "cell_type": "markdown",
      "metadata": {
        "id": "SDOeGgJIni0n",
        "colab_type": "text"
      },
      "source": [
        "**Até agora, os atributos mais promissores para a previsão de morte por insuficência cardíeca foram: serum_creatinine e ejection_fraction.**\n",
        "\n",
        "**Apesar dos atributos serum_sodium e platelets apresentarem certa diferença entre as classes, a diferença é modesta demais para ser considerada determinante na discriminação**"
      ]
    },
    {
      "cell_type": "markdown",
      "metadata": {
        "id": "WvPHEm_812dg",
        "colab_type": "text"
      },
      "source": [
        "## Analise estatística dos dados"
      ]
    },
    {
      "cell_type": "code",
      "metadata": {
        "id": "RfNwjGfIoyJN",
        "colab_type": "code",
        "colab": {
          "base_uri": "https://localhost:8080/",
          "height": 235
        },
        "outputId": "c7c7ab88-afdb-4cf7-94b9-9c13ab5b4e4a"
      },
      "source": [
        "# analisando a média dos atributos da classe vivos\n",
        "vivos.mean()"
      ],
      "execution_count": 223,
      "outputs": [
        {
          "output_type": "execute_result",
          "data": {
            "text/plain": [
              "age                             58.761906\n",
              "anaemia                          0.408867\n",
              "creatinine_phosphokinase       540.054187\n",
              "diabetes                         0.418719\n",
              "ejection_fraction               40.266010\n",
              "high_blood_pressure              0.325123\n",
              "platelets                   266657.489901\n",
              "serum_creatinine                 1.184877\n",
              "serum_sodium                   137.216749\n",
              "sex                              0.650246\n",
              "smoking                          0.325123\n",
              "dtype: float64"
            ]
          },
          "metadata": {
            "tags": []
          },
          "execution_count": 223
        }
      ]
    },
    {
      "cell_type": "code",
      "metadata": {
        "id": "gbh3eYn12SDn",
        "colab_type": "code",
        "colab": {
          "base_uri": "https://localhost:8080/",
          "height": 235
        },
        "outputId": "c20c2abb-09a8-4ea4-c718-3fae5621e85e"
      },
      "source": [
        "# analisando a média dos atributos da classe mortos\n",
        "mortos.mean()"
      ],
      "execution_count": 224,
      "outputs": [
        {
          "output_type": "execute_result",
          "data": {
            "text/plain": [
              "age                             65.215281\n",
              "anaemia                          0.479167\n",
              "creatinine_phosphokinase       670.197917\n",
              "diabetes                         0.416667\n",
              "ejection_fraction               33.468750\n",
              "high_blood_pressure              0.406250\n",
              "platelets                   256381.044792\n",
              "serum_creatinine                 1.835833\n",
              "serum_sodium                   135.375000\n",
              "sex                              0.645833\n",
              "smoking                          0.312500\n",
              "dtype: float64"
            ]
          },
          "metadata": {
            "tags": []
          },
          "execution_count": 224
        }
      ]
    },
    {
      "cell_type": "code",
      "metadata": {
        "id": "O-9Nyeb64it-",
        "colab_type": "code",
        "colab": {
          "base_uri": "https://localhost:8080/",
          "height": 235
        },
        "outputId": "1c511938-437c-41b1-84a4-99657f05b24e"
      },
      "source": [
        "# analisando a mediana dos atributos da classe vivos\n",
        "vivos.median()"
      ],
      "execution_count": 226,
      "outputs": [
        {
          "output_type": "execute_result",
          "data": {
            "text/plain": [
              "age                             60.0\n",
              "anaemia                          0.0\n",
              "creatinine_phosphokinase       245.0\n",
              "diabetes                         0.0\n",
              "ejection_fraction               38.0\n",
              "high_blood_pressure              0.0\n",
              "platelets                   263000.0\n",
              "serum_creatinine                 1.0\n",
              "serum_sodium                   137.0\n",
              "sex                              1.0\n",
              "smoking                          0.0\n",
              "dtype: float64"
            ]
          },
          "metadata": {
            "tags": []
          },
          "execution_count": 226
        }
      ]
    },
    {
      "cell_type": "code",
      "metadata": {
        "id": "VfE2OjtO4rR1",
        "colab_type": "code",
        "colab": {
          "base_uri": "https://localhost:8080/",
          "height": 235
        },
        "outputId": "6420ae53-b680-4ebf-f9ed-187be587c773"
      },
      "source": [
        "# analisando a mediana dos atributos da classe mortos\n",
        "mortos.median()"
      ],
      "execution_count": 227,
      "outputs": [
        {
          "output_type": "execute_result",
          "data": {
            "text/plain": [
              "age                             65.0\n",
              "anaemia                          0.0\n",
              "creatinine_phosphokinase       259.0\n",
              "diabetes                         0.0\n",
              "ejection_fraction               30.0\n",
              "high_blood_pressure              0.0\n",
              "platelets                   258500.0\n",
              "serum_creatinine                 1.3\n",
              "serum_sodium                   135.5\n",
              "sex                              1.0\n",
              "smoking                          0.0\n",
              "dtype: float64"
            ]
          },
          "metadata": {
            "tags": []
          },
          "execution_count": 227
        }
      ]
    },
    {
      "cell_type": "code",
      "metadata": {
        "id": "B1aT5katMyRO",
        "colab_type": "code",
        "colab": {
          "base_uri": "https://localhost:8080/",
          "height": 101
        },
        "outputId": "559ae6e6-d88a-4d34-b06f-3ab4193cb447"
      },
      "source": [
        "# analisando a moda dos atributos da classe vivos\n",
        "vivos.mode()"
      ],
      "execution_count": 284,
      "outputs": [
        {
          "output_type": "execute_result",
          "data": {
            "text/html": [
              "<div>\n",
              "<style scoped>\n",
              "    .dataframe tbody tr th:only-of-type {\n",
              "        vertical-align: middle;\n",
              "    }\n",
              "\n",
              "    .dataframe tbody tr th {\n",
              "        vertical-align: top;\n",
              "    }\n",
              "\n",
              "    .dataframe thead th {\n",
              "        text-align: right;\n",
              "    }\n",
              "</style>\n",
              "<table border=\"1\" class=\"dataframe\">\n",
              "  <thead>\n",
              "    <tr style=\"text-align: right;\">\n",
              "      <th></th>\n",
              "      <th>age</th>\n",
              "      <th>anaemia</th>\n",
              "      <th>creatinine_phosphokinase</th>\n",
              "      <th>diabetes</th>\n",
              "      <th>ejection_fraction</th>\n",
              "      <th>high_blood_pressure</th>\n",
              "      <th>platelets</th>\n",
              "      <th>serum_creatinine</th>\n",
              "      <th>serum_sodium</th>\n",
              "      <th>sex</th>\n",
              "      <th>smoking</th>\n",
              "    </tr>\n",
              "  </thead>\n",
              "  <tbody>\n",
              "    <tr>\n",
              "      <th>0</th>\n",
              "      <td>60.0</td>\n",
              "      <td>0</td>\n",
              "      <td>582</td>\n",
              "      <td>0</td>\n",
              "      <td>35</td>\n",
              "      <td>0</td>\n",
              "      <td>263358.03</td>\n",
              "      <td>1.0</td>\n",
              "      <td>137</td>\n",
              "      <td>1</td>\n",
              "      <td>0</td>\n",
              "    </tr>\n",
              "  </tbody>\n",
              "</table>\n",
              "</div>"
            ],
            "text/plain": [
              "    age  anaemia  creatinine_phosphokinase  ...  serum_sodium  sex  smoking\n",
              "0  60.0        0                       582  ...           137    1        0\n",
              "\n",
              "[1 rows x 11 columns]"
            ]
          },
          "metadata": {
            "tags": []
          },
          "execution_count": 284
        }
      ]
    },
    {
      "cell_type": "code",
      "metadata": {
        "id": "h1fUNzTWMyd7",
        "colab_type": "code",
        "colab": {
          "base_uri": "https://localhost:8080/",
          "height": 101
        },
        "outputId": "c0efb48c-985e-4ebf-e7fd-5d9d84126034"
      },
      "source": [
        "# analisando a moda dos atributos da classe mortos\n",
        "\n",
        "# comparando com os valores da moda da classe vivos, podemos obeservar que a moda de alguns valores não\n",
        "# possuem diferença, podendo atrapalhar na classificação. Melhor evitar o uso.\n",
        "mortos.mode()"
      ],
      "execution_count": 285,
      "outputs": [
        {
          "output_type": "execute_result",
          "data": {
            "text/html": [
              "<div>\n",
              "<style scoped>\n",
              "    .dataframe tbody tr th:only-of-type {\n",
              "        vertical-align: middle;\n",
              "    }\n",
              "\n",
              "    .dataframe tbody tr th {\n",
              "        vertical-align: top;\n",
              "    }\n",
              "\n",
              "    .dataframe thead th {\n",
              "        text-align: right;\n",
              "    }\n",
              "</style>\n",
              "<table border=\"1\" class=\"dataframe\">\n",
              "  <thead>\n",
              "    <tr style=\"text-align: right;\">\n",
              "      <th></th>\n",
              "      <th>age</th>\n",
              "      <th>anaemia</th>\n",
              "      <th>creatinine_phosphokinase</th>\n",
              "      <th>diabetes</th>\n",
              "      <th>ejection_fraction</th>\n",
              "      <th>high_blood_pressure</th>\n",
              "      <th>platelets</th>\n",
              "      <th>serum_creatinine</th>\n",
              "      <th>serum_sodium</th>\n",
              "      <th>sex</th>\n",
              "      <th>smoking</th>\n",
              "    </tr>\n",
              "  </thead>\n",
              "  <tbody>\n",
              "    <tr>\n",
              "      <th>0</th>\n",
              "      <td>60.0</td>\n",
              "      <td>0</td>\n",
              "      <td>582</td>\n",
              "      <td>0</td>\n",
              "      <td>25</td>\n",
              "      <td>0</td>\n",
              "      <td>263358.03</td>\n",
              "      <td>1.0</td>\n",
              "      <td>134</td>\n",
              "      <td>1</td>\n",
              "      <td>0</td>\n",
              "    </tr>\n",
              "  </tbody>\n",
              "</table>\n",
              "</div>"
            ],
            "text/plain": [
              "    age  anaemia  creatinine_phosphokinase  ...  serum_sodium  sex  smoking\n",
              "0  60.0        0                       582  ...           134    1        0\n",
              "\n",
              "[1 rows x 11 columns]"
            ]
          },
          "metadata": {
            "tags": []
          },
          "execution_count": 285
        }
      ]
    },
    {
      "cell_type": "code",
      "metadata": {
        "id": "Wqu4_VaM3Dxf",
        "colab_type": "code",
        "colab": {
          "base_uri": "https://localhost:8080/",
          "height": 235
        },
        "outputId": "92a4a609-111c-42a0-a0ef-0bf12d82ab57"
      },
      "source": [
        "# analisando a variância dos atributos da classe vivos\n",
        "vivos.var()"
      ],
      "execution_count": 228,
      "outputs": [
        {
          "output_type": "execute_result",
          "data": {
            "text/plain": [
              "age                         1.131647e+02\n",
              "anaemia                     2.428913e-01\n",
              "creatinine_phosphokinase    5.682138e+05\n",
              "diabetes                    2.445984e-01\n",
              "ejection_fraction           1.179388e+02\n",
              "high_blood_pressure         2.205043e-01\n",
              "platelets                   9.512335e+09\n",
              "serum_creatinine            4.278241e-01\n",
              "serum_sodium                1.586368e+01\n",
              "sex                         2.285519e-01\n",
              "smoking                     2.205043e-01\n",
              "dtype: float64"
            ]
          },
          "metadata": {
            "tags": []
          },
          "execution_count": 228
        }
      ]
    },
    {
      "cell_type": "code",
      "metadata": {
        "id": "4qsLhMNP4BVV",
        "colab_type": "code",
        "colab": {
          "base_uri": "https://localhost:8080/",
          "height": 235
        },
        "outputId": "6b850f3e-ad68-4cac-8bf2-0b946f33a08c"
      },
      "source": [
        "# analisando a variância dos atributos da classe mortos\n",
        "mortos.var()"
      ],
      "execution_count": 229,
      "outputs": [
        {
          "output_type": "execute_result",
          "data": {
            "text/plain": [
              "age                         1.746245e+02\n",
              "anaemia                     2.521930e-01\n",
              "creatinine_phosphokinase    1.733385e+06\n",
              "diabetes                    2.456140e-01\n",
              "ejection_fraction           1.568832e+02\n",
              "high_blood_pressure         2.437500e-01\n",
              "platelets                   9.707310e+09\n",
              "serum_creatinine            2.156673e+00\n",
              "serum_sodium                2.501579e+01\n",
              "sex                         2.311404e-01\n",
              "smoking                     2.171053e-01\n",
              "dtype: float64"
            ]
          },
          "metadata": {
            "tags": []
          },
          "execution_count": 229
        }
      ]
    },
    {
      "cell_type": "code",
      "metadata": {
        "id": "u_OxRZa078e_",
        "colab_type": "code",
        "colab": {
          "base_uri": "https://localhost:8080/",
          "height": 235
        },
        "outputId": "029a1ec4-1957-4e66-82f0-94730720e087"
      },
      "source": [
        "# analisando o desvio padrão dos atributos da classe vivos\n",
        "vivos.std()"
      ],
      "execution_count": 230,
      "outputs": [
        {
          "output_type": "execute_result",
          "data": {
            "text/plain": [
              "age                            10.637890\n",
              "anaemia                         0.492840\n",
              "creatinine_phosphokinase      753.799572\n",
              "diabetes                        0.494569\n",
              "ejection_fraction              10.859963\n",
              "high_blood_pressure             0.469579\n",
              "platelets                   97531.202283\n",
              "serum_creatinine                0.654083\n",
              "serum_sodium                    3.982923\n",
              "sex                             0.478071\n",
              "smoking                         0.469579\n",
              "dtype: float64"
            ]
          },
          "metadata": {
            "tags": []
          },
          "execution_count": 230
        }
      ]
    },
    {
      "cell_type": "code",
      "metadata": {
        "id": "Rvz2I_uY4VwO",
        "colab_type": "code",
        "colab": {
          "base_uri": "https://localhost:8080/",
          "height": 235
        },
        "outputId": "5bfe65fd-d4d2-4ac9-e182-e3dbfed994bc"
      },
      "source": [
        "# analisando o desvio padrão dos atributos da classe mortos\n",
        "mortos.std()"
      ],
      "execution_count": 231,
      "outputs": [
        {
          "output_type": "execute_result",
          "data": {
            "text/plain": [
              "age                            13.214556\n",
              "anaemia                         0.502188\n",
              "creatinine_phosphokinase     1316.580640\n",
              "diabetes                        0.495595\n",
              "ejection_fraction              12.525303\n",
              "high_blood_pressure             0.493710\n",
              "platelets                   98525.682856\n",
              "serum_creatinine                1.468562\n",
              "serum_sodium                    5.001579\n",
              "sex                             0.480771\n",
              "smoking                         0.465946\n",
              "dtype: float64"
            ]
          },
          "metadata": {
            "tags": []
          },
          "execution_count": 231
        }
      ]
    },
    {
      "cell_type": "code",
      "metadata": {
        "id": "BxeRbp3HA_Lv",
        "colab_type": "code",
        "colab": {
          "base_uri": "https://localhost:8080/",
          "height": 235
        },
        "outputId": "51e90331-b588-4b69-97d9-f753b3771426"
      },
      "source": [
        "# Com as informações abaixo, é perceptível que a média dos valores possuem diferença entre as classes.\n",
        "# sendo útil para a classificação.\n",
        "\n",
        "colunas = list(dados.columns)\n",
        "colunas.remove('DEATH_EVENT')\n",
        "print(' '*10, 'V',' '*20, 'M')\n",
        "for c in colunas:\n",
        "  print(f'{c}:     {vivos[c].mean()} | {mortos[c].mean()}')"
      ],
      "execution_count": 278,
      "outputs": [
        {
          "output_type": "stream",
          "text": [
            "           V                      M\n",
            "age:     58.76190640394089 | 65.21528125\n",
            "anaemia:     0.4088669950738916 | 0.4791666666666667\n",
            "creatinine_phosphokinase:     540.0541871921182 | 670.1979166666666\n",
            "diabetes:     0.4187192118226601 | 0.4166666666666667\n",
            "ejection_fraction:     40.26600985221675 | 33.46875\n",
            "high_blood_pressure:     0.3251231527093596 | 0.40625\n",
            "platelets:     266657.4899014779 | 256381.0447916667\n",
            "serum_creatinine:     1.184876847290641 | 1.8358333333333332\n",
            "serum_sodium:     137.2167487684729 | 135.375\n",
            "sex:     0.6502463054187192 | 0.6458333333333334\n",
            "smoking:     0.3251231527093596 | 0.3125\n"
          ],
          "name": "stdout"
        }
      ]
    },
    {
      "cell_type": "code",
      "metadata": {
        "id": "OGirRUo_GQXW",
        "colab_type": "code",
        "colab": {
          "base_uri": "https://localhost:8080/",
          "height": 235
        },
        "outputId": "d20844a4-c1d2-4fe3-aa99-1f9743e04e80"
      },
      "source": [
        "# Com as informações abaixo, é perceptível que os valores da variância são distintos entre as classes.\n",
        "# sendo útil na classificação \n",
        "\n",
        "# também é observável que os dados estão mais \"espalhados\" na classe mortos, pois, a variança, na maior parte\n",
        "# das vezes, é maior nessa classe.\n",
        "\n",
        "colunas = list(dados.columns)\n",
        "colunas.remove('DEATH_EVENT')\n",
        "print(' '*15, 'V', ' '*15, 'M')\n",
        "for c in colunas:\n",
        "  print(f'{c}:     {vivos[c].var()} | {mortos[c].var()}')"
      ],
      "execution_count": 293,
      "outputs": [
        {
          "output_type": "stream",
          "text": [
            "                V                 M\n",
            "age:     113.1647084713947 | 174.62448075164468\n",
            "anaemia:     0.24289128420231204 | 0.25219298245613997\n",
            "creatinine_phosphokinase:     568213.7940789146 | 1733384.5814692995\n",
            "diabetes:     0.24459835146076203 | 0.2456140350877193\n",
            "ejection_fraction:     117.93878944544699 | 156.88322368421052\n",
            "high_blood_pressure:     0.22050431644149687 | 0.24375\n",
            "platelets:     9512335418.857391 | 9707310182.337013\n",
            "serum_creatinine:     0.42782411842169504 | 2.1566729824561404\n",
            "serum_sodium:     15.863678486075212 | 25.01578947368421\n",
            "sex:     0.22855191923133272 | 0.23114035087719312\n",
            "smoking:     0.22050431644149687 | 0.21710526315789475\n"
          ],
          "name": "stdout"
        }
      ]
    },
    {
      "cell_type": "code",
      "metadata": {
        "id": "egkN89gHGIxd",
        "colab_type": "code",
        "colab": {
          "base_uri": "https://localhost:8080/",
          "height": 235
        },
        "outputId": "63ad96ba-9ab9-4617-b54d-ce391ad5e8d1"
      },
      "source": [
        "# Com as informações abaixo, é perceptível que os valores do desvio padrão são distintos entre as classes.\n",
        "# sendo útil na classificação .\n",
        "\n",
        "# também é observável que os dados estão mais \"espalhados\" em relação a média na classe mortos, pois, \n",
        "# o desvio padrão, na maior parte das vezes, é maior nessa classe.\n",
        "\n",
        "\n",
        "colunas = list(dados.columns)\n",
        "colunas.remove('DEATH_EVENT')\n",
        "print(' '*15, 'V', ' '*15, 'M')\n",
        "for c in colunas:\n",
        "  print(f'{c}:     {vivos[c].std()} | {mortos[c].std()}')"
      ],
      "execution_count": 294,
      "outputs": [
        {
          "output_type": "stream",
          "text": [
            "                V                 M\n",
            "age:     10.637890226515534 | 13.214555639583372\n",
            "anaemia:     0.49284001887256684 | 0.5021881942620117\n",
            "creatinine_phosphokinase:     753.7995715566005 | 1316.5806399417013\n",
            "diabetes:     0.4945688541151394 | 0.4955946277833521\n",
            "ejection_fraction:     10.859962681586294 | 12.52530333701386\n",
            "high_blood_pressure:     0.4695788713746572 | 0.49371044145328746\n",
            "platelets:     97531.20228346101 | 98525.68285648678\n",
            "serum_creatinine:     0.6540826541207885 | 1.4685615351275343\n",
            "serum_sodium:     3.9829233593022115 | 5.00157869813964\n",
            "sex:     0.4780710399421123 | 0.48077058029500214\n",
            "smoking:     0.4695788713746572 | 0.46594555814804667\n"
          ],
          "name": "stdout"
        }
      ]
    },
    {
      "cell_type": "code",
      "metadata": {
        "id": "-6oXF1iwQ2J2",
        "colab_type": "code",
        "colab": {}
      },
      "source": [
        ""
      ],
      "execution_count": null,
      "outputs": []
    },
    {
      "cell_type": "markdown",
      "metadata": {
        "id": "TN3hSpDKZUuB",
        "colab_type": "text"
      },
      "source": [
        "# **lembrar de corrigir interpretação e ortografía de gráficos**\n",
        "\n",
        "\n",
        "\n",
        "\n",
        "\n"
      ]
    },
    {
      "cell_type": "code",
      "metadata": {
        "id": "Jt0KtPUuZV8I",
        "colab_type": "code",
        "colab": {}
      },
      "source": [
        ""
      ],
      "execution_count": 231,
      "outputs": []
    }
  ]
}